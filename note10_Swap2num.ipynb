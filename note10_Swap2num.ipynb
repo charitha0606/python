{
  "nbformat": 4,
  "nbformat_minor": 0,
  "metadata": {
    "colab": {
      "provenance": [],
      "authorship_tag": "ABX9TyMnvaRUbtgow32Px2TPs1r8",
      "include_colab_link": true
    },
    "kernelspec": {
      "name": "python3",
      "display_name": "Python 3"
    },
    "language_info": {
      "name": "python"
    }
  },
  "cells": [
    {
      "cell_type": "markdown",
      "metadata": {
        "id": "view-in-github",
        "colab_type": "text"
      },
      "source": [
        "<a href=\"https://colab.research.google.com/github/charitha0606/python/blob/main/note10_Swap2num.ipynb\" target=\"_parent\"><img src=\"https://colab.research.google.com/assets/colab-badge.svg\" alt=\"Open In Colab\"/></a>"
      ]
    },
    {
      "cell_type": "markdown",
      "source": [
        "different ways to swap two numbers:\n",
        "-- suppose we have two variables a and b and we want to swap the value of a and b\n",
        "-- we can do this by directly assigning the value of b to a and a to b lead to loose of value of a and b\n",
        "-- we can do this by using temp variable\n",
        "-- we can do this by using xor operator\n",
        "-- we can do this by using python technique\n",
        "\n",
        "directly assigning leads to loose of value\n",
        "a=5\n",
        "b=6\n",
        "a=b  \n",
        "print(a)\n",
        "6\n",
        "print(b)\n",
        "6\n",
        "a=5 # resign the value of a to 5\n",
        "\n",
        "use temp variable for swapping\n",
        "temp=a\n",
        "a=b\n",
        "b=temp\n",
        "print(a)\n",
        "6\n",
        "print(b)\n",
        "5\n",
        "\n",
        "#without using third variable we can swap the value\n",
        "a=a+b\n",
        "b=a-b\n",
        "a=a-b\n",
        "\n",
        "print(a)\n",
        "5\n",
        "print(b)\n",
        "6\n",
        "\n",
        "#use of xor operator for swapping\n",
        "a=a^b\n",
        "b=a^b\n",
        "a=a^b\n",
        "print(a)\n",
        "6\n",
        "print(b)\n",
        "5\n",
        "\n",
        "in python we have another technique\n",
        "a,b=b,a\n",
        "print(a)\n",
        "5\n",
        "print(b)\n",
        "6"
      ],
      "metadata": {
        "id": "GexLd-JGF_2R"
      }
    },
    {
      "cell_type": "code",
      "source": [
        "#using temp variable\n",
        "a=6\n",
        "b=5\n",
        "temp=a\n",
        "a=b\n",
        "b=temp\n",
        "print(a)\n",
        "print(b)"
      ],
      "metadata": {
        "colab": {
          "base_uri": "https://localhost:8080/"
        },
        "id": "voaJFCKGGHDs",
        "outputId": "456fd219-6a05-4160-8fd9-4e30ed31ae2c"
      },
      "execution_count": null,
      "outputs": [
        {
          "output_type": "stream",
          "name": "stdout",
          "text": [
            "5\n",
            "6\n"
          ]
        }
      ]
    },
    {
      "cell_type": "code",
      "source": [
        "#without using third variable\n",
        "a=6\n",
        "b=5\n",
        "a=a+b\n",
        "b=a-b\n",
        "a=a-b\n",
        "print(a)\n",
        "print(b)"
      ],
      "metadata": {
        "colab": {
          "base_uri": "https://localhost:8080/"
        },
        "id": "6dnbc95zHCYn",
        "outputId": "b414c519-8cc8-4d8e-a5a7-ef8b4374ea15"
      },
      "execution_count": null,
      "outputs": [
        {
          "output_type": "stream",
          "name": "stdout",
          "text": [
            "5\n",
            "6\n"
          ]
        }
      ]
    },
    {
      "cell_type": "code",
      "source": [
        "#using xor(not waste extra bits(memory))\n",
        "a=6\n",
        "b=5\n",
        "a=a^b\n",
        "b=a^b\n",
        "a=a^b\n",
        "print(a)\n",
        "print(b)"
      ],
      "metadata": {
        "colab": {
          "base_uri": "https://localhost:8080/"
        },
        "id": "d_9sNogAHUyO",
        "outputId": "842c88be-0b8f-4f47-d6f7-558ac06b489a"
      },
      "execution_count": null,
      "outputs": [
        {
          "output_type": "stream",
          "name": "stdout",
          "text": [
            "5\n",
            "6\n"
          ]
        }
      ]
    },
    {
      "cell_type": "code",
      "source": [
        "#in python we have another technique\n",
        "a=6\n",
        "b=5\n",
        "a,b=b,a\n",
        "print(a)\n",
        "print(b)"
      ],
      "metadata": {
        "colab": {
          "base_uri": "https://localhost:8080/"
        },
        "id": "CZw3relzHqSd",
        "outputId": "338387d4-73bc-4750-eebc-4ca0bf4e4971"
      },
      "execution_count": null,
      "outputs": [
        {
          "output_type": "stream",
          "name": "stdout",
          "text": [
            "5\n",
            "6\n"
          ]
        }
      ]
    }
  ]
}