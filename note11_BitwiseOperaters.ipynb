{
  "nbformat": 4,
  "nbformat_minor": 0,
  "metadata": {
    "colab": {
      "provenance": [],
      "authorship_tag": "ABX9TyNuFyXn9i1A57ViNh4+Ilz7",
      "include_colab_link": true
    },
    "kernelspec": {
      "name": "python3",
      "display_name": "Python 3"
    },
    "language_info": {
      "name": "python"
    }
  },
  "cells": [
    {
      "cell_type": "markdown",
      "metadata": {
        "id": "view-in-github",
        "colab_type": "text"
      },
      "source": [
        "<a href=\"https://colab.research.google.com/github/charitha0606/python/blob/main/note11_BitwiseOperaters.ipynb\" target=\"_parent\"><img src=\"https://colab.research.google.com/assets/colab-badge.svg\" alt=\"Open In Colab\"/></a>"
      ]
    },
    {
      "cell_type": "markdown",
      "source": [
        "#1\n",
        "- In bitwise operations, the integers are first converted into binary and then operations are performed by bitwise operators on each bit or corresponding pair of bits.\n",
        "- The result is returned in decimal format by the bitwise operators.\n",
        "- There are six types of binary operators:-\n",
        "1. Complement (~)\n",
        "2. And (&)\n",
        "3. Or (|)\n",
        "4. XOR (^)\n",
        "5. Left Shift\n",
        "6. Right Shift\n",
        "\n",
        "#2\n",
        "- Complement operator is also known as tilde(~) operator.\n",
        "- Complement simply do the reverse of binary form. If a bit is 0 then it makes it 1 and vice-versa.\n",
        "- Reverse of each bit of a number returns the 1's complement.\n",
        "- We can store only positive numbers in our system and that's why we find the 2's complement of each negative number.\n",
        " 2's complement = 1's complement +1\n",
        "\n",
        "#3\n",
        "-AND operator will return true if both the conditions are true while the OR operator will return true if at least one condition is true.\n",
        "\n",
        "#4\n",
        "- XOR operator will return 1 or true when there is an odd number of 1 bit present in operations and if there is an even number of 1, then it will return 0.\n",
        "\n",
        "#5\n",
        "- Leftshift operator shift bits on the left-hand side. The right-shift operator shifts bits on the right-hand side.\n",
        "- Leftshift add the bits while the right-side removes the bits.\n"
      ],
      "metadata": {
        "id": "ipWZ4m-iILw1"
      }
    },
    {
      "cell_type": "code",
      "source": [
        "1\n",
        "#1complement\n",
        "~12"
      ],
      "metadata": {
        "colab": {
          "base_uri": "https://localhost:8080/"
        },
        "id": "OOrMnIhvJBjJ",
        "outputId": "93ac4c46-74f7-42a3-9878-59a84a3fe1d3"
      },
      "execution_count": null,
      "outputs": [
        {
          "output_type": "execute_result",
          "data": {
            "text/plain": [
              "-13"
            ]
          },
          "metadata": {},
          "execution_count": 4
        }
      ]
    },
    {
      "cell_type": "code",
      "source": [
        "~121"
      ],
      "metadata": {
        "colab": {
          "base_uri": "https://localhost:8080/"
        },
        "id": "CV79tuwnKY-_",
        "outputId": "2d70bc87-68ef-4965-ad39-a0a8e4e55e07"
      },
      "execution_count": null,
      "outputs": [
        {
          "output_type": "execute_result",
          "data": {
            "text/plain": [
              "-122"
            ]
          },
          "metadata": {},
          "execution_count": 3
        }
      ]
    },
    {
      "cell_type": "code",
      "source": [
        "1\n",
        "#2 And (&)\n",
        "12 & 13"
      ],
      "metadata": {
        "colab": {
          "base_uri": "https://localhost:8080/"
        },
        "id": "5AkdU873LJ4K",
        "outputId": "857281f8-ee17-4ee7-998a-7d1aa0ad0565"
      },
      "execution_count": null,
      "outputs": [
        {
          "output_type": "execute_result",
          "data": {
            "text/plain": [
              "12"
            ]
          },
          "metadata": {},
          "execution_count": 5
        }
      ]
    },
    {
      "cell_type": "code",
      "source": [
        "1\n",
        "#3 OR (|)\n",
        "12|13"
      ],
      "metadata": {
        "colab": {
          "base_uri": "https://localhost:8080/"
        },
        "id": "o38LSv1eLQXL",
        "outputId": "a99c9fec-b29a-481a-d9db-d0c8ce7666f2"
      },
      "execution_count": null,
      "outputs": [
        {
          "output_type": "execute_result",
          "data": {
            "text/plain": [
              "13"
            ]
          },
          "metadata": {},
          "execution_count": 6
        }
      ]
    },
    {
      "cell_type": "code",
      "source": [
        "bin(30)"
      ],
      "metadata": {
        "colab": {
          "base_uri": "https://localhost:8080/",
          "height": 35
        },
        "id": "KPGRDq6RMH7G",
        "outputId": "34133e38-3185-4f0c-8734-1e9ce6e01365"
      },
      "execution_count": null,
      "outputs": [
        {
          "output_type": "execute_result",
          "data": {
            "text/plain": [
              "'0b11110'"
            ],
            "application/vnd.google.colaboratory.intrinsic+json": {
              "type": "string"
            }
          },
          "metadata": {},
          "execution_count": 9
        }
      ]
    },
    {
      "cell_type": "code",
      "source": [
        "bin(25)"
      ],
      "metadata": {
        "colab": {
          "base_uri": "https://localhost:8080/",
          "height": 35
        },
        "id": "0x_gRIsPNmQR",
        "outputId": "fac5dc56-08bf-4289-d4ea-80562426e71e"
      },
      "execution_count": null,
      "outputs": [
        {
          "output_type": "execute_result",
          "data": {
            "text/plain": [
              "'0b11001'"
            ],
            "application/vnd.google.colaboratory.intrinsic+json": {
              "type": "string"
            }
          },
          "metadata": {},
          "execution_count": 10
        }
      ]
    },
    {
      "cell_type": "code",
      "source": [
        "25&30"
      ],
      "metadata": {
        "colab": {
          "base_uri": "https://localhost:8080/"
        },
        "id": "jPGFHt61NocC",
        "outputId": "62de332b-3efd-42fc-9491-3bfda46cbf45"
      },
      "execution_count": null,
      "outputs": [
        {
          "output_type": "execute_result",
          "data": {
            "text/plain": [
              "24"
            ]
          },
          "metadata": {},
          "execution_count": 11
        }
      ]
    },
    {
      "cell_type": "code",
      "source": [
        "1\n",
        "#4 XOR (^)\n",
        "25^30"
      ],
      "metadata": {
        "colab": {
          "base_uri": "https://localhost:8080/"
        },
        "id": "nS8D8nb7OShN",
        "outputId": "43d5c1f5-6f72-4b85-c8ec-b06f3a5d70e6"
      },
      "execution_count": null,
      "outputs": [
        {
          "output_type": "execute_result",
          "data": {
            "text/plain": [
              "7"
            ]
          },
          "metadata": {},
          "execution_count": 13
        }
      ]
    },
    {
      "cell_type": "code",
      "source": [
        "1\n",
        "#5 Leftshift\n",
        "10<<2 #here 2 is bits"
      ],
      "metadata": {
        "colab": {
          "base_uri": "https://localhost:8080/"
        },
        "id": "qxymMpXyQLVI",
        "outputId": "3b2be06c-6143-469b-fd10-d5d8fb7c001e"
      },
      "execution_count": null,
      "outputs": [
        {
          "output_type": "execute_result",
          "data": {
            "text/plain": [
              "40"
            ]
          },
          "metadata": {},
          "execution_count": 17
        }
      ]
    },
    {
      "cell_type": "code",
      "source": [
        "#Rightshift\n",
        "10>>2 #here 2 is bits"
      ],
      "metadata": {
        "colab": {
          "base_uri": "https://localhost:8080/"
        },
        "id": "OwE7-WmrQVRU",
        "outputId": "f18462bc-9d74-499d-be3e-5a8e45d727be"
      },
      "execution_count": null,
      "outputs": [
        {
          "output_type": "execute_result",
          "data": {
            "text/plain": [
              "2"
            ]
          },
          "metadata": {},
          "execution_count": 16
        }
      ]
    }
  ]
}