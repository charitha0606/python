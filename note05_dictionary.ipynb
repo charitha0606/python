{
  "nbformat": 4,
  "nbformat_minor": 0,
  "metadata": {
    "colab": {
      "provenance": [],
      "authorship_tag": "ABX9TyNf9bp59I6wTVUStgRVnipk",
      "include_colab_link": true
    },
    "kernelspec": {
      "name": "python3",
      "display_name": "Python 3"
    },
    "language_info": {
      "name": "python"
    }
  },
  "cells": [
    {
      "cell_type": "markdown",
      "metadata": {
        "id": "view-in-github",
        "colab_type": "text"
      },
      "source": [
        "<a href=\"https://colab.research.google.com/github/charitha0606/python/blob/main/note05_dictionary.ipynb\" target=\"_parent\"><img src=\"https://colab.research.google.com/assets/colab-badge.svg\" alt=\"Open In Colab\"/></a>"
      ]
    },
    {
      "cell_type": "markdown",
      "source": [
        "property of dictionary:\n",
        "-- key must be immutable and unique\n",
        "   immutable means we can't change the value\n",
        "   unique means we can't repeat the key\n",
        "-- value can be anything\n",
        "-- we can access the value by using key\n",
        "-- we can't access the value by using index\n",
        "-- we can't access the value by using value\n",
        "\n",
        "\n",
        "fetching the value from dictionary\n",
        "data[4] # we can access the value by using key here key is 4\n",
        "data[3] # you get error because key is not present in dictionary\n",
        "\n",
        "get() method:\n",
        "-- we can access the value by using get() method\n",
        "-- if key is present in dictionary then it will return the value\n",
        "-- if key is not present in dictionary then it will return None\n",
        "data.get(1)\n",
        "data.get(3) # not get  anything\n",
        "print(data.get(3)) # it will return None\n",
        "data.get(1,'Not Found')\n",
        "data.get(3,'Not Found')\n",
        "\n",
        "use of zip() method:\n",
        "-- we can combine the two list by using zip() method\n",
        "-- it will return the tuple\n",
        "keys = ['Navin','Kiran','Harsh']\n",
        "values=['Python','Java','JS']\n",
        "\n",
        "use of dict() method:\n",
        "-- we can convert the tuple into dictionary by using dict() method\n",
        "data=dict(zip(keys,values))\n",
        "data['Kiran']\n",
        "data['Monika'] # it will give error because key is not present in dictionary\n",
        "\n",
        "add the value in dictionary:\n",
        "data['Monika']='CS'\n",
        "data\n",
        "\n",
        "delete the value from dictionary:\n",
        "del data['Harsh']\n",
        "\n",
        "Nested Dictionary:\n",
        "-- we can store the dictionary inside the dictionary\n",
        "prog={'JS':'Atom','CS':'VS','Python':['Pycharm','Sublime'],'Java':{'JSE':'Netbeans','JEE':'Eclipse'}}\n",
        "prog\n",
        "prog['JS']\n",
        "prog['python'][1]\n",
        "prog['Java']\n",
        "prog['Java']['JEE']\n"
      ],
      "metadata": {
        "id": "jG8QoWrbO7ba"
      }
    },
    {
      "cell_type": "code",
      "execution_count": null,
      "metadata": {
        "id": "kXdTvEJhO0fP"
      },
      "outputs": [],
      "source": [
        "dic={1:'Charitha',4:'Kammari'}"
      ]
    },
    {
      "cell_type": "code",
      "source": [
        "dic"
      ],
      "metadata": {
        "colab": {
          "base_uri": "https://localhost:8080/"
        },
        "id": "yQ6B9vXD_ZM1",
        "outputId": "4ec65c13-b066-4ffc-94ec-faa8090403c2"
      },
      "execution_count": null,
      "outputs": [
        {
          "output_type": "execute_result",
          "data": {
            "text/plain": [
              "{1: 'Charitha', 4: 'Kammari'}"
            ]
          },
          "metadata": {},
          "execution_count": 2
        }
      ]
    },
    {
      "cell_type": "code",
      "source": [
        "dic[1]"
      ],
      "metadata": {
        "colab": {
          "base_uri": "https://localhost:8080/",
          "height": 35
        },
        "id": "WIuM5SLc_bAD",
        "outputId": "079e6df9-107f-4c00-be2d-7e8110c7bced"
      },
      "execution_count": null,
      "outputs": [
        {
          "output_type": "execute_result",
          "data": {
            "text/plain": [
              "'Charitha'"
            ],
            "application/vnd.google.colaboratory.intrinsic+json": {
              "type": "string"
            }
          },
          "metadata": {},
          "execution_count": 3
        }
      ]
    },
    {
      "cell_type": "code",
      "source": [
        "dic[4]"
      ],
      "metadata": {
        "colab": {
          "base_uri": "https://localhost:8080/",
          "height": 35
        },
        "id": "sJqAhWha_dLn",
        "outputId": "6ca8ed3d-6643-4f14-dd5d-194846a811b2"
      },
      "execution_count": null,
      "outputs": [
        {
          "output_type": "execute_result",
          "data": {
            "text/plain": [
              "'Kammari'"
            ],
            "application/vnd.google.colaboratory.intrinsic+json": {
              "type": "string"
            }
          },
          "metadata": {},
          "execution_count": 4
        }
      ]
    },
    {
      "cell_type": "code",
      "source": [
        "dic[2]"
      ],
      "metadata": {
        "colab": {
          "base_uri": "https://localhost:8080/",
          "height": 176
        },
        "id": "aadE1V7W_fOX",
        "outputId": "c4d25c51-e5c0-4784-e609-4862e3ec5fd3"
      },
      "execution_count": null,
      "outputs": [
        {
          "output_type": "error",
          "ename": "KeyError",
          "evalue": "2",
          "traceback": [
            "\u001b[0;31m---------------------------------------------------------------------------\u001b[0m",
            "\u001b[0;31mKeyError\u001b[0m                                  Traceback (most recent call last)",
            "\u001b[0;32m<ipython-input-6-f9d6f1c3d59c>\u001b[0m in \u001b[0;36m<cell line: 1>\u001b[0;34m()\u001b[0m\n\u001b[0;32m----> 1\u001b[0;31m \u001b[0mdic\u001b[0m\u001b[0;34m[\u001b[0m\u001b[0;36m2\u001b[0m\u001b[0;34m]\u001b[0m\u001b[0;34m\u001b[0m\u001b[0;34m\u001b[0m\u001b[0m\n\u001b[0m",
            "\u001b[0;31mKeyError\u001b[0m: 2"
          ]
        }
      ]
    },
    {
      "cell_type": "code",
      "source": [
        "dic.get(2)"
      ],
      "metadata": {
        "id": "RV2qntYa_iYB"
      },
      "execution_count": null,
      "outputs": []
    },
    {
      "cell_type": "code",
      "source": [
        "print(dic.get(2))"
      ],
      "metadata": {
        "colab": {
          "base_uri": "https://localhost:8080/"
        },
        "id": "cBX8g3ii_oTe",
        "outputId": "b41b81a2-1057-4f6b-a02c-cf9e6dabf885"
      },
      "execution_count": null,
      "outputs": [
        {
          "output_type": "stream",
          "name": "stdout",
          "text": [
            "None\n"
          ]
        }
      ]
    },
    {
      "cell_type": "code",
      "source": [
        "dic.get(1,'Not Found')"
      ],
      "metadata": {
        "colab": {
          "base_uri": "https://localhost:8080/",
          "height": 35
        },
        "id": "6ODDJ1ap_7FW",
        "outputId": "b321ee09-61ae-4c5b-d377-99ed525ba56d"
      },
      "execution_count": null,
      "outputs": [
        {
          "output_type": "execute_result",
          "data": {
            "text/plain": [
              "'Charitha'"
            ],
            "application/vnd.google.colaboratory.intrinsic+json": {
              "type": "string"
            }
          },
          "metadata": {},
          "execution_count": 12
        }
      ]
    },
    {
      "cell_type": "code",
      "source": [
        "dic.get(2,'Not Found')"
      ],
      "metadata": {
        "colab": {
          "base_uri": "https://localhost:8080/",
          "height": 35
        },
        "id": "UvOJ99sEAJB8",
        "outputId": "fae28bc9-6f1e-4611-ff7c-d2f2a097295e"
      },
      "execution_count": null,
      "outputs": [
        {
          "output_type": "execute_result",
          "data": {
            "text/plain": [
              "'Not Found'"
            ],
            "application/vnd.google.colaboratory.intrinsic+json": {
              "type": "string"
            }
          },
          "metadata": {},
          "execution_count": 13
        }
      ]
    },
    {
      "cell_type": "code",
      "source": [
        "#to merge two data's in dictionary\n",
        "A=['Charitha','bhu','bha']\n",
        "B=['python','java','C']\n",
        "dic=dict(zip(A,B))"
      ],
      "metadata": {
        "id": "zdqnIVrPBBcF"
      },
      "execution_count": null,
      "outputs": []
    },
    {
      "cell_type": "code",
      "source": [
        "dic"
      ],
      "metadata": {
        "colab": {
          "base_uri": "https://localhost:8080/"
        },
        "id": "bl_uEiuZBkWt",
        "outputId": "3c28c7af-8a27-4546-f9cf-82d3e1e09ca5"
      },
      "execution_count": null,
      "outputs": [
        {
          "output_type": "execute_result",
          "data": {
            "text/plain": [
              "{'Charitha': 'python', 'bhu': 'java', 'bha': 'C'}"
            ]
          },
          "metadata": {},
          "execution_count": 20
        }
      ]
    },
    {
      "cell_type": "code",
      "source": [
        "dic['Charitha']"
      ],
      "metadata": {
        "colab": {
          "base_uri": "https://localhost:8080/",
          "height": 35
        },
        "id": "mUSTcbuCB8Oe",
        "outputId": "cd5cd530-9e80-4dba-8ea0-4c9b83a46d7e"
      },
      "execution_count": null,
      "outputs": [
        {
          "output_type": "execute_result",
          "data": {
            "text/plain": [
              "'python'"
            ],
            "application/vnd.google.colaboratory.intrinsic+json": {
              "type": "string"
            }
          },
          "metadata": {},
          "execution_count": 21
        }
      ]
    },
    {
      "cell_type": "code",
      "source": [
        "#to add data in dictionary\n",
        "dic['Indhu']='C++'"
      ],
      "metadata": {
        "id": "uO1t5L-eBvf2"
      },
      "execution_count": null,
      "outputs": []
    },
    {
      "cell_type": "code",
      "source": [
        "dic"
      ],
      "metadata": {
        "colab": {
          "base_uri": "https://localhost:8080/"
        },
        "id": "XskMFTurCPnK",
        "outputId": "8c22c09a-b854-4a53-a814-fd5a210457b3"
      },
      "execution_count": null,
      "outputs": [
        {
          "output_type": "execute_result",
          "data": {
            "text/plain": [
              "{'Charitha': 'python', 'bhu': 'java', 'bha': 'C', 'Indhu': 'C++'}"
            ]
          },
          "metadata": {},
          "execution_count": 24
        }
      ]
    },
    {
      "cell_type": "code",
      "source": [
        "del dic['Charitha']"
      ],
      "metadata": {
        "id": "2xfP9yEACVyX"
      },
      "execution_count": null,
      "outputs": []
    },
    {
      "cell_type": "code",
      "source": [
        "dic"
      ],
      "metadata": {
        "colab": {
          "base_uri": "https://localhost:8080/"
        },
        "id": "nF231Hp0CdUZ",
        "outputId": "87efa00e-c526-478a-bb7c-ed34632daeff"
      },
      "execution_count": null,
      "outputs": [
        {
          "output_type": "execute_result",
          "data": {
            "text/plain": [
              "{'bhu': 'java', 'bha': 'C', 'Indhu': 'C++'}"
            ]
          },
          "metadata": {},
          "execution_count": 26
        }
      ]
    },
    {
      "cell_type": "markdown",
      "source": [
        "Nested Dictionary: -- we can store the dictionary inside the dictionary prog={'JS':'Atom','CS':'VS','Python':['Pycharm','Sublime'],'Java':{'JSE':'Netbeans','JEE':'Eclipse'}} prog prog['JS'] prog['python'][1] prog['Java'] prog['Java']['JEE']"
      ],
      "metadata": {
        "id": "UEWiHFRCDeif"
      }
    },
    {
      "cell_type": "code",
      "source": [
        "#combination of lists and dictionary\n",
        "data={'AP':'Indhu','PN':'Dheeru','KN':['bhavana','bhumika'],'Friends':{'Ap':'cherry','Kn':'bhaa','Kna':'bhuu'}}"
      ],
      "metadata": {
        "id": "ekv_unVDDVTf"
      },
      "execution_count": null,
      "outputs": []
    },
    {
      "cell_type": "code",
      "source": [
        "data"
      ],
      "metadata": {
        "colab": {
          "base_uri": "https://localhost:8080/"
        },
        "id": "7nYxPJbtFN6F",
        "outputId": "f48338d9-0f30-4920-efdd-ace3adce86a2"
      },
      "execution_count": null,
      "outputs": [
        {
          "output_type": "execute_result",
          "data": {
            "text/plain": [
              "{'AP': 'Indhu',\n",
              " 'PN': 'Dheeru',\n",
              " 'KN': ['bhavana', 'bhumika'],\n",
              " 'Friends': {'Ap': 'cherry', 'Kn': 'bhaa'}}"
            ]
          },
          "metadata": {},
          "execution_count": 33
        }
      ]
    },
    {
      "cell_type": "code",
      "source": [
        "data['AP']"
      ],
      "metadata": {
        "colab": {
          "base_uri": "https://localhost:8080/",
          "height": 35
        },
        "id": "vFjtV2yKFaAt",
        "outputId": "b67235e7-f161-421f-8cc4-c453a5063b3f"
      },
      "execution_count": null,
      "outputs": [
        {
          "output_type": "execute_result",
          "data": {
            "text/plain": [
              "'Indhu'"
            ],
            "application/vnd.google.colaboratory.intrinsic+json": {
              "type": "string"
            }
          },
          "metadata": {},
          "execution_count": 34
        }
      ]
    },
    {
      "cell_type": "code",
      "source": [
        "data['PN']"
      ],
      "metadata": {
        "colab": {
          "base_uri": "https://localhost:8080/",
          "height": 35
        },
        "id": "Ipd2k7STFeC-",
        "outputId": "ec62da13-caa2-491e-bafa-c66e90191a03"
      },
      "execution_count": null,
      "outputs": [
        {
          "output_type": "execute_result",
          "data": {
            "text/plain": [
              "'Dheeru'"
            ],
            "application/vnd.google.colaboratory.intrinsic+json": {
              "type": "string"
            }
          },
          "metadata": {},
          "execution_count": 35
        }
      ]
    },
    {
      "cell_type": "code",
      "source": [
        "data['KN'][0]"
      ],
      "metadata": {
        "colab": {
          "base_uri": "https://localhost:8080/",
          "height": 35
        },
        "id": "KqxliMr7FhRF",
        "outputId": "51d3091d-a59d-4537-e612-834478cd216a"
      },
      "execution_count": null,
      "outputs": [
        {
          "output_type": "execute_result",
          "data": {
            "text/plain": [
              "'bhavana'"
            ],
            "application/vnd.google.colaboratory.intrinsic+json": {
              "type": "string"
            }
          },
          "metadata": {},
          "execution_count": 36
        }
      ]
    },
    {
      "cell_type": "code",
      "source": [
        "data['Friends']"
      ],
      "metadata": {
        "colab": {
          "base_uri": "https://localhost:8080/"
        },
        "id": "LVtUCg9bF0XH",
        "outputId": "8abdfd3e-a9c6-4642-afbe-834c019dc37d"
      },
      "execution_count": null,
      "outputs": [
        {
          "output_type": "execute_result",
          "data": {
            "text/plain": [
              "{'Ap': 'cherry', 'Kn': 'bhaa', 'Kna': 'bhuu'}"
            ]
          },
          "metadata": {},
          "execution_count": 40
        }
      ]
    },
    {
      "cell_type": "code",
      "source": [
        "data['Friends']['Kn']"
      ],
      "metadata": {
        "colab": {
          "base_uri": "https://localhost:8080/",
          "height": 35
        },
        "id": "CYZFkzTVFm6Q",
        "outputId": "c5ce44bf-4e85-4d21-89ad-ff21e7e40bb9"
      },
      "execution_count": null,
      "outputs": [
        {
          "output_type": "execute_result",
          "data": {
            "text/plain": [
              "'bhaa'"
            ],
            "application/vnd.google.colaboratory.intrinsic+json": {
              "type": "string"
            }
          },
          "metadata": {},
          "execution_count": 41
        }
      ]
    },
    {
      "cell_type": "code",
      "source": [
        "#wrong syntax\n",
        "#always use key to fetch values.\n",
        "data['Friends']['bhaa']"
      ],
      "metadata": {
        "colab": {
          "base_uri": "https://localhost:8080/",
          "height": 211
        },
        "id": "Xj3qHJ4IFzgS",
        "outputId": "64f7a625-72c9-412b-c0f1-3723e6e70a37"
      },
      "execution_count": null,
      "outputs": [
        {
          "output_type": "error",
          "ename": "KeyError",
          "evalue": "'bhaa'",
          "traceback": [
            "\u001b[0;31m---------------------------------------------------------------------------\u001b[0m",
            "\u001b[0;31mKeyError\u001b[0m                                  Traceback (most recent call last)",
            "\u001b[0;32m<ipython-input-44-e87b5fdd7aab>\u001b[0m in \u001b[0;36m<cell line: 3>\u001b[0;34m()\u001b[0m\n\u001b[1;32m      1\u001b[0m \u001b[0;31m#wrong syntax\u001b[0m\u001b[0;34m\u001b[0m\u001b[0;34m\u001b[0m\u001b[0m\n\u001b[1;32m      2\u001b[0m \u001b[0;31m#always use key to fetch values.\u001b[0m\u001b[0;34m\u001b[0m\u001b[0;34m\u001b[0m\u001b[0m\n\u001b[0;32m----> 3\u001b[0;31m \u001b[0mdata\u001b[0m\u001b[0;34m[\u001b[0m\u001b[0;34m'Friends'\u001b[0m\u001b[0;34m]\u001b[0m\u001b[0;34m[\u001b[0m\u001b[0;34m'bhaa'\u001b[0m\u001b[0;34m]\u001b[0m\u001b[0;34m\u001b[0m\u001b[0;34m\u001b[0m\u001b[0m\n\u001b[0m",
            "\u001b[0;31mKeyError\u001b[0m: 'bhaa'"
          ]
        }
      ]
    }
  ]
}