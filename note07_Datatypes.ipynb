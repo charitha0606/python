{
  "nbformat": 4,
  "nbformat_minor": 0,
  "metadata": {
    "colab": {
      "provenance": [],
      "authorship_tag": "ABX9TyMtUwa+lGA+QxMxfosDe/z/",
      "include_colab_link": true
    },
    "kernelspec": {
      "name": "python3",
      "display_name": "Python 3"
    },
    "language_info": {
      "name": "python"
    }
  },
  "cells": [
    {
      "cell_type": "markdown",
      "metadata": {
        "id": "view-in-github",
        "colab_type": "text"
      },
      "source": [
        "<a href=\"https://colab.research.google.com/github/charitha0606/python/blob/main/note07_Datatypes.ipynb\" target=\"_parent\"><img src=\"https://colab.research.google.com/assets/colab-badge.svg\" alt=\"Open In Colab\"/></a>"
      ]
    },
    {
      "cell_type": "markdown",
      "source": [
        "Python has several built-in data types. Here are some of the most common ones:\n",
        "\n",
        "i) NoneType: This is a special data type that represents the absence of a value. It is similar to null in other languages.\n",
        "ii) Numbers: These can be integers, floating-point numbers, or complex numbers.\n",
        "iii) Booleans: These are values that represent True or False.\n",
        "iv) Lists: These are ordered collections of objects, enclosed in square brackets.\n",
        "v) Tuples: These are similar to lists, but are immutable (i.e., their contents cannot be changed), and are enclosed in parentheses.\n",
        "vi) Sets: These are unordered collections of unique elements, enclosed in curly braces.\n",
        "vii) Strings: These are sequences of characters, enclosed in single or double quotes.\n",
        "viii) Ranges: These are immutable sequences of numbers, and are commonly used to iterate over a sequence of numbers in a for loop.\n",
        "ix) Dictionaries: These are collections of key-value pairs, enclosed in curly braces.\n",
        "\n",
        "\n",
        "\n",
        "i)None Type\n",
        "a=None\n",
        "type(a)\n",
        "\n",
        "ii)Numbers\n",
        "int: if you want to assign a integer value to a variable\n",
        "a=5\n",
        "type(a)\n",
        "\n",
        "float: if you want to assign a float value to a variable\n",
        "num =2.5\n",
        "type(num)\n",
        "\n",
        "complex: if you want to assign a complex value to a variable\n",
        "num =2+9j\n",
        "type(num)\n",
        "\n",
        "type conversion:  if you want to convert one data type to another data type\n",
        "a=5.6\n",
        "b=int(a)\n",
        "type(b) # output : int\n",
        "k=float(b)\n",
        "type(k) # output : float\n",
        "c=complex(4,5)\n",
        "type(c) # output : complex\n",
        "\n",
        "iii)boolean: if you want to assign a variable with a boolean value\n",
        "a= True\n",
        "type(a)  # output : bool\n",
        "bool=3 less then5\n",
        "True\n",
        "type(bool)\n",
        "\n",
        "\n",
        "Sequence data types : if you want to assign a variable with multiple values\n",
        "List, Tuple, Set, String, Range.\n",
        "\n",
        "iv) List  if you want to assign a variable with multiple values and you want to change the values\n",
        "-- In Python, a list is a collection of ordered and mutable elements enclosed\n",
        "in square brackets. Lists are one of the most commonly used data structures in\n",
        "Python because of their versatility and flexibility.\n",
        "\n",
        "lst=[25,36,45,12]\n",
        "type(lst) # output : list\n",
        "\n",
        "\n",
        "v) Tuple:  if you want to assign a variable with multiple values and you donot want to change the values make immutable\n",
        "-- In Python, a tuple is a collection of ordered and immutable elements enclosed in parentheses.\n",
        "Tuples are similar to lists, but they cannot be modified once they are created, which makes them\n",
        "useful for storing data that should not be changed during the program's execution.\n",
        "\n",
        "t=(25,36,45,12,7)\n",
        "type(t) # output : tuple\n",
        "\n",
        "vi) Set:  if you want to assign a variable with multiple values and you donot want to change the values and you donot want to duplicate values\n",
        "-- In Python, a set is an unordered collection of unique elements enclosed in curly braces.\n",
        "Sets are useful for storing data that should not contain duplicates, such as a list of\n",
        "users on a website.\n",
        "\n",
        "s={25,36,45,12,25,36}\n",
        "type(s) # output : set\n",
        "#output: {36, 12, 45, 25}\n",
        "\n",
        "vii) String: if you want to assign sequence of characters to a variable\n",
        "-- In Python, a string is a sequence of characters enclosed in single or double quotes.\n",
        "Strings are immutable, which means that they cannot be modified once they are created.\n",
        "\n",
        "str = \"hello\"\n",
        "type(str) # output : str\n",
        "\n",
        "we are not talk about char data type in python\n",
        "st='a' # every character is a string in python\n",
        "\n",
        "viii) Range: if you want to assign a variable with multiple values and you don't want to change the values and you want to generate a sequence of numbers\n",
        "-- In Python, a range is a sequence of numbers that is immutable and iterable.\n",
        "Ranges are commonly used to iterate over a sequence of numbers in a for loop.\n",
        "\n",
        "range(10) # range data type\n",
        "type(range(10))  # output : range\n",
        "list(range(2,10,2)) # output : [2, 4, 6, 8]\n",
        "\n",
        "ix) Dictionary:  if you want to assign a variable with multiple values and you donot want to change the values and you want to assign a key to each value\n",
        "-- In Python, a dictionary is a collection of key-value pairs enclosed in curly braces.\n",
        "Dictionaries are useful for storing data that is associated with a key, such as a list of\n",
        "users on a website and their corresponding email addresses.\n",
        "\n",
        "d={1:'a',2:'b',3:'c'}\n",
        "type(d)\n",
        "\n",
        "d1={'navin':'samsung','rahul':'iphone','kiran':'oneplus'}\n",
        "d1.values() # output : dict_values(['samsung', 'iphone', 'oneplus'])\n",
        "d1.keys()  # output : dict_keys(['navin', 'rahul', 'kiran'])\n",
        "d['rahul'] #output : 'iphone'\n",
        "d1.get('kiran') #output : 'oneplus'"
      ],
      "metadata": {
        "id": "0o3RnkV4NgUX"
      }
    },
    {
      "cell_type": "markdown",
      "source": [
        "(i) None Type a=None type(a)"
      ],
      "metadata": {
        "id": "m9ALIXc5Zxxl"
      }
    },
    {
      "cell_type": "markdown",
      "source": [
        "Numbers: These can be integers, floating-point numbers, or complex numbers.\n",
        "#(ii)Numeric:\n",
        "Int\n",
        "Float\n",
        "Complex\n",
        "Bool"
      ],
      "metadata": {
        "id": "hoLnvlPXRdkV"
      }
    },
    {
      "cell_type": "code",
      "source": [
        "a=2"
      ],
      "metadata": {
        "id": "V4CKccvZRdVI"
      },
      "execution_count": null,
      "outputs": []
    },
    {
      "cell_type": "code",
      "source": [
        "type(a)"
      ],
      "metadata": {
        "colab": {
          "base_uri": "https://localhost:8080/"
        },
        "id": "qkhBy2yORY30",
        "outputId": "8cd89082-78a4-43cc-d1d6-28256be5e2a6"
      },
      "execution_count": null,
      "outputs": [
        {
          "output_type": "execute_result",
          "data": {
            "text/plain": [
              "int"
            ]
          },
          "metadata": {},
          "execution_count": 3
        }
      ]
    },
    {
      "cell_type": "code",
      "source": [
        "b=a"
      ],
      "metadata": {
        "id": "7huS91A-R1Bb"
      },
      "execution_count": null,
      "outputs": []
    },
    {
      "cell_type": "code",
      "source": [
        "type(b)"
      ],
      "metadata": {
        "colab": {
          "base_uri": "https://localhost:8080/"
        },
        "id": "n1PiA9ivR3SQ",
        "outputId": "1b1845ec-026f-4106-9f54-357aaff93983"
      },
      "execution_count": null,
      "outputs": [
        {
          "output_type": "execute_result",
          "data": {
            "text/plain": [
              "int"
            ]
          },
          "metadata": {},
          "execution_count": 5
        }
      ]
    },
    {
      "cell_type": "code",
      "source": [
        "a=2.5"
      ],
      "metadata": {
        "id": "0b0MkM47R5IC"
      },
      "execution_count": null,
      "outputs": []
    },
    {
      "cell_type": "code",
      "source": [
        "type(a)"
      ],
      "metadata": {
        "colab": {
          "base_uri": "https://localhost:8080/"
        },
        "id": "2gDgOIxaR7kC",
        "outputId": "310cbafa-c4c3-420f-9c11-741e23a53a61"
      },
      "execution_count": null,
      "outputs": [
        {
          "output_type": "execute_result",
          "data": {
            "text/plain": [
              "float"
            ]
          },
          "metadata": {},
          "execution_count": 7
        }
      ]
    },
    {
      "cell_type": "code",
      "source": [
        "type(b)"
      ],
      "metadata": {
        "colab": {
          "base_uri": "https://localhost:8080/"
        },
        "id": "SU2bOgVsR9S1",
        "outputId": "46b65de9-39e7-4420-aabf-b059964b9600"
      },
      "execution_count": null,
      "outputs": [
        {
          "output_type": "execute_result",
          "data": {
            "text/plain": [
              "int"
            ]
          },
          "metadata": {},
          "execution_count": 8
        }
      ]
    },
    {
      "cell_type": "code",
      "source": [
        "#complex\n",
        "c=6+9j"
      ],
      "metadata": {
        "id": "FUapiX6-R-wa"
      },
      "execution_count": null,
      "outputs": []
    },
    {
      "cell_type": "code",
      "source": [
        "type(c)"
      ],
      "metadata": {
        "colab": {
          "base_uri": "https://localhost:8080/"
        },
        "id": "a86iZslKSjtW",
        "outputId": "5aa41eac-ec3c-4b5c-d07b-bf0f0311fa83"
      },
      "execution_count": null,
      "outputs": [
        {
          "output_type": "execute_result",
          "data": {
            "text/plain": [
              "complex"
            ]
          },
          "metadata": {},
          "execution_count": 19
        }
      ]
    },
    {
      "cell_type": "code",
      "source": [
        "d=9"
      ],
      "metadata": {
        "id": "mjaxxUmpSqVb"
      },
      "execution_count": null,
      "outputs": []
    },
    {
      "cell_type": "code",
      "source": [
        "k=float(d)\n",
        "d\n",
        "k"
      ],
      "metadata": {
        "colab": {
          "base_uri": "https://localhost:8080/"
        },
        "id": "rX9zfWaKSzpf",
        "outputId": "5008d382-68ba-457c-8f62-97a7492c481e"
      },
      "execution_count": null,
      "outputs": [
        {
          "output_type": "execute_result",
          "data": {
            "text/plain": [
              "9.0"
            ]
          },
          "metadata": {},
          "execution_count": 36
        }
      ]
    },
    {
      "cell_type": "code",
      "source": [
        "f=complex(a,k)\n",
        "f"
      ],
      "metadata": {
        "colab": {
          "base_uri": "https://localhost:8080/"
        },
        "id": "L4BVRuhETZtL",
        "outputId": "2fda8997-5951-4cbb-d918-caef814a4ad5"
      },
      "execution_count": null,
      "outputs": [
        {
          "output_type": "execute_result",
          "data": {
            "text/plain": [
              "(2.5+9j)"
            ]
          },
          "metadata": {},
          "execution_count": 38
        }
      ]
    },
    {
      "cell_type": "code",
      "source": [
        "#Bool\n",
        "d<a"
      ],
      "metadata": {
        "colab": {
          "base_uri": "https://localhost:8080/"
        },
        "id": "1AVmDvT7TiuW",
        "outputId": "77657960-fdf6-4546-a581-38b1f16919f1"
      },
      "execution_count": null,
      "outputs": [
        {
          "output_type": "execute_result",
          "data": {
            "text/plain": [
              "False"
            ]
          },
          "metadata": {},
          "execution_count": 39
        }
      ]
    },
    {
      "cell_type": "code",
      "source": [
        "d>a"
      ],
      "metadata": {
        "colab": {
          "base_uri": "https://localhost:8080/"
        },
        "id": "d8ccDOIPTm0r",
        "outputId": "a9f7b26e-c50b-4abd-d825-0f461b3bda12"
      },
      "execution_count": null,
      "outputs": [
        {
          "output_type": "execute_result",
          "data": {
            "text/plain": [
              "True"
            ]
          },
          "metadata": {},
          "execution_count": 42
        }
      ]
    },
    {
      "cell_type": "code",
      "source": [
        "ad=20\n",
        "bd=20\n",
        "boo=ad<bd\n",
        "boo"
      ],
      "metadata": {
        "colab": {
          "base_uri": "https://localhost:8080/"
        },
        "id": "ai5YCoh3Tv1X",
        "outputId": "1821c104-bb1e-44da-bc1a-bdc451dfb524"
      },
      "execution_count": null,
      "outputs": [
        {
          "output_type": "execute_result",
          "data": {
            "text/plain": [
              "False"
            ]
          },
          "metadata": {},
          "execution_count": 46
        }
      ]
    },
    {
      "cell_type": "code",
      "source": [
        "type(boo)"
      ],
      "metadata": {
        "colab": {
          "base_uri": "https://localhost:8080/"
        },
        "id": "YZvqBr7PUGvI",
        "outputId": "23cdf7e6-1d7b-42d1-aff9-366ed704ed3a"
      },
      "execution_count": null,
      "outputs": [
        {
          "output_type": "execute_result",
          "data": {
            "text/plain": [
              "bool"
            ]
          },
          "metadata": {},
          "execution_count": 47
        }
      ]
    },
    {
      "cell_type": "code",
      "source": [
        "\n",
        "int(True)"
      ],
      "metadata": {
        "colab": {
          "base_uri": "https://localhost:8080/"
        },
        "id": "eANVYA9GUiMZ",
        "outputId": "1614b771-ebec-4941-98bc-78d9aa912efc"
      },
      "execution_count": null,
      "outputs": [
        {
          "output_type": "execute_result",
          "data": {
            "text/plain": [
              "1"
            ]
          },
          "metadata": {},
          "execution_count": 51
        }
      ]
    },
    {
      "cell_type": "code",
      "source": [
        "int(False)"
      ],
      "metadata": {
        "colab": {
          "base_uri": "https://localhost:8080/"
        },
        "id": "cv7YtxMVUs2e",
        "outputId": "4ea5bd93-90e7-42f3-b645-66c6fcf58ca3"
      },
      "execution_count": null,
      "outputs": [
        {
          "output_type": "execute_result",
          "data": {
            "text/plain": [
              "0"
            ]
          },
          "metadata": {},
          "execution_count": 52
        }
      ]
    },
    {
      "cell_type": "markdown",
      "source": [
        "#(iii)Sequence\n",
        "1.List\n",
        "2.Tuple\n",
        "3.Set\n",
        "4.String\n",
        "5.Range"
      ],
      "metadata": {
        "id": "4hRJ-pZjVB9O"
      }
    },
    {
      "cell_type": "code",
      "source": [
        "#1-List\n",
        "a=[1,2,3,4,4,5]\n",
        "a\n"
      ],
      "metadata": {
        "colab": {
          "base_uri": "https://localhost:8080/"
        },
        "id": "Ba3nUzAyVQ-R",
        "outputId": "11469eeb-5b2e-4831-8ad3-efe8d13c7401"
      },
      "execution_count": null,
      "outputs": [
        {
          "output_type": "execute_result",
          "data": {
            "text/plain": [
              "[1, 2, 3, 4, 4, 5]"
            ]
          },
          "metadata": {},
          "execution_count": 54
        }
      ]
    },
    {
      "cell_type": "code",
      "source": [
        "type(a)"
      ],
      "metadata": {
        "colab": {
          "base_uri": "https://localhost:8080/"
        },
        "id": "-tua9TDHWMKR",
        "outputId": "8d0cb68c-aa3b-4c90-d922-aa8cd7c024a1"
      },
      "execution_count": null,
      "outputs": [
        {
          "output_type": "execute_result",
          "data": {
            "text/plain": [
              "list"
            ]
          },
          "metadata": {},
          "execution_count": 55
        }
      ]
    },
    {
      "cell_type": "code",
      "source": [
        "#2-Tuple\n",
        "b=(1,1,2,4,5,6)\n",
        "b"
      ],
      "metadata": {
        "colab": {
          "base_uri": "https://localhost:8080/"
        },
        "id": "ChLkSWPgWPVu",
        "outputId": "d4e3501f-ef77-4962-9a70-c6913900a19a"
      },
      "execution_count": null,
      "outputs": [
        {
          "output_type": "execute_result",
          "data": {
            "text/plain": [
              "(1, 1, 2, 4, 5, 6)"
            ]
          },
          "metadata": {},
          "execution_count": 56
        }
      ]
    },
    {
      "cell_type": "code",
      "source": [
        "type(b)"
      ],
      "metadata": {
        "colab": {
          "base_uri": "https://localhost:8080/"
        },
        "id": "x_NH_BLLWYLZ",
        "outputId": "78fa0661-1eb5-409d-b8d0-55e6793e0141"
      },
      "execution_count": null,
      "outputs": [
        {
          "output_type": "execute_result",
          "data": {
            "text/plain": [
              "tuple"
            ]
          },
          "metadata": {},
          "execution_count": 57
        }
      ]
    },
    {
      "cell_type": "code",
      "source": [
        "#3-Set - will not repeat duplicate values.\n",
        "c={1,2,2,4,6,7}\n",
        "c"
      ],
      "metadata": {
        "colab": {
          "base_uri": "https://localhost:8080/"
        },
        "id": "umAUpWfyWZ1b",
        "outputId": "6b19f020-570a-47b7-ce6a-7d5bc9cb52a1"
      },
      "execution_count": null,
      "outputs": [
        {
          "output_type": "execute_result",
          "data": {
            "text/plain": [
              "{1, 2, 4, 6, 7}"
            ]
          },
          "metadata": {},
          "execution_count": 59
        }
      ]
    },
    {
      "cell_type": "code",
      "source": [
        "type(c)"
      ],
      "metadata": {
        "colab": {
          "base_uri": "https://localhost:8080/"
        },
        "id": "0zDfeG7MWoKn",
        "outputId": "6da49028-00c3-46b6-aa50-ddec1bf6f5b8"
      },
      "execution_count": null,
      "outputs": [
        {
          "output_type": "execute_result",
          "data": {
            "text/plain": [
              "set"
            ]
          },
          "metadata": {},
          "execution_count": 60
        }
      ]
    },
    {
      "cell_type": "code",
      "source": [
        "#4-String\n",
        "d='Cherry'\n",
        "d"
      ],
      "metadata": {
        "colab": {
          "base_uri": "https://localhost:8080/",
          "height": 35
        },
        "id": "toh0cvEjWqZP",
        "outputId": "4a8adca6-4020-4bc7-967b-97f2710a0aa6"
      },
      "execution_count": null,
      "outputs": [
        {
          "output_type": "execute_result",
          "data": {
            "text/plain": [
              "'Cherry'"
            ],
            "application/vnd.google.colaboratory.intrinsic+json": {
              "type": "string"
            }
          },
          "metadata": {},
          "execution_count": 61
        }
      ]
    },
    {
      "cell_type": "code",
      "source": [
        "type(d)"
      ],
      "metadata": {
        "colab": {
          "base_uri": "https://localhost:8080/"
        },
        "id": "M-c1nnuTWx2U",
        "outputId": "3dbef916-5da7-440b-cf5b-2560bbb67671"
      },
      "execution_count": null,
      "outputs": [
        {
          "output_type": "execute_result",
          "data": {
            "text/plain": [
              "str"
            ]
          },
          "metadata": {},
          "execution_count": 62
        }
      ]
    },
    {
      "cell_type": "code",
      "source": [
        "#5-Range\n",
        "e=(0,10)\n",
        "e"
      ],
      "metadata": {
        "colab": {
          "base_uri": "https://localhost:8080/"
        },
        "id": "yUfHmJ1HWz43",
        "outputId": "481723fd-8a34-4447-c5db-cd1309370f89"
      },
      "execution_count": null,
      "outputs": [
        {
          "output_type": "execute_result",
          "data": {
            "text/plain": [
              "(0, 10)"
            ]
          },
          "metadata": {},
          "execution_count": 64
        }
      ]
    },
    {
      "cell_type": "code",
      "source": [
        "#converting range into list\n",
        "list(range(10))"
      ],
      "metadata": {
        "colab": {
          "base_uri": "https://localhost:8080/"
        },
        "id": "ohCK2Z2YW8Y6",
        "outputId": "345d52da-73ca-4e08-c793-d31382958382"
      },
      "execution_count": null,
      "outputs": [
        {
          "output_type": "execute_result",
          "data": {
            "text/plain": [
              "[0, 1, 2, 3, 4, 5, 6, 7, 8, 9]"
            ]
          },
          "metadata": {},
          "execution_count": 66
        }
      ]
    },
    {
      "cell_type": "code",
      "source": [
        "list(range(2,10,2))"
      ],
      "metadata": {
        "colab": {
          "base_uri": "https://localhost:8080/"
        },
        "id": "q51EW9sLXi3o",
        "outputId": "4cbff689-e261-4f67-ec15-337b0b36da17"
      },
      "execution_count": null,
      "outputs": [
        {
          "output_type": "execute_result",
          "data": {
            "text/plain": [
              "[2, 4, 6, 8]"
            ]
          },
          "metadata": {},
          "execution_count": 67
        }
      ]
    },
    {
      "cell_type": "code",
      "source": [
        "list(range(1,9,2))"
      ],
      "metadata": {
        "colab": {
          "base_uri": "https://localhost:8080/"
        },
        "id": "VvRr8At8X34Z",
        "outputId": "9d6c1ee4-f33c-4209-8ba6-ba1d09b8b614"
      },
      "execution_count": null,
      "outputs": [
        {
          "output_type": "execute_result",
          "data": {
            "text/plain": [
              "[1, 3, 5, 7]"
            ]
          },
          "metadata": {},
          "execution_count": 70
        }
      ]
    },
    {
      "cell_type": "code",
      "source": [
        "list(range(1,10,3))"
      ],
      "metadata": {
        "colab": {
          "base_uri": "https://localhost:8080/"
        },
        "id": "tk0clUhXYAtn",
        "outputId": "bcbd6f9f-6e57-4c0e-f8ef-4110e1f2a2d1"
      },
      "execution_count": null,
      "outputs": [
        {
          "output_type": "execute_result",
          "data": {
            "text/plain": [
              "[1, 4, 7]"
            ]
          },
          "metadata": {},
          "execution_count": 71
        }
      ]
    },
    {
      "cell_type": "code",
      "source": [
        "type(range(9))"
      ],
      "metadata": {
        "colab": {
          "base_uri": "https://localhost:8080/"
        },
        "id": "vWQLw_tRYEEe",
        "outputId": "6f0fb046-6535-457c-9afc-c5282e05772a"
      },
      "execution_count": null,
      "outputs": [
        {
          "output_type": "execute_result",
          "data": {
            "text/plain": [
              "range"
            ]
          },
          "metadata": {},
          "execution_count": 74
        }
      ]
    },
    {
      "cell_type": "markdown",
      "source": [
        "(iv)Dictionary"
      ],
      "metadata": {
        "id": "HSOwRYikY0l-"
      }
    },
    {
      "cell_type": "code",
      "source": [
        "dic={'charitha':'iphone','Indhu':'Oneplus'}\n",
        "dic"
      ],
      "metadata": {
        "colab": {
          "base_uri": "https://localhost:8080/"
        },
        "id": "WJXnmBVQY11c",
        "outputId": "e048f6e3-f622-4ebf-9c69-8da2f3ac9ae5"
      },
      "execution_count": null,
      "outputs": [
        {
          "output_type": "execute_result",
          "data": {
            "text/plain": [
              "{'charitha': 'iphone', 'Indhu': 'Oneplus'}"
            ]
          },
          "metadata": {},
          "execution_count": 76
        }
      ]
    },
    {
      "cell_type": "code",
      "source": [
        "dic.keys()"
      ],
      "metadata": {
        "colab": {
          "base_uri": "https://localhost:8080/"
        },
        "id": "xYcDLDRZZEKp",
        "outputId": "41b70aab-6001-4f79-ace7-083730e8297c"
      },
      "execution_count": null,
      "outputs": [
        {
          "output_type": "execute_result",
          "data": {
            "text/plain": [
              "dict_keys(['charitha', 'Indhu'])"
            ]
          },
          "metadata": {},
          "execution_count": 78
        }
      ]
    },
    {
      "cell_type": "code",
      "source": [
        "dic.values()"
      ],
      "metadata": {
        "colab": {
          "base_uri": "https://localhost:8080/"
        },
        "id": "ySooOGBbZO7I",
        "outputId": "84187228-6bae-43c8-b637-3e62466333c1"
      },
      "execution_count": null,
      "outputs": [
        {
          "output_type": "execute_result",
          "data": {
            "text/plain": [
              "dict_values(['iphone', 'Oneplus'])"
            ]
          },
          "metadata": {},
          "execution_count": 79
        }
      ]
    },
    {
      "cell_type": "code",
      "source": [
        "dic['charitha']"
      ],
      "metadata": {
        "colab": {
          "base_uri": "https://localhost:8080/",
          "height": 35
        },
        "id": "9NPLlwRuZYGW",
        "outputId": "eb689a4a-ba01-4524-b836-d30d446d6aa6"
      },
      "execution_count": null,
      "outputs": [
        {
          "output_type": "execute_result",
          "data": {
            "text/plain": [
              "'iphone'"
            ],
            "application/vnd.google.colaboratory.intrinsic+json": {
              "type": "string"
            }
          },
          "metadata": {},
          "execution_count": 80
        }
      ]
    },
    {
      "cell_type": "code",
      "source": [
        "dic.get('charitha')"
      ],
      "metadata": {
        "colab": {
          "base_uri": "https://localhost:8080/",
          "height": 35
        },
        "id": "ZVQFvjGmZbd3",
        "outputId": "61c889c2-c802-40c9-e492-45beaa0700b4"
      },
      "execution_count": null,
      "outputs": [
        {
          "output_type": "execute_result",
          "data": {
            "text/plain": [
              "'iphone'"
            ],
            "application/vnd.google.colaboratory.intrinsic+json": {
              "type": "string"
            }
          },
          "metadata": {},
          "execution_count": 81
        }
      ]
    }
  ]
}