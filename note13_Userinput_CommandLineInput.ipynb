{
 "cells": [
  {
   "cell_type": "markdown",
   "id": "2e0feada-8e41-4857-8581-1f3e38853363",
   "metadata": {},
   "source": [
    "How to get user input\n",
    "- input function\n",
    "- printing input message\n",
    "- Type of input data\n",
    "- When to use index value\n",
    "- eval function\n",
    "- Passing values from command line\n",
    "- Argument line input\n",
    "\n",
    "#1 How to get user input\n",
    "-- Getting user input in Python is straightforward. You can use the input() function \n",
    "to get input from the user. The input function takes a single argument, which is the \n",
    "prompt message displayed to the user.\n",
    "\n",
    "e.g\n",
    "name = input(\"Please enter your name: \")\n",
    "x=input(\"Enter first number: \");\n",
    "y=input(\"Enter second number: \");\n",
    "z=x+y;\n",
    "print(z);\n",
    "\n",
    "\n",
    "#2 input function \n",
    "-- In Python, the input() function is used to accept user input from the command line or console.\n",
    "name=input(\"Enter your name:\");\n",
    "print(name);\n",
    "-- In this example, the input() function prompts the user to enter their name. Whatever the user types \n",
    "in response is stored in the name variable.\n",
    "-- Note that the input() function always returns a string, so if we want to use the user's input as a number, \n",
    "we'll need to convert it using the appropriate type-casting function (e.g., int() for integers or float() for \n",
    "floating-point numbers).\n",
    "\n",
    "#3 Types of input data\n",
    "-- The input() function always returns a string, regardless of what the user enters. \n",
    "we may need to convert the input to a different data type if you want to perform calculations or other operations on it.\n",
    "\n",
    "e.g\n",
    "x=input(\"Enter first number: \");\n",
    "a=int(x);\n",
    "the input entered by the user is converted to an integer using the int() function in this example.\n",
    "\n",
    "#4 when to use index value \n",
    "-- If you want to get a single character from the user, we can use the input() function and index the result.\n",
    "e.g\n",
    "ch=input('enter a character: ');\n",
    "print(ch[0])\n",
    "\n",
    "ch=input('enter a character: ')[0];\n",
    "print(ch);\n",
    "\n",
    "#5 eval function\n",
    "eval function\n",
    "-- The eval() function in Python is used to evaluate an expression entered by the user as a string. \n",
    "The eval() function returns the result of the expression as a value.\n",
    "\n",
    "e.g\n",
    "x=eval(input(\"Enter an expression: \"));\n",
    "typeOf = type(x);\n",
    "print(typeOf);\n",
    "\n",
    "#6\n",
    "Passing values from command line\n",
    "-- sys module provides access to any command-line arguments via the sys.argv list. \n",
    "we can pass arguments to a Python script from the command line using the sys.argv list. \n",
    "The first argument in the list is always the name of the script itself.\n",
    "\n",
    "suppose we have a file named Mycode.py\n",
    "in file we have written code\n",
    "import sys  # without this line you will get error\n",
    "x=sys.argv[1];\n",
    "y=sys.argv[2];\n",
    "z=x+y;\n",
    "print(z);\n",
    "\n",
    "in command line we have to run this file\n",
    "#python3 Mycode.py 9 5\n",
    "            0      1 2\n",
    "\n",
    "Note: Mycode is count as 0th argument\n",
    "      9 is count as 1st argument\n",
    "      5 is count as 2nd argument"
   ]
  },
  {
   "cell_type": "code",
   "execution_count": 1,
   "id": "786760fd-60ab-4436-af14-6d2c7d9a275e",
   "metadata": {},
   "outputs": [
    {
     "name": "stdin",
     "output_type": "stream",
     "text": [
      "enter first num 3\n",
      "enter second num 9\n"
     ]
    },
    {
     "name": "stdout",
     "output_type": "stream",
     "text": [
      "12\n"
     ]
    }
   ],
   "source": [
    "a = int(input(\"enter first num\"))\n",
    "b = int(input(\"enter second num\"))\n",
    "z=a+b\n",
    "print(z)"
   ]
  },
  {
   "cell_type": "code",
   "execution_count": 5,
   "id": "9db6f3f3-1953-40e7-83a1-6d2b32dda2d9",
   "metadata": {},
   "outputs": [
    {
     "name": "stdin",
     "output_type": "stream",
     "text": [
      "enter first num 3\n",
      "enter second num 9\n"
     ]
    },
    {
     "name": "stdout",
     "output_type": "stream",
     "text": [
      "12\n"
     ]
    }
   ],
   "source": [
    "a = input(\"enter first num\")\n",
    "x=int(a)\n",
    "b = input(\"enter second num\")\n",
    "y=int(b)\n",
    "z=x+y\n",
    "print(z)"
   ]
  },
  {
   "cell_type": "code",
   "execution_count": 6,
   "id": "cf5ca4a0-0668-4647-be15-97c90512cac9",
   "metadata": {},
   "outputs": [
    {
     "name": "stdin",
     "output_type": "stream",
     "text": [
      "enter my name charitha\n"
     ]
    },
    {
     "name": "stdout",
     "output_type": "stream",
     "text": [
      "charitha\n"
     ]
    }
   ],
   "source": [
    "#print character \n",
    "ch=input(\"enter my name\")\n",
    "print(ch)"
   ]
  },
  {
   "cell_type": "code",
   "execution_count": 9,
   "id": "0118054d-a1d1-446d-a0f3-365e3830f923",
   "metadata": {},
   "outputs": [
    {
     "name": "stdin",
     "output_type": "stream",
     "text": [
      "enter my name: Kam\n"
     ]
    },
    {
     "name": "stdout",
     "output_type": "stream",
     "text": [
      "K\n"
     ]
    }
   ],
   "source": [
    "#to use index value\n",
    "ch=input(\"enter my name:\")\n",
    "print(ch[0])"
   ]
  },
  {
   "cell_type": "code",
   "execution_count": 11,
   "id": "017c655e-a73f-4f51-bc4b-effb61664be3",
   "metadata": {},
   "outputs": [
    {
     "name": "stdout",
     "output_type": "stream",
     "text": [
      "a\n"
     ]
    }
   ],
   "source": [
    "print(ch[1])"
   ]
  },
  {
   "cell_type": "code",
   "execution_count": 13,
   "id": "56069c27-7a70-437e-a211-60d8567b4cb5",
   "metadata": {},
   "outputs": [
    {
     "name": "stdin",
     "output_type": "stream",
     "text": [
      "enter my name: Hey\n"
     ]
    },
    {
     "name": "stdout",
     "output_type": "stream",
     "text": [
      "H\n"
     ]
    }
   ],
   "source": [
    "#to fetch first character\n",
    "ch=input(\"enter my name:\")[0]\n",
    "print(ch)"
   ]
  },
  {
   "cell_type": "code",
   "execution_count": 14,
   "id": "e59d82c5-e437-4714-85b0-309b7b48aa1e",
   "metadata": {},
   "outputs": [
    {
     "name": "stdin",
     "output_type": "stream",
     "text": [
      "enter my name: 6+9-1\n"
     ]
    },
    {
     "name": "stdout",
     "output_type": "stream",
     "text": [
      "6\n"
     ]
    }
   ],
   "source": [
    "ch=input(\"enter my name:\")[0]\n",
    "print(ch)"
   ]
  },
  {
   "cell_type": "code",
   "execution_count": 22,
   "id": "0adcf40f-e727-474a-ab26-44bb3af710f0",
   "metadata": {},
   "outputs": [
    {
     "name": "stdin",
     "output_type": "stream",
     "text": [
      "enter an expression 4+5-2\n"
     ]
    },
    {
     "name": "stdout",
     "output_type": "stream",
     "text": [
      "7\n"
     ]
    }
   ],
   "source": [
    "#eval function\n",
    "#-- The eval() function in Python is used to evaluate an expression entered by the user as a string. \n",
    "#The eval() function returns the result of the expression as a value.\n",
    "a=eval(input(\"enter an expression\"))\n",
    "print(a)"
   ]
  },
  {
   "cell_type": "code",
   "execution_count": 23,
   "id": "f7b15c31-a285-4add-b54b-67854d1ec8cc",
   "metadata": {},
   "outputs": [
    {
     "name": "stdout",
     "output_type": "stream",
     "text": [
      "-f/Users/ck/Library/Jupyter/runtime/kernel-562d3dde-0384-4420-97b6-de5abf86e99a.json\n"
     ]
    }
   ],
   "source": [
    "import sys  # without this line you will get error\n",
    "x=sys.argv[1];\n",
    "y=sys.argv[2];\n",
    "z=x+y;\n",
    "print(z)"
   ]
  },
  {
   "cell_type": "code",
   "execution_count": null,
   "id": "392b36a4-28d6-465d-9b32-bca08e17c33d",
   "metadata": {},
   "outputs": [],
   "source": []
  }
 ],
 "metadata": {
  "kernelspec": {
   "display_name": "Python 3 (ipykernel)",
   "language": "python",
   "name": "python3"
  },
  "language_info": {
   "codemirror_mode": {
    "name": "ipython",
    "version": 3
   },
   "file_extension": ".py",
   "mimetype": "text/x-python",
   "name": "python",
   "nbconvert_exporter": "python",
   "pygments_lexer": "ipython3",
   "version": "3.12.2"
  }
 },
 "nbformat": 4,
 "nbformat_minor": 5
}
