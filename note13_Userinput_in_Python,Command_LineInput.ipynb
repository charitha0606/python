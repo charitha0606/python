{
  "nbformat": 4,
  "nbformat_minor": 0,
  "metadata": {
    "colab": {
      "provenance": [],
      "authorship_tag": "ABX9TyNKmkb+kiSisviEwJXP+rWx",
      "include_colab_link": true
    },
    "kernelspec": {
      "name": "python3",
      "display_name": "Python 3"
    },
    "language_info": {
      "name": "python"
    }
  },
  "cells": [
    {
      "cell_type": "markdown",
      "metadata": {
        "id": "view-in-github",
        "colab_type": "text"
      },
      "source": [
        "<a href=\"https://colab.research.google.com/github/charitha0606/python/blob/main/note13_Userinput_in_Python%2CCommand_LineInput.ipynb\" target=\"_parent\"><img src=\"https://colab.research.google.com/assets/colab-badge.svg\" alt=\"Open In Colab\"/></a>"
      ]
    },
    {
      "cell_type": "markdown",
      "source": [
        "- How to get user input\n",
        "- input function\n",
        "- printing input message\n",
        "- Type of input data\n",
        "- When to use index value\n",
        "- eval function\n",
        "- Passing values from command line\n",
        "- Argument line input\n",
        "\n",
        "#1 How to get user input\n",
        "-- Getting user input in Python is straightforward. You can use the input() function\n",
        "to get input from the user. The input function takes a single argument, which is the\n",
        "prompt message displayed to the user.\n",
        "\n",
        "e.g\n",
        "name = input(\"Please enter your name: \")\n",
        "x=input(\"Enter first number: \");\n",
        "y=input(\"Enter second number: \");\n",
        "z=x+y;\n",
        "print(z);\n",
        "\n",
        "\n",
        "#2 input function\n",
        "-- In Python, the input() function is used to accept user input from the command line or console.\n",
        "name=input(\"Enter your name:\");\n",
        "print(name);\n",
        "-- In this example, the input() function prompts the user to enter their name. Whatever the user types\n",
        "in response is stored in the name variable.\n",
        "-- Note that the input() function always returns a string, so if we want to use the user's input as a number,\n",
        "we'll need to convert it using the appropriate type-casting function (e.g., int() for integers or float() for\n",
        "floating-point numbers).\n",
        "\n",
        "#3 Types of input data\n",
        "-- The input() function always returns a string, regardless of what the user enters.\n",
        "we may need to convert the input to a different data type if you want to perform calculations or other operations on it.\n",
        "\n",
        "e.g\n",
        "x=input(\"Enter first number: \");\n",
        "a=int(x);\n",
        "the input entered by the user is converted to an integer using the int() function in this example.\n",
        "\n",
        "#4 when to use index value\n",
        "-- If you want to get a single character from the user, we can use the input() function and index the result.\n",
        "e.g\n",
        "ch=input('enter a character: ');\n",
        "print(ch[0])\n",
        "\n",
        "ch=input('enter a character: ')[0];\n",
        "print(ch);\n",
        "\n",
        "#5 eval function\n",
        "eval function\n",
        "-- The eval() function in Python is used to evaluate an expression entered by the user as a string.\n",
        "The eval() function returns the result of the expression as a value.\n",
        "\n",
        "e.g\n",
        "x=eval(input(\"Enter an expression: \"));\n",
        "typeOf = type(x);\n",
        "print(typeOf);\n",
        "\n",
        "#6\n",
        "Passing values from command line\n",
        "-- sys module provides access to any command-line arguments via the sys.argv list.\n",
        "we can pass arguments to a Python script from the command line using the sys.argv list.\n",
        "The first argument in the list is always the name of the script itself.\n",
        "\n",
        "suppose we have a file named Mycode.py\n",
        "in file we have written code\n",
        "import sys  # without this line you will get error\n",
        "x=sys.argv[1];\n",
        "y=sys.argv[2];\n",
        "z=x+y;\n",
        "print(z);\n",
        "\n",
        "in command line we have to run this file\n",
        "#python3 Mycode.py 9 5\n",
        "            0      1 2\n",
        "\n",
        "Note: Mycode is count as 0th argument\n",
        "      9 is count as 1st argument\n",
        "      5 is count as 2nd argument\n"
      ],
      "metadata": {
        "id": "jE63pFPAkr1w"
      }
    },
    {
      "cell_type": "code",
      "source": [
        "a = int(input(\"enter first num\"))\n",
        "b = int(input(\"enter second num\"))\n",
        "z=a+b\n",
        "print(z)"
      ],
      "metadata": {
        "colab": {
          "base_uri": "https://localhost:8080/",
          "height": 211
        },
        "id": "GAcOxajEnJ6V",
        "outputId": "4706d6a6-be74-44de-b926-2446e8152551"
      },
      "execution_count": null,
      "outputs": [
        {
          "name": "stdout",
          "output_type": "stream",
          "text": [
            "enter first num6\n",
            "enter second num9\n"
          ]
        },
        {
          "output_type": "error",
          "ename": "TypeError",
          "evalue": "'int' object is not callable",
          "traceback": [
            "\u001b[0;31m---------------------------------------------------------------------------\u001b[0m",
            "\u001b[0;31mTypeError\u001b[0m                                 Traceback (most recent call last)",
            "\u001b[0;32m<ipython-input-15-f6ef0ef4de4b>\u001b[0m in \u001b[0;36m<cell line: 4>\u001b[0;34m()\u001b[0m\n\u001b[1;32m      2\u001b[0m \u001b[0mb\u001b[0m \u001b[0;34m=\u001b[0m \u001b[0mint\u001b[0m\u001b[0;34m(\u001b[0m\u001b[0minput\u001b[0m\u001b[0;34m(\u001b[0m\u001b[0;34m\"enter second num\"\u001b[0m\u001b[0;34m)\u001b[0m\u001b[0;34m)\u001b[0m\u001b[0;34m\u001b[0m\u001b[0;34m\u001b[0m\u001b[0m\n\u001b[1;32m      3\u001b[0m \u001b[0mz\u001b[0m\u001b[0;34m=\u001b[0m\u001b[0ma\u001b[0m\u001b[0;34m+\u001b[0m\u001b[0mb\u001b[0m\u001b[0;34m\u001b[0m\u001b[0;34m\u001b[0m\u001b[0m\n\u001b[0;32m----> 4\u001b[0;31m \u001b[0mprint\u001b[0m\u001b[0;34m(\u001b[0m\u001b[0mz\u001b[0m\u001b[0;34m)\u001b[0m\u001b[0;34m\u001b[0m\u001b[0;34m\u001b[0m\u001b[0m\n\u001b[0m",
            "\u001b[0;31mTypeError\u001b[0m: 'int' object is not callable"
          ]
        }
      ]
    }
  ]
}