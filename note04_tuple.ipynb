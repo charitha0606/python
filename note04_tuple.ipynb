{
  "nbformat": 4,
  "nbformat_minor": 0,
  "metadata": {
    "colab": {
      "provenance": [],
      "authorship_tag": "ABX9TyNotFS1h+aOBVrvG7qkUB1Y",
      "include_colab_link": true
    },
    "kernelspec": {
      "name": "python3",
      "display_name": "Python 3"
    },
    "language_info": {
      "name": "python"
    }
  },
  "cells": [
    {
      "cell_type": "markdown",
      "metadata": {
        "id": "view-in-github",
        "colab_type": "text"
      },
      "source": [
        "<a href=\"https://colab.research.google.com/github/charitha0606/python/blob/main/note04_tuple.ipynb\" target=\"_parent\"><img src=\"https://colab.research.google.com/assets/colab-badge.svg\" alt=\"Open In Colab\"/></a>"
      ]
    },
    {
      "cell_type": "markdown",
      "source": [
        "Tuples are immutable(cannot change the values)\n",
        "- Methods used with tuples\n",
        "- When to use tuples over lists?\n",
        "- What are Sets in Python?\n",
        "- Properties of Sets\n",
        "\n",
        "#1\n",
        "Tuples:-\n",
        "Tuple is almost similar to a list in which we can store multiple values.\n",
        "- Tuples are Immutable and we can change values in them.\n",
        "- To define a tuple, () round brackets are used.\n",
        "- We can fetch the values from a tuple using the index value that can be given in a square bracket.\n",
        "- Tuple will give an error when you tried to change a value in it.\n",
        "\n",
        "#2\n",
        "- count method is used to count the occurrences of an element in a tuple. It counts the number of times that an element is present in a tuple.\n",
        "e.g., If an element of value 5 is present two times in a tuple, then the count method returns 2.\n",
        "\n",
        "#3\n",
        " - We can use tuples when we want a list of multiple values but we do not want to change it.\n",
        "- Iteration in the tuple is faster than the list.\n",
        "\n",
        "#4\n",
        "Sets:-\n",
        "- Set is a collection of unique elements.\n",
        "- To define the set, we use the {} curly brackets.\n",
        "- Set never follows the sequence.\n",
        "- When we print the set, then the sequence of values in output will be different from the sequence of input.\n",
        "- Duplicate values present in a set will be printed only once in an output.\n",
        "- Set uses the concept of Hash. Hash is used to improve the performance as it fetches the values as fast as possible.\n",
        "- Indexing is not supported in sets as it does not follow sequencing.\n",
        "- Values can not be changed in a set also because index value is not supported.\n"
      ],
      "metadata": {
        "id": "TgyLMybSIIRA"
      }
    },
    {
      "cell_type": "code",
      "execution_count": null,
      "metadata": {
        "id": "SJ0AdNVWH7mv"
      },
      "outputs": [],
      "source": [
        "tup=(34,65,32,56,90)"
      ]
    },
    {
      "cell_type": "code",
      "source": [
        "tup"
      ],
      "metadata": {
        "colab": {
          "base_uri": "https://localhost:8080/"
        },
        "id": "r6Vzw4iOKNki",
        "outputId": "ef018130-f39c-4a4b-c1ac-b7a339f4d78c"
      },
      "execution_count": null,
      "outputs": [
        {
          "output_type": "execute_result",
          "data": {
            "text/plain": [
              "(34, 65, 32, 56, 90)"
            ]
          },
          "metadata": {},
          "execution_count": 4
        }
      ]
    },
    {
      "cell_type": "code",
      "source": [
        "tup[1]"
      ],
      "metadata": {
        "colab": {
          "base_uri": "https://localhost:8080/"
        },
        "id": "c92QMayKKTEO",
        "outputId": "6d080090-e809-4da9-df57-e4377ce551e1"
      },
      "execution_count": null,
      "outputs": [
        {
          "output_type": "execute_result",
          "data": {
            "text/plain": [
              "65"
            ]
          },
          "metadata": {},
          "execution_count": 7
        }
      ]
    },
    {
      "cell_type": "code",
      "source": [
        "#tuple is i mutable\n",
        "tup[1]=66"
      ],
      "metadata": {
        "colab": {
          "base_uri": "https://localhost:8080/",
          "height": 194
        },
        "id": "PeAqXNsSKhhs",
        "outputId": "41033219-9126-448c-a5de-36020fa2fee4"
      },
      "execution_count": null,
      "outputs": [
        {
          "output_type": "error",
          "ename": "TypeError",
          "evalue": "'tuple' object does not support item assignment",
          "traceback": [
            "\u001b[0;31m---------------------------------------------------------------------------\u001b[0m",
            "\u001b[0;31mTypeError\u001b[0m                                 Traceback (most recent call last)",
            "\u001b[0;32m<ipython-input-9-94894313655f>\u001b[0m in \u001b[0;36m<cell line: 2>\u001b[0;34m()\u001b[0m\n\u001b[1;32m      1\u001b[0m \u001b[0;31m#tuple is i mutable\u001b[0m\u001b[0;34m\u001b[0m\u001b[0;34m\u001b[0m\u001b[0m\n\u001b[0;32m----> 2\u001b[0;31m \u001b[0mtup\u001b[0m\u001b[0;34m[\u001b[0m\u001b[0;36m1\u001b[0m\u001b[0;34m]\u001b[0m\u001b[0;34m=\u001b[0m\u001b[0;36m66\u001b[0m\u001b[0;34m\u001b[0m\u001b[0;34m\u001b[0m\u001b[0m\n\u001b[0m",
            "\u001b[0;31mTypeError\u001b[0m: 'tuple' object does not support item assignment"
          ]
        }
      ]
    },
    {
      "cell_type": "markdown",
      "source": [
        "Set"
      ],
      "metadata": {
        "id": "6fizrES4KuUm"
      }
    },
    {
      "cell_type": "code",
      "source": [
        "s={1,34,322,5,98,77}"
      ],
      "metadata": {
        "id": "gh2b5sR-KrUs"
      },
      "execution_count": null,
      "outputs": []
    },
    {
      "cell_type": "code",
      "source": [
        "s"
      ],
      "metadata": {
        "colab": {
          "base_uri": "https://localhost:8080/"
        },
        "id": "37beflQ7K2VV",
        "outputId": "898ea3f5-37bb-4e4a-a824-d9e44a96710d"
      },
      "execution_count": null,
      "outputs": [
        {
          "output_type": "execute_result",
          "data": {
            "text/plain": [
              "{1, 2, 32, 64}"
            ]
          },
          "metadata": {},
          "execution_count": 20
        }
      ]
    },
    {
      "cell_type": "code",
      "source": [
        "s={2,64,32,1,2}\n",
        "#Set never follows the sequence."
      ],
      "metadata": {
        "id": "_fjpRr3KK3tr"
      },
      "execution_count": null,
      "outputs": []
    },
    {
      "cell_type": "code",
      "source": [
        "s"
      ],
      "metadata": {
        "colab": {
          "base_uri": "https://localhost:8080/"
        },
        "id": "iJq6MfK5K99b",
        "outputId": "b702f511-e6a7-4ea2-a711-18e8508d3d56"
      },
      "execution_count": null,
      "outputs": [
        {
          "output_type": "execute_result",
          "data": {
            "text/plain": [
              "{1, 2, 32, 64}"
            ]
          },
          "metadata": {},
          "execution_count": 24
        }
      ]
    },
    {
      "cell_type": "code",
      "source": [
        "s[2]\n",
        "#set will never follow sequence because, we don't have proper sequence."
      ],
      "metadata": {
        "colab": {
          "base_uri": "https://localhost:8080/",
          "height": 194
        },
        "id": "ljr1UB8fLIwv",
        "outputId": "4457537e-5912-4aa4-c89c-3b2d813e0f20"
      },
      "execution_count": null,
      "outputs": [
        {
          "output_type": "error",
          "ename": "TypeError",
          "evalue": "'set' object is not subscriptable",
          "traceback": [
            "\u001b[0;31m---------------------------------------------------------------------------\u001b[0m",
            "\u001b[0;31mTypeError\u001b[0m                                 Traceback (most recent call last)",
            "\u001b[0;32m<ipython-input-26-a3a21a58d697>\u001b[0m in \u001b[0;36m<cell line: 1>\u001b[0;34m()\u001b[0m\n\u001b[0;32m----> 1\u001b[0;31m \u001b[0ms\u001b[0m\u001b[0;34m[\u001b[0m\u001b[0;36m2\u001b[0m\u001b[0;34m]\u001b[0m\u001b[0;34m\u001b[0m\u001b[0;34m\u001b[0m\u001b[0m\n\u001b[0m\u001b[1;32m      2\u001b[0m \u001b[0;31m#set will never follow sequence because, we don't have proper sequence.\u001b[0m\u001b[0;34m\u001b[0m\u001b[0;34m\u001b[0m\u001b[0m\n",
            "\u001b[0;31mTypeError\u001b[0m: 'set' object is not subscriptable"
          ]
        }
      ]
    },
    {
      "cell_type": "code",
      "source": [
        "s.pop()\n",
        "#The pop() method removes and returns an arbitrary element from the set.\n",
        "#Sets in Python are unordered collections, so there's no concept of removing an element at a specific index like you might have with a list."
      ],
      "metadata": {
        "colab": {
          "base_uri": "https://localhost:8080/"
        },
        "id": "TXFhp7E8LvwA",
        "outputId": "da204619-85ba-4960-aaf9-dc53e0e8eec1"
      },
      "execution_count": null,
      "outputs": [
        {
          "output_type": "execute_result",
          "data": {
            "text/plain": [
              "64"
            ]
          },
          "metadata": {},
          "execution_count": 31
        }
      ]
    },
    {
      "cell_type": "code",
      "source": [
        "s"
      ],
      "metadata": {
        "colab": {
          "base_uri": "https://localhost:8080/"
        },
        "id": "4CP18fGoMOWD",
        "outputId": "65b5434f-d4f9-497b-bf07-d3218c13f040"
      },
      "execution_count": null,
      "outputs": [
        {
          "output_type": "execute_result",
          "data": {
            "text/plain": [
              "{1, 2, 32}"
            ]
          },
          "metadata": {},
          "execution_count": 32
        }
      ]
    },
    {
      "cell_type": "code",
      "source": [
        "s.remove(1)"
      ],
      "metadata": {
        "id": "kZDnClc_MW9X"
      },
      "execution_count": null,
      "outputs": []
    },
    {
      "cell_type": "code",
      "source": [
        "s"
      ],
      "metadata": {
        "colab": {
          "base_uri": "https://localhost:8080/"
        },
        "id": "Fgx9bEOHMbG_",
        "outputId": "48a1ac5e-efc1-4f47-cf74-fb7baf8095d3"
      },
      "execution_count": null,
      "outputs": [
        {
          "output_type": "execute_result",
          "data": {
            "text/plain": [
              "{2, 32}"
            ]
          },
          "metadata": {},
          "execution_count": 34
        }
      ]
    },
    {
      "cell_type": "code",
      "source": [
        "s.clear()"
      ],
      "metadata": {
        "id": "h6n3idVWMcUL"
      },
      "execution_count": null,
      "outputs": []
    },
    {
      "cell_type": "code",
      "source": [
        "s"
      ],
      "metadata": {
        "colab": {
          "base_uri": "https://localhost:8080/"
        },
        "id": "Neq3NGnxMeP3",
        "outputId": "017f5dcc-054b-4408-bdeb-b0009a7c40e7"
      },
      "execution_count": null,
      "outputs": [
        {
          "output_type": "execute_result",
          "data": {
            "text/plain": [
              "set()"
            ]
          },
          "metadata": {},
          "execution_count": 38
        }
      ]
    },
    {
      "cell_type": "code",
      "source": [
        "s.add(3)"
      ],
      "metadata": {
        "id": "d9ECguR7Mfsd"
      },
      "execution_count": null,
      "outputs": []
    },
    {
      "cell_type": "code",
      "source": [
        "s"
      ],
      "metadata": {
        "colab": {
          "base_uri": "https://localhost:8080/"
        },
        "id": "mYH_zkUeMx-4",
        "outputId": "7c62b045-f232-4359-9cd0-33e170abbf8f"
      },
      "execution_count": null,
      "outputs": [
        {
          "output_type": "execute_result",
          "data": {
            "text/plain": [
              "{3}"
            ]
          },
          "metadata": {},
          "execution_count": 41
        }
      ]
    }
  ]
}