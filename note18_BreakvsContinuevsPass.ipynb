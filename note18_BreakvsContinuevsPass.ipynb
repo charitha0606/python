{
 "cells": [
  {
   "cell_type": "code",
   "execution_count": 8,
   "id": "eb435664-2228-43f2-af91-42d73fbd0aa5",
   "metadata": {},
   "outputs": [
    {
     "name": "stdout",
     "output_type": "stream",
     "text": [
      "hey 0\n",
      "hey 1\n",
      "hey 2\n",
      "hey 4\n"
     ]
    }
   ],
   "source": [
    "#continue\n",
    "for i in range(5):\n",
    "    if i==3:\n",
    "       continue\n",
    "    print('hey',i)"
   ]
  },
  {
   "cell_type": "code",
   "execution_count": 9,
   "id": "4575b537-d4be-488d-bedd-c8faf6c5b35e",
   "metadata": {},
   "outputs": [
    {
     "name": "stdout",
     "output_type": "stream",
     "text": [
      "hey 0\n",
      "hey 1\n",
      "hey 2\n"
     ]
    }
   ],
   "source": [
    "#break\n",
    "for i in range(5):\n",
    "    if i==3:\n",
    "       break\n",
    "    print('hey',i)"
   ]
  },
  {
   "cell_type": "code",
   "execution_count": 12,
   "id": "79154eef-8322-42ab-81e0-119825eb838d",
   "metadata": {},
   "outputs": [
    {
     "name": "stdout",
     "output_type": "stream",
     "text": [
      "hey 0\n",
      "hey 1\n",
      "hey 2\n",
      "hey 4\n"
     ]
    }
   ],
   "source": [
    "#pass\n",
    "for i in range(5):\n",
    "    if i==3:\n",
    "       pass\n",
    "    else:\n",
    "        print('hey',i)\n",
    "    "
   ]
  },
  {
   "cell_type": "code",
   "execution_count": null,
   "id": "bea0c6f0-0c0f-4bfa-8b77-c52b6b4124d5",
   "metadata": {},
   "outputs": [],
   "source": []
  }
 ],
 "metadata": {
  "kernelspec": {
   "display_name": "Python 3 (ipykernel)",
   "language": "python",
   "name": "python3"
  },
  "language_info": {
   "codemirror_mode": {
    "name": "ipython",
    "version": 3
   },
   "file_extension": ".py",
   "mimetype": "text/x-python",
   "name": "python",
   "nbconvert_exporter": "python",
   "pygments_lexer": "ipython3",
   "version": "3.12.2"
  }
 },
 "nbformat": 4,
 "nbformat_minor": 5
}
