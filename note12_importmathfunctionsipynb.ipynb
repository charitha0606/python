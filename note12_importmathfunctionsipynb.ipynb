{
  "nbformat": 4,
  "nbformat_minor": 0,
  "metadata": {
    "colab": {
      "provenance": [],
      "authorship_tag": "ABX9TyNxB8rj4nXZGt40taXiHsBm",
      "include_colab_link": true
    },
    "kernelspec": {
      "name": "python3",
      "display_name": "Python 3"
    },
    "language_info": {
      "name": "python"
    }
  },
  "cells": [
    {
      "cell_type": "markdown",
      "metadata": {
        "id": "view-in-github",
        "colab_type": "text"
      },
      "source": [
        "<a href=\"https://colab.research.google.com/github/charitha0606/python/blob/main/note12_importmathfunctionsipynb.ipynb\" target=\"_parent\"><img src=\"https://colab.research.google.com/assets/colab-badge.svg\" alt=\"Open In Colab\"/></a>"
      ]
    },
    {
      "cell_type": "markdown",
      "source": [
        "math function:\n",
        "-- math module in Python provides a wide range of mathematical functions.\n",
        "-- math module is a built-in module in Python.\n",
        "-- math module is used to perform mathematical operations.\n",
        "-- math module is used to perform mathematical operations like square root, power, floor, ceil, etc.\n",
        "\n",
        "-- for using math module we have to import it first\n",
        "import math\n",
        "-- then we can use math module function like math.sqrt(25)\n",
        "or\n",
        "-- we can use alias name like m=math then we can use m.\n",
        " m.sqrt(25) if we import math as m\n",
        "or\n",
        "-- we can import only required function like from math import sqrt,pow\n",
        "sqrt(25)\n",
        "pow(2,3)\n",
        "\n",
        "Here are some of the most commonly used ones methods of math module:\n",
        "\n",
        "math.sqrt(x): Returns the square root of x.\n",
        "math.pow(x, y): Returns x raised to the power y.\n",
        "math.ceil(x): Returns the smallest integer greater than or equal to x.\n",
        "math.floor(x): Returns the largest integer less than or equal to x.\n",
        "math.exp(x): Returns the exponential value of x.\n",
        "math.log(x[, base]): Returns the natural logarithm (base e) of x or the logarithm of x with the specified base.\n",
        "math.sin(x), math.cos(x), math.tan(x): Returns the trigonometric sine, cosine, or tangent of x, respectively.\n",
        "\n",
        "Here are some of the most commonly used ones attributes(constant) of math module:\n",
        "\n",
        "math.pi: Returns the value of pi.\n",
        "math.e: Returns the value of e.\n",
        "math.inf: Returns a floating point positive infinity.\n",
        "math.nan: Returns a floating point “not a number” (NaN) value.\n",
        "\n",
        "using help function we can get all the information about math module\n",
        "help(math)"
      ],
      "metadata": {
        "id": "-1SBsS3dSLLD"
      }
    },
    {
      "cell_type": "code",
      "source": [
        "import math\n",
        "x=math.sqrt(25)\n",
        "x"
      ],
      "metadata": {
        "colab": {
          "base_uri": "https://localhost:8080/"
        },
        "id": "TihzLb_APkJp",
        "outputId": "4abe1077-64ae-4c12-ee3a-c8cde5ac5d96"
      },
      "execution_count": null,
      "outputs": [
        {
          "output_type": "execute_result",
          "data": {
            "text/plain": [
              "5.0"
            ]
          },
          "metadata": {},
          "execution_count": 2
        }
      ]
    },
    {
      "cell_type": "code",
      "source": [
        "import math\n",
        "x=math.sqrt(30)\n",
        "x"
      ],
      "metadata": {
        "colab": {
          "base_uri": "https://localhost:8080/"
        },
        "id": "Eo2YP5bmPuiC",
        "outputId": "581a98fa-4c84-4aeb-cd16-3ed57198ffa3"
      },
      "execution_count": null,
      "outputs": [
        {
          "output_type": "execute_result",
          "data": {
            "text/plain": [
              "5.477225575051661"
            ]
          },
          "metadata": {},
          "execution_count": 3
        }
      ]
    },
    {
      "cell_type": "markdown",
      "source": [
        "#There are two types of functions\n",
        "#1.Floor\n",
        "#2.Ceil"
      ],
      "metadata": {
        "id": "3AXsmSlKQc_l"
      }
    },
    {
      "cell_type": "code",
      "source": [
        "#1.Floor - will always give least integer\n",
        "x=math.floor(2.4)\n",
        "print(x)"
      ],
      "metadata": {
        "colab": {
          "base_uri": "https://localhost:8080/"
        },
        "id": "tsPYPX-6Qf2g",
        "outputId": "6ec0eb09-7cc9-4007-9c25-6f45ae3b8ea1"
      },
      "execution_count": null,
      "outputs": [
        {
          "output_type": "stream",
          "name": "stdout",
          "text": [
            "2\n"
          ]
        }
      ]
    },
    {
      "cell_type": "code",
      "source": [
        "#2.Ceil - will always give highest integer\n",
        "y=math.ceil(2.2)\n",
        "print(y)"
      ],
      "metadata": {
        "colab": {
          "base_uri": "https://localhost:8080/"
        },
        "id": "gVkvi42sQsfO",
        "outputId": "cd56598c-a6f1-4af0-d3a4-4d18bf12ab18"
      },
      "execution_count": null,
      "outputs": [
        {
          "output_type": "stream",
          "name": "stdout",
          "text": [
            "3\n"
          ]
        }
      ]
    },
    {
      "cell_type": "code",
      "source": [
        "#basic way to use power\n",
        "3**2"
      ],
      "metadata": {
        "colab": {
          "base_uri": "https://localhost:8080/"
        },
        "id": "6hxPz4F8RDse",
        "outputId": "136863c3-4bd2-4666-9fe2-e74b87b1e6dd"
      },
      "execution_count": null,
      "outputs": [
        {
          "output_type": "execute_result",
          "data": {
            "text/plain": [
              "9"
            ]
          },
          "metadata": {},
          "execution_count": 10
        }
      ]
    },
    {
      "cell_type": "code",
      "source": [
        "#another way to use power function\n",
        "z=math.pow(3,2)\n",
        "print(z)"
      ],
      "metadata": {
        "colab": {
          "base_uri": "https://localhost:8080/"
        },
        "id": "xTDQG1AdRJt8",
        "outputId": "d89c8fc2-fb71-4514-b618-2293773eedb7"
      },
      "execution_count": null,
      "outputs": [
        {
          "output_type": "stream",
          "name": "stdout",
          "text": [
            "9.0\n"
          ]
        }
      ]
    },
    {
      "cell_type": "code",
      "source": [
        "#Pi-value\n",
        "print(math.pi)"
      ],
      "metadata": {
        "colab": {
          "base_uri": "https://localhost:8080/"
        },
        "id": "TYvYZniKRep8",
        "outputId": "29ab5aad-85fb-4279-c9f8-7ba560ec07ba"
      },
      "execution_count": null,
      "outputs": [
        {
          "output_type": "stream",
          "name": "stdout",
          "text": [
            "3.141592653589793\n"
          ]
        }
      ]
    },
    {
      "cell_type": "code",
      "source": [
        "#epsilon\n",
        "print(math.e)"
      ],
      "metadata": {
        "colab": {
          "base_uri": "https://localhost:8080/"
        },
        "id": "gm-0l5GqRewu",
        "outputId": "e19c12fa-f497-43a7-afe4-dd0f68705f31"
      },
      "execution_count": null,
      "outputs": [
        {
          "output_type": "stream",
          "name": "stdout",
          "text": [
            "2.718281828459045\n"
          ]
        }
      ]
    },
    {
      "cell_type": "code",
      "source": [
        "m.sqrt(25)"
      ],
      "metadata": {
        "colab": {
          "base_uri": "https://localhost:8080/",
          "height": 141
        },
        "id": "oD9dYmOcRzhB",
        "outputId": "a164137c-d946-446d-bc4a-7c59bbb0ca3f"
      },
      "execution_count": null,
      "outputs": [
        {
          "output_type": "error",
          "ename": "NameError",
          "evalue": "name 'm' is not defined",
          "traceback": [
            "\u001b[0;31m---------------------------------------------------------------------------\u001b[0m",
            "\u001b[0;31mNameError\u001b[0m                                 Traceback (most recent call last)",
            "\u001b[0;32m<ipython-input-15-2a3b3a80da28>\u001b[0m in \u001b[0;36m<cell line: 1>\u001b[0;34m()\u001b[0m\n\u001b[0;32m----> 1\u001b[0;31m \u001b[0mm\u001b[0m\u001b[0;34m.\u001b[0m\u001b[0msqrt\u001b[0m\u001b[0;34m(\u001b[0m\u001b[0;36m25\u001b[0m\u001b[0;34m)\u001b[0m\u001b[0;34m\u001b[0m\u001b[0;34m\u001b[0m\u001b[0m\n\u001b[0m",
            "\u001b[0;31mNameError\u001b[0m: name 'm' is not defined"
          ]
        }
      ]
    },
    {
      "cell_type": "code",
      "source": [
        "#when you are lazy gto type math function\n",
        "import math as m\n",
        "x=m.sqrt(25)\n",
        "x"
      ],
      "metadata": {
        "colab": {
          "base_uri": "https://localhost:8080/"
        },
        "id": "-_diKtZgR1gj",
        "outputId": "67ca7fad-4caf-44ea-ba73-46715b32d3b7"
      },
      "execution_count": null,
      "outputs": [
        {
          "output_type": "execute_result",
          "data": {
            "text/plain": [
              "5.0"
            ]
          },
          "metadata": {},
          "execution_count": 17
        }
      ]
    },
    {
      "cell_type": "code",
      "source": [
        "#when you want to import two functions\n",
        "from math import sqrt,pow\n",
        "x=sqrt(9)\n",
        "y=pow(3,2)\n",
        "print(x,y)"
      ],
      "metadata": {
        "colab": {
          "base_uri": "https://localhost:8080/"
        },
        "id": "nKxqhPLCSeOj",
        "outputId": "6d6ca949-a270-4740-9131-26cf6d8f6d6b"
      },
      "execution_count": null,
      "outputs": [
        {
          "output_type": "stream",
          "name": "stdout",
          "text": [
            "3.0 9.0\n"
          ]
        }
      ]
    },
    {
      "cell_type": "code",
      "source": [
        "#floor function- Returns the largest integer less than or equal to x.\n",
        "math.floor(5.0)"
      ],
      "metadata": {
        "colab": {
          "base_uri": "https://localhost:8080/"
        },
        "id": "CGlQ0RgDTBGN",
        "outputId": "fe6884b4-f649-4728-91fd-838ba6b6fe0f"
      },
      "execution_count": null,
      "outputs": [
        {
          "output_type": "execute_result",
          "data": {
            "text/plain": [
              "5"
            ]
          },
          "metadata": {},
          "execution_count": 26
        }
      ]
    },
    {
      "cell_type": "code",
      "source": [
        "#exponential function-Returns the exponential value of x.\n",
        "math.exp(3)"
      ],
      "metadata": {
        "colab": {
          "base_uri": "https://localhost:8080/"
        },
        "id": "ZJ1InIcBTJfP",
        "outputId": "9ce607d9-7024-4528-8912-f0d6e30b35de"
      },
      "execution_count": null,
      "outputs": [
        {
          "output_type": "execute_result",
          "data": {
            "text/plain": [
              "20.085536923187668"
            ]
          },
          "metadata": {},
          "execution_count": 29
        }
      ]
    },
    {
      "cell_type": "code",
      "source": [
        "#Returns the natural logarithm (base e) of x or the logarithm of x with the specified base\n",
        "math.log(2.4)"
      ],
      "metadata": {
        "colab": {
          "base_uri": "https://localhost:8080/"
        },
        "id": "T2RLQX2XTy45",
        "outputId": "0295348b-006a-45b7-838f-419b9230c831"
      },
      "execution_count": null,
      "outputs": [
        {
          "output_type": "execute_result",
          "data": {
            "text/plain": [
              "0.8754687373538999"
            ]
          },
          "metadata": {},
          "execution_count": 32
        }
      ]
    },
    {
      "cell_type": "code",
      "source": [
        "#Returns the trigonometric sine, cosine, or tangent of x, respectively.\n",
        "math.sin(45), math.cos(45), math.tan(45)"
      ],
      "metadata": {
        "colab": {
          "base_uri": "https://localhost:8080/"
        },
        "id": "4DnCPLx7UnPq",
        "outputId": "37d3c004-792b-44ad-b29f-a201aa3b28b3"
      },
      "execution_count": null,
      "outputs": [
        {
          "output_type": "execute_result",
          "data": {
            "text/plain": [
              "(0.8509035245341184, 0.5253219888177297, 1.6197751905438615)"
            ]
          },
          "metadata": {},
          "execution_count": 33
        }
      ]
    }
  ]
}