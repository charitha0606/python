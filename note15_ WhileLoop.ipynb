{
 "cells": [
  {
   "cell_type": "markdown",
   "id": "8c76ea81-c8da-4cd6-ab3c-ff33aa14f0f4",
   "metadata": {},
   "source": [
    "Loops in Python language\n",
    "- What is the use of loops?\n",
    "- While loop and its implementation\n",
    "- Syntax of the while loop\n",
    "- Nested while loops in python\n",
    "- What is the 'end' parameter in python?\n",
    "\n",
    "\n",
    "#1\n",
    "- We can execute a statement multiple times, by using the loops.\n",
    "- There are two types of a loop:\n",
    "1. For loop\n",
    "2. While loop\n",
    "\n",
    "- In the while loop, we need a counter to count the number of times, a statement can be executed.\n",
    "- We also have to put a condition in a while loop to repeat a statement until the given condition is satisfied.\n",
    "- The while Loop. With the while loop, we can execute a set of statements as long as a condition is true.\n",
    "- When the condition becomes false, the line immediately after the loop in the program is executed.\n",
    "- The value of the counter will increase or decrease until the condition gets false.\n",
    "\n",
    "#2\n",
    "- Syntax of the while loop:-\n",
    " counter variable\n",
    " while (condition):\n",
    "  statements;\n",
    "  incrementation/ decrementation\n",
    "\n",
    "- So, there must be three things in a while loop:-\n",
    "1. Initialization\n",
    "2. Condition\n",
    "3. Increment / Decrement\n",
    "- Nested while loops can also be used in Python.\n",
    "- Nested while loop simply means that a loop inside another loop.\n",
    "\n",
    "#3\n",
    "- To print the values in the same, we use (end=\" \"). The value will not come in the new line after using it.\n",
    "- Passing the whitespace to the end parameter (end=' ') indicates that the end character has to be identified by whitespace and not a new line"
   ]
  },
  {
   "cell_type": "code",
   "execution_count": 3,
   "id": "c60cbddb-bdac-42c0-9a4d-99beed5700b1",
   "metadata": {},
   "outputs": [
    {
     "name": "stdout",
     "output_type": "stream",
     "text": [
      "Hi baby\n",
      "Hi baby\n",
      "Hi baby\n",
      "Hi baby\n",
      "Hi baby\n"
     ]
    }
   ],
   "source": [
    "#While loop\n",
    "#to print 5 times using while loop\n",
    "i=1 #initialization\n",
    "while i<=5: #condition\n",
    "    print('Hi baby')\n",
    "    i=i+1 #increment/decrement"
   ]
  },
  {
   "cell_type": "code",
   "execution_count": 4,
   "id": "ca38d905-d462-49a6-a061-4fb6aecd3799",
   "metadata": {},
   "outputs": [
    {
     "name": "stdout",
     "output_type": "stream",
     "text": [
      "Hi baby\n"
     ]
    }
   ],
   "source": [
    "i=5 #initialization\n",
    "while i<=5: #condition\n",
    "    print('Hi baby')\n",
    "    i=i+1 #increment/decrement"
   ]
  },
  {
   "cell_type": "code",
   "execution_count": 13,
   "id": "daad1dbf-4150-465f-b806-931c1305487e",
   "metadata": {},
   "outputs": [
    {
     "name": "stdout",
     "output_type": "stream",
     "text": [
      "Hi baby\n",
      "Hi baby\n"
     ]
    }
   ],
   "source": [
    "i=4#initialization\n",
    "while i<=5: #condition\n",
    "    print('Hi baby')\n",
    "    i=i+1 #increment/decrement"
   ]
  },
  {
   "cell_type": "code",
   "execution_count": 14,
   "id": "8bde1c9d-9166-4a4e-8bd6-875153e104a3",
   "metadata": {},
   "outputs": [
    {
     "name": "stdout",
     "output_type": "stream",
     "text": [
      "Hi baby 4\n",
      "Hi baby 5\n"
     ]
    }
   ],
   "source": [
    "i=4#initialization\n",
    "while i<=5: #condition\n",
    "    print('Hi baby', i)\n",
    "    i=i+1 #increment/decrement"
   ]
  },
  {
   "cell_type": "code",
   "execution_count": 16,
   "id": "b2f0638e-11ff-491b-aae8-7eb3f7c587ae",
   "metadata": {},
   "outputs": [
    {
     "name": "stdout",
     "output_type": "stream",
     "text": [
      "Hi baby 5\n",
      "Hi baby 4\n",
      "Hi baby 3\n",
      "Hi baby 2\n",
      "Hi baby 1\n"
     ]
    }
   ],
   "source": [
    "i=5 #initialization\n",
    "while i>=1: #condition\n",
    "    print('Hi baby', i) # here i is counting the print\n",
    "    i=i-1 #increment/decrement"
   ]
  },
  {
   "cell_type": "code",
   "execution_count": 19,
   "id": "d0fb5105-e643-47f0-8843-44cb33d72eb7",
   "metadata": {},
   "outputs": [
    {
     "name": "stdout",
     "output_type": "stream",
     "text": [
      "Hey\n",
      "there\n",
      "there\n",
      "there\n",
      "there\n",
      "there\n",
      "Hey\n",
      "Hey\n",
      "Hey\n",
      "Hey\n"
     ]
    }
   ],
   "source": [
    "i=1\n",
    "j=1\n",
    "while i<=5:\n",
    "    print('Hey')\n",
    "    while j<=5:\n",
    "        print('there')\n",
    "        j=j+1\n",
    "    i=i+1"
   ]
  },
  {
   "cell_type": "code",
   "execution_count": 24,
   "id": "44e9c8c4-f641-4d28-b992-7b3fc82554ae",
   "metadata": {},
   "outputs": [
    {
     "name": "stdout",
     "output_type": "stream",
     "text": [
      "Hey there there there there there \n",
      "Hey \n",
      "Hey \n",
      "Hey \n",
      "Hey \n"
     ]
    }
   ],
   "source": [
    "i=1\n",
    "j=1\n",
    "while i<=5:\n",
    "    print('Hey', end= \" \")\n",
    "    while j<=5:\n",
    "        print('there', end=\" \")\n",
    "        j=j+1\n",
    "    i=i+1\n",
    "    print()"
   ]
  },
  {
   "cell_type": "code",
   "execution_count": 27,
   "id": "6282a12f-4103-4b9e-9e33-f318f8efc8ca",
   "metadata": {},
   "outputs": [
    {
     "name": "stdout",
     "output_type": "stream",
     "text": [
      "Hey there there there there there \n",
      "Hey there there there there there \n",
      "Hey there there there there there \n",
      "Hey there there there there there \n",
      "Hey there there there there there \n"
     ]
    }
   ],
   "source": [
    "i=1\n",
    "while i<=5:\n",
    "    print('Hey', end= \" \")\n",
    "    j=1\n",
    "    while j<=5:\n",
    "        print('there', end=\" \")\n",
    "        j=j+1\n",
    "    i=i+1\n",
    "    print()"
   ]
  }
 ],
 "metadata": {
  "kernelspec": {
   "display_name": "Python 3 (ipykernel)",
   "language": "python",
   "name": "python3"
  },
  "language_info": {
   "codemirror_mode": {
    "name": "ipython",
    "version": 3
   },
   "file_extension": ".py",
   "mimetype": "text/x-python",
   "name": "python",
   "nbconvert_exporter": "python",
   "pygments_lexer": "ipython3",
   "version": "3.12.2"
  }
 },
 "nbformat": 4,
 "nbformat_minor": 5
}
