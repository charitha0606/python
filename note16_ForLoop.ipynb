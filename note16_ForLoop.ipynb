{
 "cells": [
  {
   "cell_type": "markdown",
   "id": "f38214d3-c4ff-4c8b-a44d-a7fed159274e",
   "metadata": {},
   "source": [
    "#1 break \n",
    "#2 continue\n",
    "#3 pass \n",
    "\n",
    "In Python, break, continue, and pass are control flow statements that are used to\n",
    "alter the normal flow of execution in a loop or conditional statement.\n",
    "\n",
    "#1\n",
    "break: The break statement is used to terminate a loop prematurely when a certain condition is met. \n",
    "Once the break statement is encountered inside a loop, the loop is immediately terminated and the program continues \n",
    "with the next statement after the loop.\n",
    "\n",
    "for i in range(1, 6):\n",
    "    if i == 3:\n",
    "        break\n",
    "    print(i)\n",
    "\n",
    "output:\n",
    "1\n",
    "2\n",
    "\n",
    "#2\n",
    "continue: The continue statement is used to skip the current iteration of a loop and move on to the next iteration, \n",
    "without executing the remaining code in the loop for the current iteration.\n",
    "\n",
    "for i in range(1, 6):\n",
    "    if i == 3:\n",
    "        continue\n",
    "    print(i)\n",
    "\n",
    "output:\n",
    "1\n",
    "2\n",
    "4\n",
    "5\n",
    "\n",
    "\n",
    "#3\n",
    "pass: The pass statement is a placeholder statement that is used to indicate that no action should be taken. It is often used \n",
    "as a placeholder when writing code that will be filled in later.\n",
    "\n",
    "for i in range(1, 6):\n",
    "    if i == 3:\n",
    "        pass\n",
    "    else:\n",
    "        print(i)\n",
    "\n",
    "output:\n",
    "1\n",
    "2\n",
    "4\n",
    "5"
   ]
  },
  {
   "cell_type": "code",
   "execution_count": 3,
   "id": "19308b92-f56b-4a12-81d0-95b97d986540",
   "metadata": {},
   "outputs": [
    {
     "name": "stdout",
     "output_type": "stream",
     "text": [
      "Charitha\n",
      "21\n",
      "Female\n"
     ]
    }
   ],
   "source": [
    "#in forloop we do not use conditions like initialization, condition, increment/decrement.in forloop automatically conditions will be taken.\n",
    "x=['Charitha',21,'Female']\n",
    "for i in x:\n",
    "    print(i)"
   ]
  },
  {
   "cell_type": "code",
   "execution_count": 4,
   "id": "b5cfb385-2e05-4967-a50e-1b5b85260f18",
   "metadata": {},
   "outputs": [
    {
     "name": "stdout",
     "output_type": "stream",
     "text": [
      "C\n",
      "h\n",
      "a\n",
      "r\n",
      "i\n",
      "t\n",
      "h\n",
      "a\n"
     ]
    }
   ],
   "source": [
    "x='Charitha'\n",
    "for i in x:\n",
    "    print(i)"
   ]
  },
  {
   "cell_type": "code",
   "execution_count": 6,
   "id": "5b79c41a-26e0-407d-bcad-e32b7f1a403d",
   "metadata": {},
   "outputs": [
    {
     "name": "stdout",
     "output_type": "stream",
     "text": [
      "C\n",
      "h\n",
      "a\n",
      "r\n",
      "i\n",
      "t\n",
      "h\n",
      "a\n"
     ]
    }
   ],
   "source": [
    "for i in 'Charitha':\n",
    "    print(i)"
   ]
  },
  {
   "cell_type": "code",
   "execution_count": 12,
   "id": "358d6343-425f-41dd-a2ca-b53033fce161",
   "metadata": {},
   "outputs": [
    {
     "name": "stdout",
     "output_type": "stream",
     "text": [
      "Charitha 21 Female "
     ]
    }
   ],
   "source": [
    "for i in ['Charitha',21,'Female']:\n",
    "    print(i,end=\" \")"
   ]
  },
  {
   "cell_type": "code",
   "execution_count": 17,
   "id": "944b9255-7f91-4f78-850f-ba471896de6c",
   "metadata": {},
   "outputs": [
    {
     "name": "stdout",
     "output_type": "stream",
     "text": [
      "10\n",
      "11\n",
      "12\n",
      "13\n",
      "14\n",
      "15\n"
     ]
    }
   ],
   "source": [
    "for i in range(10,16,1): #here (start, end, iteration)\n",
    "    print(i)"
   ]
  },
  {
   "cell_type": "code",
   "execution_count": 18,
   "id": "b2d720f4-0173-4134-8e51-26b8e09be39d",
   "metadata": {},
   "outputs": [
    {
     "name": "stdout",
     "output_type": "stream",
     "text": [
      "20\n",
      "19\n",
      "18\n",
      "17\n"
     ]
    }
   ],
   "source": [
    "#reverse order to print range\n",
    "for i in range(20,16,-1): #here (start, end, iteration)\n",
    "    print(i)"
   ]
  },
  {
   "cell_type": "code",
   "execution_count": 20,
   "id": "9c03f90c-98f4-4f75-83bf-70e1869a02dc",
   "metadata": {},
   "outputs": [
    {
     "name": "stdout",
     "output_type": "stream",
     "text": [
      "1\n",
      "2\n",
      "3\n",
      "4\n",
      "6\n",
      "7\n",
      "8\n",
      "9\n"
     ]
    }
   ],
   "source": [
    "#suppose i have to print the range from 1 to 10 except divisible by 5. for that we have to use if statement\n",
    "for i in range(1,11,1): #here (start, end, iteration)\n",
    "    if i%5!=0:\n",
    "        print(i)"
   ]
  },
  {
   "cell_type": "code",
   "execution_count": null,
   "id": "2a4ec910-fb24-43af-8a83-1f716adaccd3",
   "metadata": {},
   "outputs": [],
   "source": []
  }
 ],
 "metadata": {
  "kernelspec": {
   "display_name": "Python 3 (ipykernel)",
   "language": "python",
   "name": "python3"
  },
  "language_info": {
   "codemirror_mode": {
    "name": "ipython",
    "version": 3
   },
   "file_extension": ".py",
   "mimetype": "text/x-python",
   "name": "python",
   "nbconvert_exporter": "python",
   "pygments_lexer": "ipython3",
   "version": "3.12.2"
  }
 },
 "nbformat": 4,
 "nbformat_minor": 5
}
