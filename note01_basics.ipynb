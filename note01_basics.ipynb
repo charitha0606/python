{
  "nbformat": 4,
  "nbformat_minor": 0,
  "metadata": {
    "colab": {
      "provenance": [],
      "authorship_tag": "ABX9TyO34ExwhQ6J1UT5mjVoGiGl",
      "include_colab_link": true
    },
    "kernelspec": {
      "name": "python3",
      "display_name": "Python 3"
    },
    "language_info": {
      "name": "python"
    }
  },
  "cells": [
    {
      "cell_type": "markdown",
      "metadata": {
        "id": "view-in-github",
        "colab_type": "text"
      },
      "source": [
        "<a href=\"https://colab.research.google.com/github/charitha0606/python/blob/main/note01_basics.ipynb\" target=\"_parent\"><img src=\"https://colab.research.google.com/assets/colab-badge.svg\" alt=\"Open In Colab\"/></a>"
      ]
    },
    {
      "cell_type": "markdown",
      "source": [
        "How operations are performed in Python language?\n",
        "- Different types of Arithmetic operations\n",
        "- What are strings?\n",
        "- How strings are used in Python?\n",
        "- Function in a Python\n",
        "- Concatenation and Repetition of Strings\n",
        "- New line character and Raw string\n",
        "#1\n",
        "- We will the Python IDLE in this tutorial.\n",
        "- The language that the computer understands is Binary Code i.e, 0 and 1.\n",
        "- We use a programming language to write code, which is neither a binary language nor English.\n",
        "- Programming language has its own protocols and grammar which we use.\n",
        "- We will write code in a programming language say Python and then it will convert into a binary format that the computer will understand.\n",
        "- We can perform several operations using Python language.\n",
        "#2\n",
        "- Starting with operations like Addition, Subtraction, Multiplication, and Division.\n",
        "- We do addition, subtraction and multiplication with integer values, and then it gives us answers also in integer data type.\n",
        "- But when performing division with integer values then it gives us an answer in float data type.\n",
        "- Float stands for Floating Point Representation.\n",
        "- When we divide two integer values then it might be possible that the answer can in decimal.\n",
        " e.g.,  5/2 = 2.5\n",
        "- As the interpreter wants to give you an exact answer for the division also, it will return it in float.\n",
        "- If you want to get only the quotient part or the integer part of the answer and want to neglect the decimal value, it can be done with the help of (//).\n",
        "- // (double slash) is used for division when you want to return only an integer value in the answer.\n",
        "- // is also called Integer Division or Floor Division.\n",
        "- We can multiple operations in a single statement as well.\n",
        "- We need to follow the proper syntax for the programming language.\n",
        "- If we apply an operation but do not give operands, then it will give an error.\n",
        " 8+9-        = Error\n",
        "- We can also apply BODMASS rules of mathematics to perform operations.\n",
        "- Double asterisks (**) is used to find the power of a number.\n",
        " number ** power =  2**3 = 2*2*2\n",
        "- To get the remainder, we use the modulus operator (%).\n",
        "\n",
        "#3\n",
        "- String is a combination of characters like \"Youtube\", \"Camera\", \"Telusko\", \"Python\", etc., all are strings.\n",
        "- Whenever we use strings, we need to use double quotes(\" \") or single quotes(' ') with it in python.\n",
        "- If you back-slash(\\) to tell the python to ignore the special meaning of that double and single quotes.\n",
        "- If you use a back-slash before a single or double quotes then the quote is also treated as a simple character.\n",
        "\n",
        "#4\n",
        "- Function is a set of tasks that can be done. We need to call functions. There are several functions in Python like the print() function.\n",
        "- Round brackets are used with a function to pass a parameter in it.\n",
        "- We can define our own functions as well.\n",
        "\n",
        "#5\n",
        "- Concatenation is used to combine two things like we can convert two strings into one using concatenation.\n",
        "- Concatenation is done using the (+) operator.\n",
        "e.g., 'navin' + 'navin'\n",
        "\n",
        "- Repetition is used to print a single value multiple times like we can print a string like \"Navin\" multiple times.\n",
        "- Repetition is done using the (*) operator.\n",
        "e.g.,  'navin' * 3\n",
        "\n",
        "#6\n",
        "- (\\n) has a special meaning in Python. It is used to enter a new line.\n",
        "- To print the original string or to neglect the meaning of \\n, we have to use a Raw String.\n",
        "- Raw string is a string that returns it as it is without making any changes to it.\n",
        "- We have to specify (r) before the quote to print the same string that is present inside the quotes.\n"
      ],
      "metadata": {
        "id": "8NZCXtTrXKm3"
      }
    },
    {
      "cell_type": "markdown",
      "source": [
        "Basic Arithematic\n"
      ],
      "metadata": {
        "id": "p3PwsiaQUXoZ"
      }
    },
    {
      "cell_type": "code",
      "source": [
        "2+3"
      ],
      "metadata": {
        "colab": {
          "base_uri": "https://localhost:8080/"
        },
        "id": "AMvd1aUnUhM8",
        "outputId": "628dffa2-c7f1-4396-936c-99ebe6507f55"
      },
      "execution_count": null,
      "outputs": [
        {
          "output_type": "execute_result",
          "data": {
            "text/plain": [
              "5"
            ]
          },
          "metadata": {},
          "execution_count": 2
        }
      ]
    },
    {
      "cell_type": "code",
      "source": [
        "2-3"
      ],
      "metadata": {
        "colab": {
          "base_uri": "https://localhost:8080/"
        },
        "id": "NcyqTXbBUjba",
        "outputId": "760781da-1b68-4921-b2ce-9f02d2c3251d"
      },
      "execution_count": null,
      "outputs": [
        {
          "output_type": "execute_result",
          "data": {
            "text/plain": [
              "-1"
            ]
          },
          "metadata": {},
          "execution_count": 3
        }
      ]
    },
    {
      "cell_type": "code",
      "source": [
        "2*3"
      ],
      "metadata": {
        "colab": {
          "base_uri": "https://localhost:8080/"
        },
        "id": "zamUDiP7UmEU",
        "outputId": "e792cb42-b985-49fd-ae31-a9a7aaffbdaa"
      },
      "execution_count": null,
      "outputs": [
        {
          "output_type": "execute_result",
          "data": {
            "text/plain": [
              "6"
            ]
          },
          "metadata": {},
          "execution_count": 4
        }
      ]
    },
    {
      "cell_type": "code",
      "source": [
        "2/3 #float division"
      ],
      "metadata": {
        "colab": {
          "base_uri": "https://localhost:8080/"
        },
        "id": "YoU5BNU6Uqn_",
        "outputId": "8807a96d-5ea5-4a93-dbbb-a9dc62610a57"
      },
      "execution_count": null,
      "outputs": [
        {
          "output_type": "execute_result",
          "data": {
            "text/plain": [
              "0.6666666666666666"
            ]
          },
          "metadata": {},
          "execution_count": 7
        }
      ]
    },
    {
      "cell_type": "code",
      "source": [
        "2//3 #integer division"
      ],
      "metadata": {
        "colab": {
          "base_uri": "https://localhost:8080/"
        },
        "id": "iaqcnssZUumT",
        "outputId": "8b4b9f47-49eb-4a6b-f58d-96817639a679"
      },
      "execution_count": null,
      "outputs": [
        {
          "output_type": "execute_result",
          "data": {
            "text/plain": [
              "0"
            ]
          },
          "metadata": {},
          "execution_count": 8
        }
      ]
    },
    {
      "cell_type": "code",
      "source": [
        "8+9-10"
      ],
      "metadata": {
        "colab": {
          "base_uri": "https://localhost:8080/"
        },
        "id": "OjGnpS6uVGgt",
        "outputId": "45728679-8ab5-4b4d-9373-87af12e4c571"
      },
      "execution_count": null,
      "outputs": [
        {
          "output_type": "execute_result",
          "data": {
            "text/plain": [
              "7"
            ]
          },
          "metadata": {},
          "execution_count": 10
        }
      ]
    },
    {
      "cell_type": "code",
      "source": [
        "8+2*3"
      ],
      "metadata": {
        "colab": {
          "base_uri": "https://localhost:8080/"
        },
        "id": "9Uta2UJjVN_S",
        "outputId": "6ac9488c-059e-493e-8753-d210511bbbf0"
      },
      "execution_count": null,
      "outputs": [
        {
          "output_type": "execute_result",
          "data": {
            "text/plain": [
              "14"
            ]
          },
          "metadata": {},
          "execution_count": 11
        }
      ]
    },
    {
      "cell_type": "code",
      "source": [
        "(8+2)*3"
      ],
      "metadata": {
        "colab": {
          "base_uri": "https://localhost:8080/"
        },
        "id": "KxXpBKguVWLz",
        "outputId": "6db4795e-1e90-4c6b-d6dd-00617327f5a6"
      },
      "execution_count": null,
      "outputs": [
        {
          "output_type": "execute_result",
          "data": {
            "text/plain": [
              "30"
            ]
          },
          "metadata": {},
          "execution_count": 12
        }
      ]
    },
    {
      "cell_type": "code",
      "source": [
        "2*2*2"
      ],
      "metadata": {
        "colab": {
          "base_uri": "https://localhost:8080/"
        },
        "id": "cgLlCfynVkB0",
        "outputId": "c28fb375-e49d-46c3-ce3a-be2f8c4dc68d"
      },
      "execution_count": null,
      "outputs": [
        {
          "output_type": "execute_result",
          "data": {
            "text/plain": [
              "8"
            ]
          },
          "metadata": {},
          "execution_count": 14
        }
      ]
    },
    {
      "cell_type": "code",
      "source": [
        "2**3"
      ],
      "metadata": {
        "colab": {
          "base_uri": "https://localhost:8080/"
        },
        "id": "w1_emdBUVoEb",
        "outputId": "6e9565a5-89e6-4fbc-dd78-d8c2dbf31286"
      },
      "execution_count": null,
      "outputs": [
        {
          "output_type": "execute_result",
          "data": {
            "text/plain": [
              "8"
            ]
          },
          "metadata": {},
          "execution_count": 17
        }
      ]
    },
    {
      "cell_type": "code",
      "source": [
        "#DIVISION\n",
        "10//3"
      ],
      "metadata": {
        "colab": {
          "base_uri": "https://localhost:8080/"
        },
        "id": "bua89v4QV7Tz",
        "outputId": "fd42549d-d61d-42be-b991-6fd0acd7e3e3"
      },
      "execution_count": null,
      "outputs": [
        {
          "output_type": "execute_result",
          "data": {
            "text/plain": [
              "3"
            ]
          },
          "metadata": {},
          "execution_count": 18
        }
      ]
    },
    {
      "cell_type": "code",
      "source": [
        "#REMINDER\n",
        "10%3 # % = Mod"
      ],
      "metadata": {
        "colab": {
          "base_uri": "https://localhost:8080/"
        },
        "id": "gq-yEBbSV_yY",
        "outputId": "1fc0b6e5-2d45-4184-d4a5-22b252d5806a"
      },
      "execution_count": null,
      "outputs": [
        {
          "output_type": "execute_result",
          "data": {
            "text/plain": [
              "1"
            ]
          },
          "metadata": {},
          "execution_count": 20
        }
      ]
    },
    {
      "cell_type": "code",
      "source": [
        "#String\n",
        "'cherry'"
      ],
      "metadata": {
        "colab": {
          "base_uri": "https://localhost:8080/",
          "height": 35
        },
        "id": "NEB0eG6wWOta",
        "outputId": "a128fe2e-ee7d-4580-e583-eb2d1495146f"
      },
      "execution_count": null,
      "outputs": [
        {
          "output_type": "execute_result",
          "data": {
            "text/plain": [
              "'cherry'"
            ],
            "application/vnd.google.colaboratory.intrinsic+json": {
              "type": "string"
            }
          },
          "metadata": {},
          "execution_count": 22
        }
      ]
    },
    {
      "cell_type": "code",
      "source": [
        "print('cherry')"
      ],
      "metadata": {
        "colab": {
          "base_uri": "https://localhost:8080/"
        },
        "id": "3dqcdcVwWO_o",
        "outputId": "22cc5cb0-ce1e-48e4-a7e5-d2fb883da6b7"
      },
      "execution_count": null,
      "outputs": [
        {
          "output_type": "stream",
          "name": "stdout",
          "text": [
            "cherry\n"
          ]
        }
      ]
    },
    {
      "cell_type": "code",
      "source": [
        "print(\"cherry's lap\")"
      ],
      "metadata": {
        "colab": {
          "base_uri": "https://localhost:8080/"
        },
        "id": "Kezk83buXElS",
        "outputId": "bbf1995d-f34f-4b97-ea7a-ad5d9bfc80d4"
      },
      "execution_count": null,
      "outputs": [
        {
          "output_type": "stream",
          "name": "stdout",
          "text": [
            "cherry's lap\n"
          ]
        }
      ]
    },
    {
      "cell_type": "code",
      "source": [
        "print('cherry \"lap\"')"
      ],
      "metadata": {
        "colab": {
          "base_uri": "https://localhost:8080/"
        },
        "id": "jjFZ3AxEX2rW",
        "outputId": "7fa4b604-0eef-4c1f-c366-7fd246b291d1"
      },
      "execution_count": null,
      "outputs": [
        {
          "output_type": "stream",
          "name": "stdout",
          "text": [
            "cherry \"lap\"\n"
          ]
        }
      ]
    },
    {
      "cell_type": "code",
      "source": [
        "print('cherry\\'s \"laptop\"')"
      ],
      "metadata": {
        "colab": {
          "base_uri": "https://localhost:8080/"
        },
        "id": "IZ55R2UvX9Aq",
        "outputId": "e22ecf0f-d6d8-4fea-cc29-a2f41c187cb1"
      },
      "execution_count": null,
      "outputs": [
        {
          "output_type": "stream",
          "name": "stdout",
          "text": [
            "cherry's \"laptop\"\n"
          ]
        }
      ]
    },
    {
      "cell_type": "code",
      "source": [
        "'cherry'+'cherry'"
      ],
      "metadata": {
        "colab": {
          "base_uri": "https://localhost:8080/",
          "height": 35
        },
        "id": "Svqlkbe0YUb5",
        "outputId": "419f3edc-744d-4b9f-ad84-f9dbe8288123"
      },
      "execution_count": null,
      "outputs": [
        {
          "output_type": "execute_result",
          "data": {
            "text/plain": [
              "'cherrycherry'"
            ],
            "application/vnd.google.colaboratory.intrinsic+json": {
              "type": "string"
            }
          },
          "metadata": {},
          "execution_count": 31
        }
      ]
    },
    {
      "cell_type": "code",
      "source": [
        "'cherry'*10"
      ],
      "metadata": {
        "colab": {
          "base_uri": "https://localhost:8080/",
          "height": 35
        },
        "id": "5tpOmyUxYeBR",
        "outputId": "3d7d69de-a468-4692-ef35-d7aa95b3b958"
      },
      "execution_count": null,
      "outputs": [
        {
          "output_type": "execute_result",
          "data": {
            "text/plain": [
              "'cherrycherrycherrycherrycherrycherrycherrycherrycherrycherry'"
            ],
            "application/vnd.google.colaboratory.intrinsic+json": {
              "type": "string"
            }
          },
          "metadata": {},
          "execution_count": 33
        }
      ]
    },
    {
      "cell_type": "code",
      "source": [
        "print('c:\\cherry\\newyork') #\\n is new line"
      ],
      "metadata": {
        "colab": {
          "base_uri": "https://localhost:8080/"
        },
        "id": "xkMgSQenYxos",
        "outputId": "b4c3aa47-9a6a-42ae-e443-94e3eb358008"
      },
      "execution_count": null,
      "outputs": [
        {
          "output_type": "stream",
          "name": "stdout",
          "text": [
            "c:\\cherry\n",
            "ewyork\n"
          ]
        }
      ]
    },
    {
      "cell_type": "code",
      "source": [
        "print('c:\\cherry\\ewyork')"
      ],
      "metadata": {
        "colab": {
          "base_uri": "https://localhost:8080/"
        },
        "id": "5EpaZoEqZFCx",
        "outputId": "e7d132b1-692a-470b-df60-8a02f90a5fcd"
      },
      "execution_count": null,
      "outputs": [
        {
          "output_type": "stream",
          "name": "stdout",
          "text": [
            "c:\\cherry\\ewyork\n"
          ]
        }
      ]
    },
    {
      "cell_type": "code",
      "source": [
        "#Rawstring\n",
        "print(r'c:\\cherry\\newyork')"
      ],
      "metadata": {
        "colab": {
          "base_uri": "https://localhost:8080/"
        },
        "id": "wSb-GXZsaEOR",
        "outputId": "656db148-b048-40f2-d7ae-bb971df09d19"
      },
      "execution_count": null,
      "outputs": [
        {
          "output_type": "stream",
          "name": "stdout",
          "text": [
            "c:\\cherry\\newyork\n"
          ]
        }
      ]
    }
  ]
}