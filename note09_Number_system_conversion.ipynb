{
  "nbformat": 4,
  "nbformat_minor": 0,
  "metadata": {
    "colab": {
      "provenance": [],
      "authorship_tag": "ABX9TyOxhZnIH/6gf9xtIYOBm6mN",
      "include_colab_link": true
    },
    "kernelspec": {
      "name": "python3",
      "display_name": "Python 3"
    },
    "language_info": {
      "name": "python"
    }
  },
  "cells": [
    {
      "cell_type": "markdown",
      "metadata": {
        "id": "view-in-github",
        "colab_type": "text"
      },
      "source": [
        "<a href=\"https://colab.research.google.com/github/charitha0606/python/blob/main/note09_Number_system_conversion.ipynb\" target=\"_parent\"><img src=\"https://colab.research.google.com/assets/colab-badge.svg\" alt=\"Open In Colab\"/></a>"
      ]
    },
    {
      "cell_type": "markdown",
      "source": [
        "Number System and its conversion:\n",
        "\n",
        "In programming, the number system is a way of representing numbers using different bases.\n",
        "The most commonly used number systems in programming are the decimal (base 10),\n",
        "binary (base 2), octal (base 8), and hexadecimal (base 16) systems.\n",
        "\n",
        "a)Decimal system: This is the number system we use in our everyday lives. It uses 10 digits (0-9)\n",
        "to represent numbers.\n",
        "\n",
        "b)Binary system: This system uses only two digits (0 and 1) to represent numbers. It is commonly\n",
        "used in computer systems because digital devices work with binary signals.\n",
        "\n",
        "c)Octal system: This system uses 8 digits (0-7) to represent numbers. It's often used in computer programming\n",
        "because it's a compact way to represent binary numbers.\n",
        "\n",
        "d)Hexadecimal system: This system uses 16 digits (0-9 and A-F) to represent numbers. It's commonly used in computer programming\n",
        "and web development to represent colors and memory addresses.\n",
        "\n",
        "Converting  different number systems:\n",
        "\n",
        "Decimal to binary: Divide the decimal number by 2 and write down the remainder. Keep dividing by 2 and writing down the remainders until\n",
        "you get to 0 at quotient. Then, read the remainders in reverse order to get the binary number.\n",
        "e.g 51\n",
        "    2|51 |1\n",
        "    2|25 |1\n",
        "    2|12 |0\n",
        "    2|6  |0\n",
        "    2|3  |1\n",
        "    2|1  |1\n",
        "     |0  |1\n",
        "reverse order: 110011\n",
        "Binary to decimal: Multiply each digit in the binary number by the corresponding power of 2\n",
        "(starting with 2^0 on the right). Add up the results to get the decimal number.\n",
        "\n",
        "e.g 11011\n",
        "    2^4 2^3 2^2 2^1 2^0\n",
        "    1*16 1*8 0*4 1*2 1*1\n",
        "    16+8+0+2+1=27\n",
        "It is Same for octal and hexadecimal(Not in this lecture but for your knowledge)\n",
        "\n",
        "Decimal to octal: Divide the decimal number by 8 and write down the remainder. Keep dividing by 8 and\n",
        "writing down the remainders until you get to 0. Then, read the remainders in reverse order to get the\n",
        "octal number.\n",
        "e.g\n",
        "    51\n",
        "    8|51 |3\n",
        "    8|6  |6\n",
        "    8|0  |0\n",
        "    reverse order: 360\n",
        "Octal to decimal: Multiply each digit in the octal number by the corresponding power of 8 (starting with 8^0 on the right).\n",
        "Add up the results to get the decimal number.\n",
        "e.g\n",
        "    360\n",
        "    8^2 8^1 8^0\n",
        "    3*64 6*8 0*1\n",
        "    192+48+0=240\n",
        "\n",
        "Decimal to hexadecimal: Divide the decimal number by 16 and write down the remainder. If the remainder is\n",
        "greater than 9, replace it with the corresponding letter (A-F). Keep dividing by 16 and writing down the remainders\n",
        "until you get to 0. Then, read the remainders in reverse order to get the hexadecimal number.\n",
        "e.g\n",
        "    51\n",
        "    16|51 |3\n",
        "    16|3  |3\n",
        "    16|0  |0\n",
        "    reverse order: 33\n",
        "\n",
        "Hexadecimal to decimal: Multiply each digit in the hexadecimal number by the corresponding power of 16 (starting with 16^0 on the right).\n",
        "If a digit is a letter, replace it with the corresponding value (A=10, B=11, etc.). Add up the results to get the decimal number.\n",
        "e.g\n",
        "    33\n",
        "    16^1 16^0\n",
        "    3*16 3*1\n",
        "    48+3=51\n",
        "\n",
        "Only for Interest (Not in this lecture)\n",
        "Converting from octal to binary and binary to octal can be done using a simple method.\n",
        "Conversion from Octal to Binary:\n",
        "\n",
        "To convert an octal number to binary, we can simply replace each digit in the octal number with its equivalent three-digit binary number.\n",
        "Here are the octal-to-binary conversions for each octal digit:\n",
        "0 = 000\n",
        "1 = 001\n",
        "2 = 010\n",
        "3 = 011\n",
        "4 = 100\n",
        "5 = 101\n",
        "6 = 110\n",
        "7 = 111\n",
        "For example, to convert the octal number 725 to binary:\n",
        "7 = 111\n",
        "2 = 010\n",
        "5 = 101\n",
        "So, 725 in octal is equivalent to 111010101 in binary.\n",
        "Conversion from Binary to Octal:\n",
        "To convert a binary number to octal, you can group the binary digits into sets of three (starting from the right)\n",
        "and replace each set with its equivalent octal digit. Here are the binary-to-octal conversions for each set of three binary digits:\n",
        "000 = 0\n",
        "001 = 1\n",
        "010 = 2\n",
        "011 = 3\n",
        "100 = 4\n",
        "101 = 5\n",
        "110 = 6\n",
        "111 = 7\n",
        "For example, to convert the binary number 101011011 to octal:\n",
        "1 0 1   0 1 1    0 1 1\n",
        "|- - - ||- - - | |- - - |\n",
        " 5       3        3\n",
        "we get 533 in octal.\n",
        "\n",
        "Use of method in python to direclty convert number system:\n",
        "Decimal to binary: bin()\n",
        "e.g\n",
        "    bin(51)\n",
        "    '0b110011' # 0b represent binary formate\n",
        "binary to decimal: int()\n",
        "e.g\n",
        "    int('0b110011',2)\n",
        "    51\n",
        "\n",
        "Decimal to octal: oct()\n",
        "e.g\n",
        "    oct(51)\n",
        "    '0o63'  # 0o represent octal formate\n",
        "octal to decimal: int()\n",
        "e.g\n",
        "    int('0o63',8)\n",
        "    51\n",
        "\n",
        "Decimal to hexadecimal: hex()\n",
        "e.g\n",
        "    hex(51)\n",
        "    '0x33'  # 0x represent hexadecimal formate\n",
        "hexadecimal to decimal: int()\n",
        "e.g\n",
        "    int('0x33',16)\n",
        "    51"
      ],
      "metadata": {
        "id": "T9Mt2PyCB0oV"
      }
    },
    {
      "cell_type": "code",
      "source": [
        "#converting decimal into binary\n",
        "bin(25)"
      ],
      "metadata": {
        "colab": {
          "base_uri": "https://localhost:8080/",
          "height": 35
        },
        "id": "sv3KtAlqB08O",
        "outputId": "175e11c6-4225-4745-c648-5384c62625a2"
      },
      "execution_count": null,
      "outputs": [
        {
          "output_type": "execute_result",
          "data": {
            "text/plain": [
              "'0b11001'"
            ],
            "application/vnd.google.colaboratory.intrinsic+json": {
              "type": "string"
            }
          },
          "metadata": {},
          "execution_count": 2
        }
      ]
    },
    {
      "cell_type": "code",
      "source": [
        "#converting binary into decimal\n",
        "0b11001"
      ],
      "metadata": {
        "colab": {
          "base_uri": "https://localhost:8080/"
        },
        "id": "hAmxWEWZEdaf",
        "outputId": "a052aad1-8de0-4211-d9f6-5e16d00782f6"
      },
      "execution_count": null,
      "outputs": [
        {
          "output_type": "execute_result",
          "data": {
            "text/plain": [
              "25"
            ]
          },
          "metadata": {},
          "execution_count": 4
        }
      ]
    },
    {
      "cell_type": "code",
      "source": [
        "#converting decimal into octal\n",
        "oct(25)"
      ],
      "metadata": {
        "colab": {
          "base_uri": "https://localhost:8080/",
          "height": 35
        },
        "id": "nSWpQ5OkEt5L",
        "outputId": "7bbab5d9-5f0c-4997-ca21-24fb4c368369"
      },
      "execution_count": null,
      "outputs": [
        {
          "output_type": "execute_result",
          "data": {
            "text/plain": [
              "'0o31'"
            ],
            "application/vnd.google.colaboratory.intrinsic+json": {
              "type": "string"
            }
          },
          "metadata": {},
          "execution_count": 5
        }
      ]
    },
    {
      "cell_type": "code",
      "source": [
        "#converting decimal into hexadecimal\n",
        "hex(25)"
      ],
      "metadata": {
        "colab": {
          "base_uri": "https://localhost:8080/",
          "height": 35
        },
        "id": "bwZEmDiME5Ki",
        "outputId": "886fd54b-9d3e-43ae-86f8-c666de69305e"
      },
      "execution_count": null,
      "outputs": [
        {
          "output_type": "execute_result",
          "data": {
            "text/plain": [
              "'0x19'"
            ],
            "application/vnd.google.colaboratory.intrinsic+json": {
              "type": "string"
            }
          },
          "metadata": {},
          "execution_count": 6
        }
      ]
    },
    {
      "cell_type": "code",
      "source": [
        "hex(10)"
      ],
      "metadata": {
        "colab": {
          "base_uri": "https://localhost:8080/",
          "height": 35
        },
        "id": "o_jcdlAzFADa",
        "outputId": "44ebf113-cdab-4636-8652-88025b8298e0"
      },
      "execution_count": null,
      "outputs": [
        {
          "output_type": "execute_result",
          "data": {
            "text/plain": [
              "'0xa'"
            ],
            "application/vnd.google.colaboratory.intrinsic+json": {
              "type": "string"
            }
          },
          "metadata": {},
          "execution_count": 7
        }
      ]
    },
    {
      "cell_type": "code",
      "source": [
        "#converting hexadecimal into decimal\n",
        "0xa"
      ],
      "metadata": {
        "colab": {
          "base_uri": "https://localhost:8080/"
        },
        "id": "IQZ9qCe_FDGd",
        "outputId": "9ac19c9d-2f38-48cc-ff9b-375cf8aa61d7"
      },
      "execution_count": null,
      "outputs": [
        {
          "output_type": "execute_result",
          "data": {
            "text/plain": [
              "10"
            ]
          },
          "metadata": {},
          "execution_count": 8
        }
      ]
    },
    {
      "cell_type": "code",
      "source": [
        "bin(22)"
      ],
      "metadata": {
        "colab": {
          "base_uri": "https://localhost:8080/",
          "height": 35
        },
        "id": "Zf4QK9ySFPZX",
        "outputId": "bc87e307-e6b9-4cc7-c977-e749f424a4f0"
      },
      "execution_count": null,
      "outputs": [
        {
          "output_type": "execute_result",
          "data": {
            "text/plain": [
              "'0b10110'"
            ],
            "application/vnd.google.colaboratory.intrinsic+json": {
              "type": "string"
            }
          },
          "metadata": {},
          "execution_count": 9
        }
      ]
    },
    {
      "cell_type": "code",
      "source": [
        "bin(52)"
      ],
      "metadata": {
        "id": "1-Pu3Mp-FShe",
        "outputId": "9b0c69d5-e811-4e6d-d05b-402d7e01e33e",
        "colab": {
          "base_uri": "https://localhost:8080/",
          "height": 35
        }
      },
      "execution_count": null,
      "outputs": [
        {
          "output_type": "execute_result",
          "data": {
            "text/plain": [
              "'0b110100'"
            ],
            "application/vnd.google.colaboratory.intrinsic+json": {
              "type": "string"
            }
          },
          "metadata": {},
          "execution_count": 10
        }
      ]
    },
    {
      "cell_type": "code",
      "source": [
        "bin(65)"
      ],
      "metadata": {
        "id": "4ie9TH9LFUKW",
        "outputId": "0538c924-7c31-43b6-bde1-7892f41fe15a",
        "colab": {
          "base_uri": "https://localhost:8080/",
          "height": 35
        }
      },
      "execution_count": null,
      "outputs": [
        {
          "output_type": "execute_result",
          "data": {
            "text/plain": [
              "'0b1000001'"
            ],
            "application/vnd.google.colaboratory.intrinsic+json": {
              "type": "string"
            }
          },
          "metadata": {},
          "execution_count": 11
        }
      ]
    }
  ]
}