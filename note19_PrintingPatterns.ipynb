{
 "cells": [
  {
   "cell_type": "markdown",
   "id": "9f3777e2-48e8-483c-befc-0ce0f99fd950",
   "metadata": {},
   "source": [
    "#1\n",
    "- Pattern printing improves logical thinking capability.\n",
    "- Programming is all about solving the problem, we have to understand the problem statement and wrote code for it.\n",
    "- A pattern can be printed in many ways.\n",
    "- We can print multiple hashes(#) in a single statement as a string.\n",
    "- If you are allowed to print only hash in a statement at a time, then you have to write the same print statement multiple times. \n",
    "- On writing a statement multiple times, it will give an output in a column.\n",
    "- To convert a column output into a row format, we can use the end=\" \"parameter in every statement. \n",
    "- To will restrict the cursor to move on a new line and hashes(#) will be printed in a single row.\n",
    " \n",
    "#2\n",
    "- Instead of writing the same code multiple times, we can use a for a loop.\n",
    "- For a range(n) in a for loop, it will start from 0 and end at (n-1).\n",
    "- We can use two loops, for printing two rows separated by a new line.\n",
    "- For printing multiple rows, we have to write the same for loop code repeatedly.\n",
    "- So, we can write the above for loop block inside another outer loop. \n",
    "- In nested loops, an outer loop contains a variable that represents the number of rows and an inner loop contains a variable that represents the number of columns.\n",
    "\n",
    "#3\n",
    "- We can apply the concept to different patterns in a similar way. \n",
    "e.g., for printing a right -triangle, we can restrict the inner loop till the value of a number of rows.\n",
    "- For the reverse of the right triangle, we can restrict the inner loop till (n-i), where i is the number of rows.\n"
   ]
  },
  {
   "cell_type": "code",
   "execution_count": 5,
   "id": "0fe1268b-d965-4c7f-8a80-09646a8534e5",
   "metadata": {},
   "outputs": [
    {
     "name": "stdout",
     "output_type": "stream",
     "text": [
      "* * * * \n",
      "* * * * \n",
      "* * * * \n",
      "* * * * \n"
     ]
    }
   ],
   "source": [
    "i=1\n",
    "while i<=4:\n",
    "    print('*', end=\" \")\n",
    "    j=1\n",
    "    while j<=3:\n",
    "        print('*', end=\" \")\n",
    "        j+=1\n",
    "    i+=1\n",
    "    print()"
   ]
  },
  {
   "cell_type": "code",
   "execution_count": 8,
   "id": "28cfea4f-118e-43a0-bc7e-53c9a3188016",
   "metadata": {},
   "outputs": [
    {
     "name": "stdout",
     "output_type": "stream",
     "text": [
      "* * * * \n"
     ]
    }
   ],
   "source": [
    "for i in range(4):\n",
    "        print('*', end=\" \")\n",
    "print()"
   ]
  },
  {
   "cell_type": "code",
   "execution_count": 9,
   "id": "a74856af-fd97-4ea3-b230-1e2b32677dd8",
   "metadata": {},
   "outputs": [
    {
     "name": "stdout",
     "output_type": "stream",
     "text": [
      "* * * * \n",
      "* * * * \n",
      "* * * * \n",
      "* * * * \n"
     ]
    }
   ],
   "source": [
    "for i in range(4):\n",
    "    for j in range(4):\n",
    "        print('*', end=\" \")\n",
    "    print()  "
   ]
  },
  {
   "cell_type": "code",
   "execution_count": 16,
   "id": "d43c599e-e14d-486c-94fa-eca747f2034b",
   "metadata": {},
   "outputs": [
    {
     "name": "stdout",
     "output_type": "stream",
     "text": [
      "* \n",
      "* * \n",
      "* * * \n",
      "* * * * \n"
     ]
    }
   ],
   "source": [
    "#Right Triangle of Asterisks:\n",
    "for i in range(4):\n",
    "    for j in range(i+1):\n",
    "        print('*', end=\" \")\n",
    "    print()  "
   ]
  },
  {
   "cell_type": "code",
   "execution_count": 15,
   "id": "4683d4e4-a814-450b-9df9-9d8386a64cdd",
   "metadata": {},
   "outputs": [
    {
     "name": "stdout",
     "output_type": "stream",
     "text": [
      "* * * * \n",
      "* * * \n",
      "* * \n",
      "* \n"
     ]
    }
   ],
   "source": [
    "#Upside-Down Right Triangle of Asterisks:\n",
    "for i in range(4):\n",
    "    for j in range(4-i):\n",
    "        print('*', end=\" \")\n",
    "    print()  "
   ]
  },
  {
   "cell_type": "code",
   "execution_count": 52,
   "id": "fb49681d-6751-4646-82a4-bf7e542956e6",
   "metadata": {},
   "outputs": [
    {
     "name": "stdout",
     "output_type": "stream",
     "text": [
      "****\n",
      "***\n",
      "**\n",
      "*\n",
      "\n"
     ]
    }
   ],
   "source": [
    "for i in range(4,0,-1):\n",
    "        print('*'* i)\n",
    "print()"
   ]
  },
  {
   "cell_type": "code",
   "execution_count": 55,
   "id": "10fe8774-2c53-401d-b804-74fcee2e0776",
   "metadata": {},
   "outputs": [
    {
     "name": "stdout",
     "output_type": "stream",
     "text": [
      "*\n",
      "**\n",
      "***\n",
      "****\n",
      "\n"
     ]
    }
   ],
   "source": [
    "for i in range(1,5,1):\n",
    "        print('*'* i)\n",
    "print()"
   ]
  },
  {
   "cell_type": "code",
   "execution_count": 75,
   "id": "d7a10ffc-4c7b-469c-9eb1-bb02d7209f5a",
   "metadata": {},
   "outputs": [
    {
     "name": "stdout",
     "output_type": "stream",
     "text": [
      " *\n",
      "***\n",
      "\n"
     ]
    }
   ],
   "source": [
    "for i in range(1,4,2):\n",
    "    print(' '*((3-i)//2) + '*' * i)\n",
    "print()"
   ]
  },
  {
   "cell_type": "code",
   "execution_count": 74,
   "id": "d2c23b8f-dd38-4fbd-919a-06a1c228d548",
   "metadata": {},
   "outputs": [
    {
     "name": "stdout",
     "output_type": "stream",
     "text": [
      " *\n",
      "***\n"
     ]
    }
   ],
   "source": [
    "for i in range(1, 4, 2):\n",
    "    print(' ' * ((3 - i) // 2) + '*' * i)"
   ]
  },
  {
   "cell_type": "code",
   "execution_count": 79,
   "id": "b1d6731d-3ae5-4651-9dff-233e8dd16701",
   "metadata": {},
   "outputs": [
    {
     "name": "stdout",
     "output_type": "stream",
     "text": [
      "***\n",
      " *\n"
     ]
    }
   ],
   "source": [
    "for i in range(3,0,-2):\n",
    "    print(' ' * ((3 - i) // 2) + '*' * i)"
   ]
  },
  {
   "cell_type": "code",
   "execution_count": 81,
   "id": "53659227-6570-44e9-a9bb-8bd7a4450ab0",
   "metadata": {},
   "outputs": [
    {
     "name": "stdout",
     "output_type": "stream",
     "text": [
      "*\n",
      "***\n"
     ]
    }
   ],
   "source": [
    "for i in range(1, 4, 2):\n",
    "    print(' ' * ((2 - i) // 2) + '*' * i)"
   ]
  },
  {
   "cell_type": "code",
   "execution_count": 88,
   "id": "4e9a253a-43e0-4b3e-aafc-7bb6f807d24a",
   "metadata": {},
   "outputs": [
    {
     "name": "stdout",
     "output_type": "stream",
     "text": [
      " *\n",
      "***\n"
     ]
    }
   ],
   "source": [
    "for i in range(1, 4, 2):\n",
    "    print(' ' * ((4 - i) // 2) + '*' * i)"
   ]
  },
  {
   "cell_type": "code",
   "execution_count": 94,
   "id": "1d64caa1-4897-4a99-9faa-2dc6709276de",
   "metadata": {},
   "outputs": [
    {
     "name": "stdout",
     "output_type": "stream",
     "text": [
      "*\n",
      "***\n"
     ]
    }
   ],
   "source": [
    "for i in range(1, 4, 2):\n",
    "    print(' ' * ((1 - i) // 2) + '*' * i)"
   ]
  },
  {
   "cell_type": "code",
   "execution_count": 103,
   "id": "a6133bb6-d811-4bf5-bdc3-e965710390d4",
   "metadata": {},
   "outputs": [
    {
     "name": "stdout",
     "output_type": "stream",
     "text": [
      "*\n",
      "**\n",
      "***\n",
      "****\n"
     ]
    }
   ],
   "source": [
    "for i in range(1, 5, 1):\n",
    "    print('' * ((i - i) // 2) + '*' * i)\n"
   ]
  },
  {
   "cell_type": "code",
   "execution_count": null,
   "id": "e89d8e24-c363-493c-9e03-d54cca73b3c5",
   "metadata": {},
   "outputs": [],
   "source": []
  }
 ],
 "metadata": {
  "kernelspec": {
   "display_name": "Python 3 (ipykernel)",
   "language": "python",
   "name": "python3"
  },
  "language_info": {
   "codemirror_mode": {
    "name": "ipython",
    "version": 3
   },
   "file_extension": ".py",
   "mimetype": "text/x-python",
   "name": "python",
   "nbconvert_exporter": "python",
   "pygments_lexer": "ipython3",
   "version": "3.12.2"
  }
 },
 "nbformat": 4,
 "nbformat_minor": 5
}
