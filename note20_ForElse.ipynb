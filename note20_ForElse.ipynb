{
 "cells": [
  {
   "cell_type": "code",
   "execution_count": 13,
   "id": "6882ceaa-d828-41c6-a6ab-25cc8ecec6df",
   "metadata": {},
   "outputs": [
    {
     "name": "stdout",
     "output_type": "stream",
     "text": [
      "5\n",
      "not found\n",
      "10\n",
      "not found\n",
      "not found\n",
      "not found\n"
     ]
    }
   ],
   "source": [
    "num=[5,7,10,6,9,14]\n",
    "for i in num:\n",
    "    if i%5==0:\n",
    "        print(i)\n",
    "        \n",
    "    else:\n",
    "       print('not found')"
   ]
  },
  {
   "cell_type": "code",
   "execution_count": 14,
   "id": "c4006f01-0f7a-43fd-adb5-f8d47c05bcea",
   "metadata": {},
   "outputs": [
    {
     "name": "stdout",
     "output_type": "stream",
     "text": [
      "5\n"
     ]
    }
   ],
   "source": [
    "num=[5,7,10,6,9,14]\n",
    "for i in num:\n",
    "    if i%5==0:\n",
    "        print(i)\n",
    "        break\n",
    "    else:\n",
    "       print('not found')"
   ]
  },
  {
   "cell_type": "code",
   "execution_count": 21,
   "id": "b6b83829-9cd9-4efc-a81c-41c3d0b9a26b",
   "metadata": {},
   "outputs": [
    {
     "name": "stdout",
     "output_type": "stream",
     "text": [
      "not found\n",
      "not found\n",
      "not found\n",
      "not found\n"
     ]
    }
   ],
   "source": [
    "num=[7,6,9,14]\n",
    "for i in num:\n",
    "    if i%5==0:\n",
    "        print(i)\n",
    "        break\n",
    "    else:\n",
    "       print('not found')"
   ]
  },
  {
   "cell_type": "code",
   "execution_count": 17,
   "id": "534d8b59-7e67-4088-bd98-482fd1c15f8b",
   "metadata": {},
   "outputs": [
    {
     "name": "stdout",
     "output_type": "stream",
     "text": [
      "not found\n"
     ]
    }
   ],
   "source": [
    "num=[7,6,9,14]\n",
    "for i in num:\n",
    "    if i%5==0:\n",
    "        print(i)\n",
    "        break\n",
    "else:\n",
    "       print('not found')"
   ]
  },
  {
   "cell_type": "code",
   "execution_count": null,
   "id": "d98f989e-b6a8-45a5-961f-aa4b37138864",
   "metadata": {},
   "outputs": [],
   "source": [
    "num=[7,10,\n",
    "     6,9,14]\n",
    "for i in num:\n",
    "    if i%5==0:\n",
    "        print(i)\n",
    "        break\n",
    "else:\n",
    "       print('not found')"
   ]
  }
 ],
 "metadata": {
  "kernelspec": {
   "display_name": "Python 3 (ipykernel)",
   "language": "python",
   "name": "python3"
  },
  "language_info": {
   "codemirror_mode": {
    "name": "ipython",
    "version": 3
   },
   "file_extension": ".py",
   "mimetype": "text/x-python",
   "name": "python",
   "nbconvert_exporter": "python",
   "pygments_lexer": "ipython3",
   "version": "3.12.2"
  }
 },
 "nbformat": 4,
 "nbformat_minor": 5
}
