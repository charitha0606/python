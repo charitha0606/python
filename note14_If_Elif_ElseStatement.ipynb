{
 "cells": [
  {
   "cell_type": "markdown",
   "id": "937eed0b-b7bf-43f6-810d-1357a6223bd1",
   "metadata": {},
   "source": [
    "ifferent units of a CPU\n",
    "- Conditional statements in Python\n",
    "- If and Else statements\n",
    "- Execution of conditional blocks\n",
    "- What is Indentation in Python?\n",
    "- Nested if and else statements\n",
    "- if, elif and else statements\n",
    "\n",
    "\n",
    "#1\n",
    "- CPU has three parts: CU (Control Unit), ALU ( Arithmetic Logic Unit) and MU ( Memory unit).\n",
    "- MU is used to store variables and data.\n",
    "- ALU has two parts:\n",
    "1. AU - Arithmetic Unit ( it performs mathematical calculations)\n",
    "2. LU - Logical Unit ( it makes a computer think something)\n",
    "\n",
    "#2\n",
    "If statement:-\n",
    "- In programming, we have to apply conditions as per the logic of the code. In python, conditions can be applied through the if keyword.\n",
    "- Use of the if keyword specifies the flow of execution of the code.\n",
    "- Based on the condition of the problem statement, if keyword helps to decide which set of statements should be executed.\n",
    "Syntax:-\n",
    " if (condition):\n",
    "  statement;\n",
    "- The statements of the if block will be executed only when the condition of the if statement is true. If the condition is false then it will skip the execution of statements present inside the if block.\n",
    "- If consists of a block where you can write multiple statements. In python, it is also known as Suite.\n",
    "\n",
    "#2\n",
    "Indentation:-\n",
    "- In Python, we have to follow certain indentations that specify the conditions that are present inside a certain block.\n",
    "- Indentation simply means a certain number of spaces at the beginning of a code line.\n",
    "- Indentation increases the readability of the code.\n",
    "\n",
    "#3\n",
    "Else block:-\n",
    "- We can also use multiple if blocks in a code.\n",
    "- Multiple uses of the if block decrease the efficiency of a code as the condition will be checked again and again in each if block.\n",
    "- To make the code efficient, we use the else block. \n",
    "- If the condition of the if block is true then the else block will be skipped. And if the condition of the if block is false then the else block will be checked and executed.\n",
    "\n",
    "#4\n",
    "Nested if and else statements:-\n",
    "- Nested if and else statements are also allowed in Python. \n",
    "- if statement can also be checked inside other if statement. This conditional statement is called a nested if statement.\n",
    "- In nested, the inner if condition will be checked only if the outer if condition is true and that helps to see multiple conditions to be satisfied.\n",
    "- Round brackets for putting a condition in the if statement is optional. \n",
    "\n",
    "#5 \n",
    "if, elif and else statements:-\n",
    "- elif stands for if-else.\n",
    "- The if-elif statement is a shortcut of if..else chain.\n",
    "- If the if condition s false, then the condition inside the elif will be checked and executed.\n",
    "- While using if-elif statement at the end else block is added that will be executed when none of the above if-elif statements is true."
   ]
  },
  {
   "cell_type": "code",
   "execution_count": 2,
   "id": "c2206d5d-c6b2-4afd-8425-ce07229eabd6",
   "metadata": {},
   "outputs": [
    {
     "name": "stdout",
     "output_type": "stream",
     "text": [
      "Hey\n"
     ]
    }
   ],
   "source": [
    "#If statement\n",
    "if True:\n",
    "    print(\"Hey\")"
   ]
  },
  {
   "cell_type": "code",
   "execution_count": 3,
   "id": "a63ce878-dcaf-4ee4-a5b0-1004d7dc5811",
   "metadata": {},
   "outputs": [],
   "source": [
    "if False:\n",
    "    print(\"Hey\")"
   ]
  },
  {
   "cell_type": "code",
   "execution_count": 4,
   "id": "fd60171b-167f-4ba4-ac53-65ca3ff4dc45",
   "metadata": {},
   "outputs": [
    {
     "name": "stdout",
     "output_type": "stream",
     "text": [
      "Bye\n"
     ]
    }
   ],
   "source": [
    "if False:\n",
    "    print(\"Hey\")\n",
    "print(\"Bye\")    "
   ]
  },
  {
   "cell_type": "code",
   "execution_count": 7,
   "id": "22e6d9af-d6ba-4230-a4f2-1578b17991a4",
   "metadata": {},
   "outputs": [],
   "source": [
    "if False:\n",
    "    print(\"Hey\")"
   ]
  },
  {
   "cell_type": "code",
   "execution_count": 35,
   "id": "18757660-1bc6-47dd-9384-f39bc3580a07",
   "metadata": {},
   "outputs": [
    {
     "name": "stdin",
     "output_type": "stream",
     "text": [
      "number: 8\n"
     ]
    },
    {
     "name": "stdout",
     "output_type": "stream",
     "text": [
      "Even\n"
     ]
    }
   ],
   "source": [
    "#to print even\n",
    "x=int(input('number:'))\n",
    "a=x%2\n",
    "if a==0:\n",
    "    print('Even')"
   ]
  },
  {
   "cell_type": "code",
   "execution_count": 36,
   "id": "b29c9240-26d3-41d9-9cea-061d70fd7d17",
   "metadata": {},
   "outputs": [
    {
     "name": "stdin",
     "output_type": "stream",
     "text": [
      "number: 7\n"
     ]
    }
   ],
   "source": [
    "x=int(input('number:'))\n",
    "a=x%2\n",
    "if a==0:\n",
    "    print('Even')"
   ]
  },
  {
   "cell_type": "code",
   "execution_count": 37,
   "id": "bf3df5b1-60a7-4de7-982e-22f05cac306c",
   "metadata": {},
   "outputs": [
    {
     "name": "stdin",
     "output_type": "stream",
     "text": [
      "number: 5\n"
     ]
    },
    {
     "name": "stdout",
     "output_type": "stream",
     "text": [
      "odd\n"
     ]
    }
   ],
   "source": [
    "#to print odd\n",
    "x=int(input('number:'))\n",
    "a=x%2\n",
    "if a==1:\n",
    "    print('odd')"
   ]
  },
  {
   "cell_type": "code",
   "execution_count": 38,
   "id": "ac842f3b-f6fb-40d7-b97f-d83295170aea",
   "metadata": {},
   "outputs": [
    {
     "name": "stdin",
     "output_type": "stream",
     "text": [
      "number: 4\n"
     ]
    }
   ],
   "source": [
    "x=int(input('number:'))\n",
    "a=x%2\n",
    "if a==1:\n",
    "    print('odd')"
   ]
  },
  {
   "cell_type": "code",
   "execution_count": 39,
   "id": "05cddb39-79ff-4a69-902e-96003298e5f5",
   "metadata": {},
   "outputs": [
    {
     "name": "stdin",
     "output_type": "stream",
     "text": [
      "number: 5\n"
     ]
    },
    {
     "name": "stdout",
     "output_type": "stream",
     "text": [
      "Odd\n"
     ]
    }
   ],
   "source": [
    "x=int(input('number:'))\n",
    "a=x%2\n",
    "if a==0:\n",
    "    print('Even')\n",
    "if a==1:\n",
    "    print('Odd')"
   ]
  },
  {
   "cell_type": "code",
   "execution_count": 40,
   "id": "dc165e2d-cb6f-4ea9-8da4-4a6960974e6e",
   "metadata": {},
   "outputs": [
    {
     "name": "stdin",
     "output_type": "stream",
     "text": [
      "number: 6\n"
     ]
    },
    {
     "name": "stdout",
     "output_type": "stream",
     "text": [
      "Even\n"
     ]
    }
   ],
   "source": [
    "x=int(input('number:'))\n",
    "a=x%2\n",
    "if a==0:\n",
    "    print('Even')\n",
    "if a==1:\n",
    "    print('Odd')"
   ]
  },
  {
   "cell_type": "code",
   "execution_count": 41,
   "id": "3796bcdb-b09c-4082-ac69-659695711df4",
   "metadata": {},
   "outputs": [
    {
     "name": "stdin",
     "output_type": "stream",
     "text": [
      "number: 5\n"
     ]
    },
    {
     "name": "stdout",
     "output_type": "stream",
     "text": [
      "Odd\n"
     ]
    }
   ],
   "source": [
    "#ifelse\n",
    "x=int(input('number:'))\n",
    "a=x%2\n",
    "if a==0:\n",
    "    print('Even')\n",
    "else:\n",
    "    print('Odd')"
   ]
  },
  {
   "cell_type": "code",
   "execution_count": 42,
   "id": "590f370e-3357-4602-bb6c-d181db4d1ce2",
   "metadata": {},
   "outputs": [
    {
     "name": "stdin",
     "output_type": "stream",
     "text": [
      "number: 6\n"
     ]
    },
    {
     "name": "stdout",
     "output_type": "stream",
     "text": [
      "Even\n"
     ]
    }
   ],
   "source": [
    "x=int(input('number:'))\n",
    "a=x%2\n",
    "if a==0:\n",
    "    print('Even')\n",
    "else:\n",
    "    print('Odd')"
   ]
  },
  {
   "cell_type": "code",
   "execution_count": 44,
   "id": "8738711a-48eb-482f-a435-e5fb6fb6e84a",
   "metadata": {},
   "outputs": [
    {
     "name": "stdin",
     "output_type": "stream",
     "text": [
      "number: 4\n"
     ]
    },
    {
     "name": "stdout",
     "output_type": "stream",
     "text": [
      "Even\n",
      "greater than 4\n"
     ]
    }
   ],
   "source": [
    "#Nested if(if statement inside if)\n",
    "x=int(input('number:'))\n",
    "a=x%2\n",
    "if a==0:\n",
    "    print('Even')\n",
    "    if(x>=4):\n",
    "        print('greater than 4')\n",
    "    else:\n",
    "        print('not greater than 4')\n",
    "else:\n",
    "    print('Odd')"
   ]
  },
  {
   "cell_type": "code",
   "execution_count": 45,
   "id": "d8df69c4-62af-4da8-897b-24bde795b084",
   "metadata": {},
   "outputs": [
    {
     "name": "stdin",
     "output_type": "stream",
     "text": [
      "number: 3\n"
     ]
    },
    {
     "name": "stdout",
     "output_type": "stream",
     "text": [
      "Odd\n"
     ]
    }
   ],
   "source": [
    "#Nested if(if statement inside if)\n",
    "x=int(input('number:'))\n",
    "a=x%2\n",
    "if a==0:\n",
    "    print('Even')\n",
    "    if(x>=4):\n",
    "        print('greater than 4')\n",
    "    else:\n",
    "        print('not greater than 4')\n",
    "else:\n",
    "    print('Odd')"
   ]
  },
  {
   "cell_type": "code",
   "execution_count": 47,
   "id": "f2c1faf3-43e3-45fe-9906-fd353d4c118e",
   "metadata": {},
   "outputs": [
    {
     "name": "stdin",
     "output_type": "stream",
     "text": [
      "number: 2\n"
     ]
    },
    {
     "name": "stdout",
     "output_type": "stream",
     "text": [
      "Even\n",
      "not greater than 4\n"
     ]
    }
   ],
   "source": [
    "#Nested if(if statement inside if)\n",
    "x=int(input('number:'))\n",
    "a=x%2\n",
    "if a==0:\n",
    "    print('Even')\n",
    "    if(x>=4):\n",
    "        print('greater than 4')\n",
    "    else:\n",
    "        print('not greater than 4')\n",
    "else:\n",
    "    print('Odd')"
   ]
  },
  {
   "cell_type": "code",
   "execution_count": 48,
   "id": "2f59dec2-e87d-4980-834b-9c2322274344",
   "metadata": {},
   "outputs": [
    {
     "name": "stdin",
     "output_type": "stream",
     "text": [
      "number: 4\n"
     ]
    },
    {
     "name": "stdout",
     "output_type": "stream",
     "text": [
      "four\n"
     ]
    }
   ],
   "source": [
    "#elif\n",
    "a=int(input('number:'))\n",
    "if a==1:\n",
    "    print('one')\n",
    "elif a==2:\n",
    "    print('two')\n",
    "elif a==3:\n",
    "    print('three')\n",
    "elif a==4:\n",
    "    print('four')"
   ]
  },
  {
   "cell_type": "code",
   "execution_count": 49,
   "id": "f855fe5a-7352-43cd-b4fb-ff5152b2d6c6",
   "metadata": {},
   "outputs": [
    {
     "name": "stdin",
     "output_type": "stream",
     "text": [
      "number: 5\n"
     ]
    }
   ],
   "source": [
    "#elif\n",
    "a=int(input('number:'))\n",
    "if a==1:\n",
    "    print('one')\n",
    "elif a==2:\n",
    "    print('two')\n",
    "elif a==3:\n",
    "    print('three')\n",
    "elif a==4:\n",
    "    print('four')"
   ]
  },
  {
   "cell_type": "code",
   "execution_count": 50,
   "id": "ed73f268-913f-4baf-993e-5e3791e9e54f",
   "metadata": {},
   "outputs": [
    {
     "name": "stdin",
     "output_type": "stream",
     "text": [
      "number: 3\n"
     ]
    },
    {
     "name": "stdout",
     "output_type": "stream",
     "text": [
      "three\n"
     ]
    }
   ],
   "source": [
    "#elif\n",
    "a=int(input('number:'))\n",
    "if a==1:\n",
    "    print('one')\n",
    "elif a==2:\n",
    "    print('two')\n",
    "elif a==3:\n",
    "    print('three')\n",
    "elif a==4:\n",
    "    print('four')"
   ]
  },
  {
   "cell_type": "code",
   "execution_count": 51,
   "id": "45a03625-0adf-4fcd-a19c-0898e7152162",
   "metadata": {},
   "outputs": [
    {
     "name": "stdin",
     "output_type": "stream",
     "text": [
      "number: 0\n"
     ]
    }
   ],
   "source": [
    "#elif\n",
    "a=int(input('number:'))\n",
    "if a==1:\n",
    "    print('one')\n",
    "elif a==2:\n",
    "    print('two')\n",
    "elif a==3:\n",
    "    print('three')\n",
    "elif a==4:\n",
    "    print('four')"
   ]
  },
  {
   "cell_type": "code",
   "execution_count": 54,
   "id": "6f46e96f-a755-4d31-b855-9ae64d343541",
   "metadata": {},
   "outputs": [
    {
     "name": "stdin",
     "output_type": "stream",
     "text": [
      "number: 5\n"
     ]
    },
    {
     "name": "stdout",
     "output_type": "stream",
     "text": [
      "No number\n"
     ]
    }
   ],
   "source": [
    "#elif\n",
    "a=int(input('number:'))\n",
    "if a==1:\n",
    "    print('one')\n",
    "elif a==2:\n",
    "    print('two')\n",
    "elif a==3:\n",
    "    print('three')\n",
    "elif a==4:\n",
    "    print('four')\n",
    "else:\n",
    "    print('No number')    "
   ]
  },
  {
   "cell_type": "code",
   "execution_count": null,
   "id": "f1a2e724-a1c7-4d58-8284-445f3206390a",
   "metadata": {},
   "outputs": [],
   "source": []
  }
 ],
 "metadata": {
  "kernelspec": {
   "display_name": "Python 3 (ipykernel)",
   "language": "python",
   "name": "python3"
  },
  "language_info": {
   "codemirror_mode": {
    "name": "ipython",
    "version": 3
   },
   "file_extension": ".py",
   "mimetype": "text/x-python",
   "name": "python",
   "nbconvert_exporter": "python",
   "pygments_lexer": "ipython3",
   "version": "3.12.2"
  }
 },
 "nbformat": 4,
 "nbformat_minor": 5
}
