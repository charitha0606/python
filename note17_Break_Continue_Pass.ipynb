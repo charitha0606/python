{
 "cells": [
  {
   "cell_type": "markdown",
   "id": "7ad76f3f-0f2a-401b-aeb3-7df1e63b480c",
   "metadata": {},
   "source": [
    "In Python, break, continue, and pass are control flow statements that are used to\n",
    "alter the normal flow of execution in a loop or conditional statement.\n",
    "\n",
    "#1\n",
    "break: The break statement is used to terminate a loop prematurely when a certain condition is met. \n",
    "Once the break statement is encountered inside a loop, the loop is immediately terminated and the program continues \n",
    "with the next statement after the loop.\n",
    "\n",
    "for i in range(1, 6):\n",
    "    if i == 3:\n",
    "        break\n",
    "    print(i)\n",
    "\n",
    "output:\n",
    "1\n",
    "2\n",
    "\n",
    "#2\n",
    "continue: The continue statement is used to skip the current iteration of a loop and move on to the next iteration, \n",
    "without executing the remaining code in the loop for the current iteration.\n",
    "\n",
    "for i in range(1, 6):\n",
    "    if i == 3:\n",
    "        continue\n",
    "    print(i)\n",
    "\n",
    "output:\n",
    "1\n",
    "2\n",
    "4\n",
    "5\n",
    "\n",
    "\n",
    "#3\n",
    "pass: The pass statement is a placeholder statement that is used to indicate that no action should be taken. It is often used \n",
    "as a placeholder when writing code that will be filled in later.\n",
    "\n",
    "for i in range(1, 6):\n",
    "    if i == 3:\n",
    "        pass\n",
    "    else:\n",
    "        print(i)\n",
    "\n",
    "output:\n",
    "1\n",
    "2\n",
    "4\n",
    "5\n"
   ]
  },
  {
   "cell_type": "code",
   "execution_count": 6,
   "id": "f3751396-9ede-4a08-929e-7f974c021587",
   "metadata": {},
   "outputs": [
    {
     "name": "stdin",
     "output_type": "stream",
     "text": [
      "how many chocolates you want 5\n"
     ]
    },
    {
     "name": "stdout",
     "output_type": "stream",
     "text": [
      "chocolate\n",
      "chocolate\n",
      "chocolate\n",
      "chocolate\n",
      "chocolate\n"
     ]
    }
   ],
   "source": [
    "x=int(input('how many chocolates you want'))\n",
    "i=1\n",
    "while i<=x:\n",
    "    print('chocolate')\n",
    "    i=i+1"
   ]
  },
  {
   "cell_type": "code",
   "execution_count": 12,
   "id": "5ed8b9de-1718-40aa-aed9-4cded3a1bd49",
   "metadata": {},
   "outputs": [
    {
     "name": "stdin",
     "output_type": "stream",
     "text": [
      "how many chocolates you want 3\n"
     ]
    },
    {
     "name": "stdout",
     "output_type": "stream",
     "text": [
      "chocolate\n",
      "chocolate\n",
      "chocolate\n"
     ]
    }
   ],
   "source": [
    "#using break\n",
    "x=int(input('how many chocolates you want'))\n",
    "available= 5\n",
    "i=1\n",
    "while i<=x:\n",
    "    if i>available:\n",
    "        break\n",
    "    print('chocolate')\n",
    "    i=i+1"
   ]
  },
  {
   "cell_type": "code",
   "execution_count": 15,
   "id": "0554bbcf-a18e-49f8-a5fb-cc092fd24d50",
   "metadata": {},
   "outputs": [
    {
     "name": "stdin",
     "output_type": "stream",
     "text": [
      "how many chocolates you want 6\n"
     ]
    },
    {
     "name": "stdout",
     "output_type": "stream",
     "text": [
      "chocolate\n",
      "chocolate\n",
      "chocolate\n",
      "chocolate\n",
      "chocolate\n",
      "out of stock\n"
     ]
    }
   ],
   "source": [
    "#using break\n",
    "x=int(input('how many chocolates you want'))\n",
    "available= 5\n",
    "i=1\n",
    "while i<=x:\n",
    "    if i>available:\n",
    "        print('out of stock')\n",
    "        break\n",
    "    print('chocolate')\n",
    "    i=i+1"
   ]
  },
  {
   "cell_type": "code",
   "execution_count": 31,
   "id": "4299bb30-affd-4554-b5af-1853715a39b4",
   "metadata": {},
   "outputs": [
    {
     "name": "stdout",
     "output_type": "stream",
     "text": [
      "1\n",
      "2\n",
      "4\n",
      "5\n",
      "7\n",
      "8\n",
      "10\n",
      "11\n",
      "13\n",
      "14\n",
      "16\n",
      "17\n",
      "19\n",
      "20\n",
      "22\n",
      "23\n",
      "25\n",
      "26\n",
      "28\n",
      "29\n",
      "31\n",
      "32\n",
      "34\n",
      "35\n",
      "37\n",
      "38\n",
      "40\n",
      "41\n",
      "43\n",
      "44\n",
      "46\n",
      "47\n",
      "49\n",
      "50\n"
     ]
    }
   ],
   "source": [
    "#by using continue i want to print only which is not divisible by 3\n",
    "for i in range(1,51,1):\n",
    "    if i%3==0:\n",
    "        continue\n",
    "    print(i)    "
   ]
  },
  {
   "cell_type": "code",
   "execution_count": 40,
   "id": "82e492f4-70b3-41c5-8c59-2a1ad8404b10",
   "metadata": {},
   "outputs": [
    {
     "name": "stdout",
     "output_type": "stream",
     "text": [
      "3\n",
      "6\n",
      "9\n",
      "12\n",
      "15\n",
      "18\n",
      "21\n",
      "24\n",
      "27\n",
      "30\n",
      "33\n",
      "36\n",
      "39\n",
      "42\n",
      "45\n",
      "48\n"
     ]
    }
   ],
   "source": [
    "#by using continue i want to print which is divisible by 3\n",
    "for i in range(1,51,1):\n",
    "    if i%3!=0:\n",
    "        continue\n",
    "    print(i)   "
   ]
  },
  {
   "cell_type": "code",
   "execution_count": 41,
   "id": "d0cb6dbb-92d1-491b-b204-777632774f88",
   "metadata": {},
   "outputs": [
    {
     "name": "stdout",
     "output_type": "stream",
     "text": [
      "1\n",
      "2\n",
      "4\n",
      "7\n",
      "8\n",
      "11\n",
      "13\n",
      "14\n",
      "16\n",
      "17\n",
      "19\n",
      "22\n",
      "23\n",
      "26\n",
      "28\n",
      "29\n",
      "31\n",
      "32\n",
      "34\n",
      "37\n",
      "38\n",
      "41\n",
      "43\n",
      "44\n",
      "46\n",
      "47\n",
      "49\n"
     ]
    }
   ],
   "source": [
    "#by using continue i want to print which is not divisible by 3 and 5\n",
    "for i in range(1,51,1):\n",
    "    if i%3==0 or i%5==0:      #or - which is divisible by either of one\n",
    "        continue\n",
    "    print(i)"
   ]
  },
  {
   "cell_type": "code",
   "execution_count": 43,
   "id": "aff0b147-fc42-4087-816e-bc28089a6690",
   "metadata": {},
   "outputs": [
    {
     "name": "stdout",
     "output_type": "stream",
     "text": [
      "1\n",
      "2\n",
      "3\n",
      "4\n",
      "5\n",
      "6\n",
      "7\n",
      "8\n",
      "9\n",
      "10\n",
      "11\n",
      "12\n",
      "13\n",
      "14\n",
      "16\n",
      "17\n",
      "18\n",
      "19\n",
      "20\n"
     ]
    }
   ],
   "source": [
    "#by using continue i want to print which is not divisible by 3 and 5\n",
    "for i in range(1,21,1):\n",
    "    if i%3==0 and i%5==0:      #and - which is divisible by both\n",
    "        continue\n",
    "    print(i)"
   ]
  },
  {
   "cell_type": "code",
   "execution_count": 45,
   "id": "e2c2c576-6aa7-4209-bde6-82d9c30aec0c",
   "metadata": {},
   "outputs": [
    {
     "name": "stdout",
     "output_type": "stream",
     "text": [
      "1\n",
      "3\n",
      "5\n",
      "7\n",
      "9\n",
      "11\n",
      "13\n",
      "15\n",
      "17\n",
      "19\n"
     ]
    }
   ],
   "source": [
    "#i want to print all odd numbers from range 1 to 20 using pass\n",
    "for i in range(1,21,1):\n",
    "    if i%2==0:\n",
    "        pass\n",
    "    else:\n",
    "        print(i)"
   ]
  },
  {
   "cell_type": "code",
   "execution_count": 46,
   "id": "cb3d5133-b85b-437a-ab08-59f99b5c221f",
   "metadata": {},
   "outputs": [
    {
     "name": "stdout",
     "output_type": "stream",
     "text": [
      "2\n",
      "4\n",
      "6\n",
      "8\n",
      "10\n",
      "12\n",
      "14\n",
      "16\n",
      "18\n",
      "20\n"
     ]
    }
   ],
   "source": [
    "#i want to print all even numbers from range 1 to 20 using pass\n",
    "for i in range(1,21,1):\n",
    "    if i%2!=0:\n",
    "        pass\n",
    "    else:\n",
    "        print(i)"
   ]
  },
  {
   "cell_type": "code",
   "execution_count": null,
   "id": "dadd9db3-4370-4402-a82d-c83e2c27542a",
   "metadata": {},
   "outputs": [],
   "source": []
  }
 ],
 "metadata": {
  "kernelspec": {
   "display_name": "Python 3 (ipykernel)",
   "language": "python",
   "name": "python3"
  },
  "language_info": {
   "codemirror_mode": {
    "name": "ipython",
    "version": 3
   },
   "file_extension": ".py",
   "mimetype": "text/x-python",
   "name": "python",
   "nbconvert_exporter": "python",
   "pygments_lexer": "ipython3",
   "version": "3.12.2"
  }
 },
 "nbformat": 4,
 "nbformat_minor": 5
}
