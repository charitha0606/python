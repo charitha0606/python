{
  "nbformat": 4,
  "nbformat_minor": 0,
  "metadata": {
    "colab": {
      "provenance": [],
      "authorship_tag": "ABX9TyPSEd59UgDzThmouPuPwwTj",
      "include_colab_link": true
    },
    "kernelspec": {
      "name": "python3",
      "display_name": "Python 3"
    },
    "language_info": {
      "name": "python"
    }
  },
  "cells": [
    {
      "cell_type": "markdown",
      "metadata": {
        "id": "view-in-github",
        "colab_type": "text"
      },
      "source": [
        "<a href=\"https://colab.research.google.com/github/charitha0606/python/blob/main/note08_operaters.ipynb\" target=\"_parent\"><img src=\"https://colab.research.google.com/assets/colab-badge.svg\" alt=\"Open In Colab\"/></a>"
      ]
    },
    {
      "cell_type": "markdown",
      "source": [
        "Different types of operators in Python\n",
        "- Use of different operators\n",
        "- Operation performed between different operators\n",
        "- Logical operators and their uses\n",
        "#1\n",
        "- Types of operators in Python:\n",
        "1. Arithmetic operators\n",
        "2. Assignment operators\n",
        "3. Relational operators\n",
        "4. Logical operators\n",
        "5. Unary operators\n",
        "- Arithmetic operators are used to perform mathematical operations like addition, subtraction, multiplication, division, etc.\n",
        "- Assignment operation is performed with the help of equal to(=), in which we can assign a value to the variable.\n",
        "- We can also do the assignment by short-hand which means performing an arithmetic operation and then assigning the value both at the same time.\n",
        "-  We can also assign the values in one line for two variables.\n",
        " a,b = 5,6\n",
        "- Unary operator takes a single operand in an expression or a statement.\n",
        "- Comparison can be performed with the help of relational operators.\n",
        "- Comparison operators return a boolean value or True or False.\n",
        "\n",
        "#2\n",
        "- If you want to combine two or more conditions and then check the relation between them, then logical operators are used.\n",
        "- Logical operators include And, Or and Not.\n",
        "- Logical operators follow the truth table for And,  Or, and Not operators.\n",
        "- And the operator returns True when both conditions are true otherwise returns False.\n",
        "Or the operator returns True when any of the conditions or both the conditions are True otherwise it returns False.\n",
        "Not the operator reverses the value of the output.\n"
      ],
      "metadata": {
        "id": "bw1fewNqbgkh"
      }
    },
    {
      "cell_type": "markdown",
      "source": [
        "1.Arithmetic Operaters"
      ],
      "metadata": {
        "id": "FD5LSfkGcBYm"
      }
    },
    {
      "cell_type": "code",
      "source": [
        "a=10\n",
        "b=20\n",
        "a+b"
      ],
      "metadata": {
        "colab": {
          "base_uri": "https://localhost:8080/"
        },
        "id": "sO5W6U3wcCRR",
        "outputId": "b48e186e-2cd2-4db6-d4c6-165d79eef4fa"
      },
      "execution_count": null,
      "outputs": [
        {
          "output_type": "execute_result",
          "data": {
            "text/plain": [
              "30"
            ]
          },
          "metadata": {},
          "execution_count": 1
        }
      ]
    },
    {
      "cell_type": "code",
      "source": [
        "a-b"
      ],
      "metadata": {
        "colab": {
          "base_uri": "https://localhost:8080/"
        },
        "id": "ha5FG_rAcIuT",
        "outputId": "8ccf5a42-21a6-4ccc-ec63-3e263a1efbef"
      },
      "execution_count": null,
      "outputs": [
        {
          "output_type": "execute_result",
          "data": {
            "text/plain": [
              "-10"
            ]
          },
          "metadata": {},
          "execution_count": 2
        }
      ]
    },
    {
      "cell_type": "code",
      "source": [
        "a*b"
      ],
      "metadata": {
        "colab": {
          "base_uri": "https://localhost:8080/"
        },
        "id": "ncs5LclkcMiG",
        "outputId": "3165771a-027e-45be-87f1-964f6f960a65"
      },
      "execution_count": null,
      "outputs": [
        {
          "output_type": "execute_result",
          "data": {
            "text/plain": [
              "200"
            ]
          },
          "metadata": {},
          "execution_count": 3
        }
      ]
    },
    {
      "cell_type": "code",
      "source": [
        "a/b"
      ],
      "metadata": {
        "colab": {
          "base_uri": "https://localhost:8080/"
        },
        "id": "FhPV6HjDcPOs",
        "outputId": "e9249e77-f4ad-4078-fe2c-bddb68dbe03c"
      },
      "execution_count": null,
      "outputs": [
        {
          "output_type": "execute_result",
          "data": {
            "text/plain": [
              "0.5"
            ]
          },
          "metadata": {},
          "execution_count": 4
        }
      ]
    },
    {
      "cell_type": "code",
      "source": [
        "#floor division\n",
        "b//a"
      ],
      "metadata": {
        "colab": {
          "base_uri": "https://localhost:8080/"
        },
        "id": "108Du6R6cQvD",
        "outputId": "37c52f38-59f1-48d4-ebb6-c3b5e0a99ea1"
      },
      "execution_count": null,
      "outputs": [
        {
          "output_type": "execute_result",
          "data": {
            "text/plain": [
              "2"
            ]
          },
          "metadata": {},
          "execution_count": 7
        }
      ]
    },
    {
      "cell_type": "code",
      "source": [
        "a//b"
      ],
      "metadata": {
        "colab": {
          "base_uri": "https://localhost:8080/"
        },
        "id": "0NYSMvZwcm0z",
        "outputId": "d55dbf05-0647-4169-de4d-fea2c8f3e925"
      },
      "execution_count": null,
      "outputs": [
        {
          "output_type": "execute_result",
          "data": {
            "text/plain": [
              "0"
            ]
          },
          "metadata": {},
          "execution_count": 8
        }
      ]
    },
    {
      "cell_type": "markdown",
      "source": [
        "2.Assignment Operaters"
      ],
      "metadata": {
        "id": "a8PXB3HvdGa2"
      }
    },
    {
      "cell_type": "code",
      "source": [
        "d=10\n"
      ],
      "metadata": {
        "id": "CFsBwB4actqo"
      },
      "execution_count": null,
      "outputs": []
    },
    {
      "cell_type": "code",
      "source": [
        "d=d+3"
      ],
      "metadata": {
        "id": "6Ri4MMCbdOTJ"
      },
      "execution_count": null,
      "outputs": []
    },
    {
      "cell_type": "code",
      "source": [
        "d"
      ],
      "metadata": {
        "colab": {
          "base_uri": "https://localhost:8080/"
        },
        "id": "-uCRiHZAdQ0W",
        "outputId": "a8bdee6e-b583-460d-a317-5e6329a70759"
      },
      "execution_count": null,
      "outputs": [
        {
          "output_type": "execute_result",
          "data": {
            "text/plain": [
              "13"
            ]
          },
          "metadata": {},
          "execution_count": 13
        }
      ]
    },
    {
      "cell_type": "code",
      "source": [
        "d+=2"
      ],
      "metadata": {
        "id": "GXhB79MWdiye"
      },
      "execution_count": null,
      "outputs": []
    },
    {
      "cell_type": "code",
      "source": [
        "d"
      ],
      "metadata": {
        "colab": {
          "base_uri": "https://localhost:8080/"
        },
        "id": "Q336XB56dl3Q",
        "outputId": "528bb63d-0b85-4613-e3bf-28b4348e0ca7"
      },
      "execution_count": null,
      "outputs": [
        {
          "output_type": "execute_result",
          "data": {
            "text/plain": [
              "15"
            ]
          },
          "metadata": {},
          "execution_count": 15
        }
      ]
    },
    {
      "cell_type": "code",
      "source": [
        "d*=3"
      ],
      "metadata": {
        "id": "7Ctnl-G3dm8Y"
      },
      "execution_count": null,
      "outputs": []
    },
    {
      "cell_type": "code",
      "source": [
        "d"
      ],
      "metadata": {
        "colab": {
          "base_uri": "https://localhost:8080/"
        },
        "id": "359x6YuGdstf",
        "outputId": "36c3356b-85f9-46c2-8393-02ed2619d5d4"
      },
      "execution_count": null,
      "outputs": [
        {
          "output_type": "execute_result",
          "data": {
            "text/plain": [
              "45"
            ]
          },
          "metadata": {},
          "execution_count": 17
        }
      ]
    },
    {
      "cell_type": "code",
      "source": [
        "a,b=2,4"
      ],
      "metadata": {
        "id": "Cs_KfwnSd4uB"
      },
      "execution_count": null,
      "outputs": []
    },
    {
      "cell_type": "code",
      "source": [
        "a"
      ],
      "metadata": {
        "colab": {
          "base_uri": "https://localhost:8080/"
        },
        "id": "P0j1liFQd7gB",
        "outputId": "5dd5177f-9a27-46c0-dec6-e6a39e07d9a0"
      },
      "execution_count": null,
      "outputs": [
        {
          "output_type": "execute_result",
          "data": {
            "text/plain": [
              "2"
            ]
          },
          "metadata": {},
          "execution_count": 19
        }
      ]
    },
    {
      "cell_type": "code",
      "source": [
        "b"
      ],
      "metadata": {
        "colab": {
          "base_uri": "https://localhost:8080/"
        },
        "id": "1y9cHxHUd8dV",
        "outputId": "89fb58aa-1df7-45b7-ccc4-b249cd81eb36"
      },
      "execution_count": null,
      "outputs": [
        {
          "output_type": "execute_result",
          "data": {
            "text/plain": [
              "4"
            ]
          },
          "metadata": {},
          "execution_count": 20
        }
      ]
    },
    {
      "cell_type": "markdown",
      "source": [
        "3.Unary Operator"
      ],
      "metadata": {
        "id": "itTya_1feInI"
      }
    },
    {
      "cell_type": "code",
      "source": [
        "n=8"
      ],
      "metadata": {
        "id": "mcZ1WgsheMDo"
      },
      "execution_count": null,
      "outputs": []
    },
    {
      "cell_type": "code",
      "source": [
        "n"
      ],
      "metadata": {
        "colab": {
          "base_uri": "https://localhost:8080/"
        },
        "id": "lDBsVVXgeOLu",
        "outputId": "c06699b2-5295-41b5-9411-481ff8867378"
      },
      "execution_count": null,
      "outputs": [
        {
          "output_type": "execute_result",
          "data": {
            "text/plain": [
              "8"
            ]
          },
          "metadata": {},
          "execution_count": 22
        }
      ]
    },
    {
      "cell_type": "code",
      "source": [
        "-n"
      ],
      "metadata": {
        "colab": {
          "base_uri": "https://localhost:8080/"
        },
        "id": "M2PS04k9ePff",
        "outputId": "fa38b79c-ad84-4383-d45a-7e5a392e3246"
      },
      "execution_count": null,
      "outputs": [
        {
          "output_type": "execute_result",
          "data": {
            "text/plain": [
              "-8"
            ]
          },
          "metadata": {},
          "execution_count": 23
        }
      ]
    },
    {
      "cell_type": "code",
      "source": [
        "n=n\n",
        "n"
      ],
      "metadata": {
        "colab": {
          "base_uri": "https://localhost:8080/"
        },
        "id": "ffuzYyDweQ1B",
        "outputId": "7f0384bc-74e8-4d20-9ce6-67435d35ba7c"
      },
      "execution_count": null,
      "outputs": [
        {
          "output_type": "execute_result",
          "data": {
            "text/plain": [
              "8"
            ]
          },
          "metadata": {},
          "execution_count": 25
        }
      ]
    },
    {
      "cell_type": "code",
      "source": [
        "n=-n\n",
        "n"
      ],
      "metadata": {
        "colab": {
          "base_uri": "https://localhost:8080/"
        },
        "id": "ibgdt9d5eUdJ",
        "outputId": "39932203-8a0e-4627-a5e5-dfb4c040546f"
      },
      "execution_count": null,
      "outputs": [
        {
          "output_type": "execute_result",
          "data": {
            "text/plain": [
              "-8"
            ]
          },
          "metadata": {},
          "execution_count": 30
        }
      ]
    },
    {
      "cell_type": "markdown",
      "source": [
        "4.Relational Opeartor"
      ],
      "metadata": {
        "id": "Q-JtrrDaefPQ"
      }
    },
    {
      "cell_type": "code",
      "source": [
        "a=5\n",
        "b=6\n",
        "a<b"
      ],
      "metadata": {
        "colab": {
          "base_uri": "https://localhost:8080/"
        },
        "id": "Iornd9PzejZC",
        "outputId": "eb7698e0-9af4-41de-f59e-70935116dc86"
      },
      "execution_count": null,
      "outputs": [
        {
          "output_type": "execute_result",
          "data": {
            "text/plain": [
              "True"
            ]
          },
          "metadata": {},
          "execution_count": 31
        }
      ]
    },
    {
      "cell_type": "code",
      "source": [
        "b=a"
      ],
      "metadata": {
        "id": "_lhCbkdSgY5G"
      },
      "execution_count": null,
      "outputs": []
    },
    {
      "cell_type": "code",
      "source": [
        "b"
      ],
      "metadata": {
        "colab": {
          "base_uri": "https://localhost:8080/"
        },
        "id": "blvij8qWgdwK",
        "outputId": "3ff292a4-e57d-477b-bd4a-599b827ccfbb"
      },
      "execution_count": null,
      "outputs": [
        {
          "output_type": "execute_result",
          "data": {
            "text/plain": [
              "5"
            ]
          },
          "metadata": {},
          "execution_count": 33
        }
      ]
    },
    {
      "cell_type": "code",
      "source": [
        "a==b"
      ],
      "metadata": {
        "colab": {
          "base_uri": "https://localhost:8080/"
        },
        "id": "xRD5Dwy5gfIS",
        "outputId": "f4535c0a-1082-4bda-ea7d-3cc777691302"
      },
      "execution_count": null,
      "outputs": [
        {
          "output_type": "execute_result",
          "data": {
            "text/plain": [
              "True"
            ]
          },
          "metadata": {},
          "execution_count": 34
        }
      ]
    },
    {
      "cell_type": "code",
      "source": [
        "a>=b"
      ],
      "metadata": {
        "colab": {
          "base_uri": "https://localhost:8080/"
        },
        "id": "SuolkpX9gjrO",
        "outputId": "c06f28af-1e9b-471d-a4a1-c058505392e3"
      },
      "execution_count": null,
      "outputs": [
        {
          "output_type": "execute_result",
          "data": {
            "text/plain": [
              "True"
            ]
          },
          "metadata": {},
          "execution_count": 35
        }
      ]
    },
    {
      "cell_type": "code",
      "source": [
        "a<=b"
      ],
      "metadata": {
        "colab": {
          "base_uri": "https://localhost:8080/"
        },
        "id": "P_SKuv2GglMs",
        "outputId": "155cb2ec-251b-4881-b81f-6c19645ee316"
      },
      "execution_count": null,
      "outputs": [
        {
          "output_type": "execute_result",
          "data": {
            "text/plain": [
              "True"
            ]
          },
          "metadata": {},
          "execution_count": 36
        }
      ]
    },
    {
      "cell_type": "code",
      "source": [
        "a!=b"
      ],
      "metadata": {
        "colab": {
          "base_uri": "https://localhost:8080/"
        },
        "id": "xDfQXmfCgpeZ",
        "outputId": "4e9f45bf-6ee5-490d-9d42-81435b70cfab"
      },
      "execution_count": null,
      "outputs": [
        {
          "output_type": "execute_result",
          "data": {
            "text/plain": [
              "False"
            ]
          },
          "metadata": {},
          "execution_count": 37
        }
      ]
    },
    {
      "cell_type": "code",
      "source": [
        "b=8"
      ],
      "metadata": {
        "id": "I_H61B8qgtDV"
      },
      "execution_count": null,
      "outputs": []
    },
    {
      "cell_type": "code",
      "source": [
        "a==b"
      ],
      "metadata": {
        "colab": {
          "base_uri": "https://localhost:8080/"
        },
        "id": "0miXyE_sguUa",
        "outputId": "bd1fb9bd-9c05-46df-e3e6-27492b6298ee"
      },
      "execution_count": null,
      "outputs": [
        {
          "output_type": "execute_result",
          "data": {
            "text/plain": [
              "False"
            ]
          },
          "metadata": {},
          "execution_count": 39
        }
      ]
    },
    {
      "cell_type": "code",
      "source": [
        "a!=b"
      ],
      "metadata": {
        "colab": {
          "base_uri": "https://localhost:8080/"
        },
        "id": "X80jgQPcgw_e",
        "outputId": "05177fd4-4610-480a-c6c6-42751748d348"
      },
      "execution_count": null,
      "outputs": [
        {
          "output_type": "execute_result",
          "data": {
            "text/plain": [
              "True"
            ]
          },
          "metadata": {},
          "execution_count": 40
        }
      ]
    },
    {
      "cell_type": "markdown",
      "source": [
        "5.Logical Operaters"
      ],
      "metadata": {
        "id": "_v8PVIcgg2GD"
      }
    },
    {
      "cell_type": "markdown",
      "source": [
        "If you want to combine two or more conditions and then check the relation between them, then logical operators are used.\n",
        "- Logical operators include And, Or and Not.\n",
        "- Logical operators follow the truth table for And,  Or, and Not operators.\n",
        "- And the operator returns True when both conditions are true otherwise returns False.\n",
        "Or the operator returns True when any of the conditions or both the conditions are True otherwise it returns False.\n",
        "Not the operator reverses the value of the output.\n"
      ],
      "metadata": {
        "id": "2NtlgCfthkH4"
      }
    },
    {
      "cell_type": "code",
      "source": [
        "a=6\n",
        "b=8\n",
        "a>3 and b<3"
      ],
      "metadata": {
        "colab": {
          "base_uri": "https://localhost:8080/"
        },
        "id": "O25qAGuwg5cb",
        "outputId": "5c307364-be64-4b7b-f858-99d75fe575ee"
      },
      "execution_count": null,
      "outputs": [
        {
          "output_type": "execute_result",
          "data": {
            "text/plain": [
              "False"
            ]
          },
          "metadata": {},
          "execution_count": 41
        }
      ]
    },
    {
      "cell_type": "code",
      "source": [
        "a>3 and b>3"
      ],
      "metadata": {
        "colab": {
          "base_uri": "https://localhost:8080/"
        },
        "id": "rx3Z0Xq0huS1",
        "outputId": "1ad8fbd8-ccb3-4f44-ec87-4fc8e06d2854"
      },
      "execution_count": null,
      "outputs": [
        {
          "output_type": "execute_result",
          "data": {
            "text/plain": [
              "True"
            ]
          },
          "metadata": {},
          "execution_count": 42
        }
      ]
    },
    {
      "cell_type": "code",
      "source": [
        "a>3 or b<3"
      ],
      "metadata": {
        "colab": {
          "base_uri": "https://localhost:8080/"
        },
        "id": "BY7IXN9oh0OW",
        "outputId": "1600758a-4d6e-48ff-c3aa-07f8a1ad9f52"
      },
      "execution_count": null,
      "outputs": [
        {
          "output_type": "execute_result",
          "data": {
            "text/plain": [
              "True"
            ]
          },
          "metadata": {},
          "execution_count": 43
        }
      ]
    },
    {
      "cell_type": "code",
      "source": [
        "a>3 or b>3"
      ],
      "metadata": {
        "colab": {
          "base_uri": "https://localhost:8080/"
        },
        "id": "bMlVbcLth2E7",
        "outputId": "725b77bc-2237-4cf2-d69f-22b475680d7a"
      },
      "execution_count": null,
      "outputs": [
        {
          "output_type": "execute_result",
          "data": {
            "text/plain": [
              "True"
            ]
          },
          "metadata": {},
          "execution_count": 44
        }
      ]
    },
    {
      "cell_type": "code",
      "source": [
        "a<3 or b<3"
      ],
      "metadata": {
        "colab": {
          "base_uri": "https://localhost:8080/"
        },
        "id": "z5Bq4PJdh8Xj",
        "outputId": "db8c4398-cf22-4868-9f8a-ef94e54007a6"
      },
      "execution_count": null,
      "outputs": [
        {
          "output_type": "execute_result",
          "data": {
            "text/plain": [
              "False"
            ]
          },
          "metadata": {},
          "execution_count": 45
        }
      ]
    },
    {
      "cell_type": "code",
      "source": [
        "x=True\n",
        "x"
      ],
      "metadata": {
        "colab": {
          "base_uri": "https://localhost:8080/"
        },
        "id": "OdMqBOPYiCI0",
        "outputId": "ef6ab399-a9c1-45e2-9f29-ad2377beaa48"
      },
      "execution_count": null,
      "outputs": [
        {
          "output_type": "execute_result",
          "data": {
            "text/plain": [
              "True"
            ]
          },
          "metadata": {},
          "execution_count": 46
        }
      ]
    },
    {
      "cell_type": "code",
      "source": [
        "not x"
      ],
      "metadata": {
        "colab": {
          "base_uri": "https://localhost:8080/"
        },
        "id": "j-v19KZoiMAK",
        "outputId": "26a5bb05-5370-472f-cef2-37733cfc5b0c"
      },
      "execution_count": null,
      "outputs": [
        {
          "output_type": "execute_result",
          "data": {
            "text/plain": [
              "False"
            ]
          },
          "metadata": {},
          "execution_count": 47
        }
      ]
    },
    {
      "cell_type": "code",
      "source": [
        "x=not x\n",
        "x"
      ],
      "metadata": {
        "id": "o-sJcB0SiQTU",
        "outputId": "2b3eb1fb-9ee6-41cf-cf72-f85978f67464",
        "colab": {
          "base_uri": "https://localhost:8080/"
        }
      },
      "execution_count": null,
      "outputs": [
        {
          "output_type": "execute_result",
          "data": {
            "text/plain": [
              "False"
            ]
          },
          "metadata": {},
          "execution_count": 48
        }
      ]
    }
  ]
}